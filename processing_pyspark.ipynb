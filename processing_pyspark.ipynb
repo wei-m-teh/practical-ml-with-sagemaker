{
 "cells": [
  {
   "cell_type": "markdown",
   "id": "e23f93ff-5112-42cd-abe1-950870e31fe8",
   "metadata": {},
   "source": [
    "# Introduction\n",
    "This notebook will show how to perform feature engineering to extract important signals from raw customer events SageMaker PySpark library.\n",
    "\n",
    "We will manipulate data through Spark using a SparkSession, on an EMR cluster provisioned within SageMaker Studio. We'll leverage one of the SparkMagic kernels available within SageMaker Studio to commnicate with the given EMR cluster for distributed processing. Then, we will persist the final training dataset to S3 for training and inference purposes. \n",
    "\n",
    "You can visit SageMaker Spark’s GitHub repository at https://github.com/aws/sagemaker-spark to learn more about SageMaker Spark.\n",
    "\n",
    "This notebook was created and tested on an ml.m5.large notebook instance."
   ]
  },
  {
   "cell_type": "markdown",
   "id": "24c72352-42f1-4341-ba30-5cfc0c563101",
   "metadata": {
    "tags": []
   },
   "source": [
    "# Data\n",
    "\n",
    "We'll use the dataset provided by KKBox, a music streaming service made publically available by Kaggle [here](https://www.kaggle.com/competitions/kkbox-churn-prediction-challenge/data). The goal for the challenge is to predict whether a user will churn after his/her subscription expires. Specifically, we want to forecast if a user make a new service subscription transaction within 30 days after the current membership expiration date."
   ]
  },
  {
   "cell_type": "markdown",
   "id": "d83713dd-d5b2-4082-81a0-b78f04345182",
   "metadata": {},
   "source": [
    "# Connect to an Existing EMR Cluster\n",
    "\n",
    "We are going to connect the EMR cluster using the SageMaker Studio Analytics Extension before running any spark commands. \n",
    "\n",
    "## SageMaker Studio Analytics Extension\n",
    "This is a notebook extension provided by AWS SageMaker Studio Team to integrate with analytics resources. Currently, it supports connecting SageMaker Studio Notebook to Spark(EMR) cluster through SparkMagic library.\n",
    "\n",
    "## Usage\n",
    "Before you can use the magic command to connect Studio notebook to EMR, please ensure the SageMaker Studio has the connectivity to Spark cluster(livy service). You can refer to this [AWS blog](https://aws.amazon.com/blogs/machine-learning/part-1-create-and-manage-amazon-emr-clusters-from-sagemaker-studio-to-run-interactive-spark-and-ml-workloads/) for how to set up SageMaker Studio and EMR cluster."
   ]
  },
  {
   "cell_type": "code",
   "execution_count": 2,
   "id": "01483571-2f4c-435c-a550-72511740d592",
   "metadata": {
    "tags": []
   },
   "outputs": [
    {
     "name": "stdout",
     "output_type": "stream",
     "text": [
      "Successfully read emr cluster(j-1W8LX4JV7AGOM) details\n",
      "Initiating EMR connection..\n",
      "Starting Spark application\n"
     ]
    },
    {
     "data": {
      "text/html": [
       "<table>\n",
       "<tr><th>ID</th><th>YARN Application ID</th><th>Kind</th><th>State</th><th>Spark UI</th><th>Driver log</th><th>User</th><th>Current session?</th></tr><tr><td>3</td><td>application_1675012510829_0004</td><td>pyspark</td><td>idle</td><td><a target=\"_blank\" href=\"http://ip-10-51-3-242.ec2.internal:20888/proxy/application_1675012510829_0004/\">Link</a></td><td><a target=\"_blank\" href=\"http://ip-10-51-3-232.ec2.internal:8042/node/containerlogs/container_1675012510829_0004_01_000001/livy\">Link</a></td><td>None</td><td>✔</td></tr></table>"
      ],
      "text/plain": [
       "<IPython.core.display.HTML object>"
      ]
     },
     "metadata": {},
     "output_type": "display_data"
    },
    {
     "data": {
      "application/vnd.jupyter.widget-view+json": {
       "model_id": "",
       "version_major": 2,
       "version_minor": 0
      },
      "text/plain": [
       "FloatProgress(value=0.0, bar_style='info', description='Progress:', layout=Layout(height='25px', width='50%'),…"
      ]
     },
     "metadata": {},
     "output_type": "display_data"
    },
    {
     "name": "stdout",
     "output_type": "stream",
     "text": [
      "SparkSession available as 'spark'.\n",
      "{\"namespace\": \"sagemaker-analytics\", \"cluster_id\": \"j-1W8LX4JV7AGOM\", \"error_message\": null, \"success\": true, \"service\": \"emr\", \"operation\": \"connect\"}\n"
     ]
    }
   ],
   "source": [
    "%load_ext sagemaker_studio_analytics_extension.magics\n",
    "%sm_analytics emr connect --cluster-id j-1W8LX4JV7AGOM --auth-type None   "
   ]
  },
  {
   "cell_type": "markdown",
   "id": "522e19f7-58b7-47ff-91b7-b0b60b0dbacf",
   "metadata": {
    "tags": []
   },
   "source": [
    "# Setup\n",
    "\n",
    "First, we import the necessary modules and create the SparkSession, then update the Spark configuration for the given application context."
   ]
  },
  {
   "cell_type": "code",
   "execution_count": 3,
   "id": "e48bf6ca-4773-46ee-85f8-a9a75f898607",
   "metadata": {
    "tags": []
   },
   "outputs": [
    {
     "data": {
      "application/vnd.jupyter.widget-view+json": {
       "model_id": "",
       "version_major": 2,
       "version_minor": 0
      },
      "text/plain": [
       "FloatProgress(value=0.0, bar_style='info', description='Progress:', layout=Layout(height='25px', width='50%'),…"
      ]
     },
     "metadata": {},
     "output_type": "display_data"
    }
   ],
   "source": [
    "from pyspark.sql import SparkSession\n",
    "from pyspark.sql.types import IntegerType, BooleanType, DateType, StringType\n",
    "from pyspark.sql.functions import col, sum, avg, count\n",
    "from pyspark.sql import functions as F\n",
    "from pyspark.sql import types as T\n",
    "from pyspark.sql.functions import to_date\n",
    "from pyspark.sql.functions import quarter\n",
    "from pyspark.sql.functions import log\n",
    "from pyspark.sql.functions import mean\n",
    "from pyspark.sql.functions import when\n",
    "from pyspark.sql.functions import datediff\n",
    "from pyspark.sql.functions import lit\n",
    "import dateutil.parser\n",
    "from pyspark.sql.functions import log1p"
   ]
  },
  {
   "cell_type": "code",
   "execution_count": 4,
   "id": "0de4acda-12dc-4fba-8a0b-16201dfc37ee",
   "metadata": {
    "tags": []
   },
   "outputs": [
    {
     "data": {
      "application/vnd.jupyter.widget-view+json": {
       "model_id": "",
       "version_major": 2,
       "version_minor": 0
      },
      "text/plain": [
       "FloatProgress(value=0.0, bar_style='info', description='Progress:', layout=Layout(height='25px', width='50%'),…"
      ]
     },
     "metadata": {},
     "output_type": "display_data"
    }
   ],
   "source": [
    "spark = SparkSession.builder.config(\"mapreduce.fileoutputcommitter.marksuccessfuljobs\", \"false\").\\\n",
    "        config(\"spark.driver.maxResultSize\", \"30g\").\\\n",
    "        getOrCreate()"
   ]
  },
  {
   "cell_type": "code",
   "execution_count": 5,
   "id": "63862570-fe3d-4578-b94f-70290974ad92",
   "metadata": {
    "tags": []
   },
   "outputs": [
    {
     "data": {
      "application/vnd.jupyter.widget-view+json": {
       "model_id": "",
       "version_major": 2,
       "version_minor": 0
      },
      "text/plain": [
       "FloatProgress(value=0.0, bar_style='info', description='Progress:', layout=Layout(height='25px', width='50%'),…"
      ]
     },
     "metadata": {},
     "output_type": "display_data"
    }
   ],
   "source": [
    "transactions_dataset_s3 = \"s3://sagemaker-us-east-1-602900100639/data/kkbox-customer-churn-model/raw/transactions.csv\"\n",
    "churn_dataset_s3 = \"s3://sagemaker-us-east-1-602900100639/data/kkbox-customer-churn-model/raw/train.csv\"\n",
    "members_dataset_s3 = \"s3://sagemaker-us-east-1-602900100639/data/kkbox-customer-churn-model/raw/members_v3.csv\"\n",
    "users_log_dataset_s3 = \"s3://sagemaker-us-east-1-602900100639/data/kkbox-customer-churn-model/raw/user_logs.csv\"\n",
    "processed_train_dataset_s3 = \"s3://sagemaker-us-east-1-602900100639/data/kkbox-customer-churn-model/processed/train\"\n",
    "processed_test_dataset_s3 = \"s3://sagemaker-us-east-1-602900100639/data/kkbox-customer-churn-model/processed/test\"\n",
    "processed_val_dataset_s3 = \"s3://sagemaker-us-east-1-602900100639/data/kkbox-customer-churn-model/processed/validation\""
   ]
  },
  {
   "cell_type": "markdown",
   "id": "2baa5d34-d5c2-4941-b33a-7f958ab64f6d",
   "metadata": {},
   "source": [
    "# Dataset\n",
    "\n",
    "The provided dataset contains information about whether the subscribers are churn or not as of March 2017.\n",
    "\n",
    "* Transaction data for the subscribers through 2017.\n",
    "* Membership data for all the subscribers in the transaction data.\n",
    "* User log data for subscriber interaction with the music streaming application.\n"
   ]
  },
  {
   "cell_type": "markdown",
   "id": "e0be0f72-f819-4142-a6d0-396f72f25955",
   "metadata": {
    "tags": []
   },
   "source": [
    "## Churn Dataset \n",
    "Containing the user ids and whether they have churned.\n",
    "\n",
    "* msno: user id\n",
    "* is_churn: This is the target variable. Churn is defined as whether the user did not continue the subscription within 30 days of expiration. is_churn = 1 means churn,is_churn = 0 means renewal.\n"
   ]
  },
  {
   "cell_type": "code",
   "execution_count": 6,
   "id": "458749e9-ba6f-40f9-8f9a-8ebaca4f0884",
   "metadata": {
    "tags": []
   },
   "outputs": [
    {
     "data": {
      "application/vnd.jupyter.widget-view+json": {
       "model_id": "",
       "version_major": 2,
       "version_minor": 0
      },
      "text/plain": [
       "FloatProgress(value=0.0, bar_style='info', description='Progress:', layout=Layout(height='25px', width='50%'),…"
      ]
     },
     "metadata": {},
     "output_type": "display_data"
    }
   ],
   "source": [
    "train_df = spark.read.format('csv').options(header='true', inferSchema='true').load(churn_dataset_s3).cache()"
   ]
  },
  {
   "cell_type": "code",
   "execution_count": 7,
   "id": "13190438-0606-40ef-ac4a-0b8e56a2cc5b",
   "metadata": {
    "tags": []
   },
   "outputs": [
    {
     "data": {
      "application/vnd.jupyter.widget-view+json": {
       "model_id": "",
       "version_major": 2,
       "version_minor": 0
      },
      "text/plain": [
       "FloatProgress(value=0.0, bar_style='info', description='Progress:', layout=Layout(height='25px', width='50%'),…"
      ]
     },
     "metadata": {},
     "output_type": "display_data"
    },
    {
     "name": "stdout",
     "output_type": "stream",
     "text": [
      "+--------------------+--------+\n",
      "|                msno|is_churn|\n",
      "+--------------------+--------+\n",
      "|waLDQMmcOu2jLDaV1...|       1|\n",
      "|QA7uiXy8vIbUSPOkC...|       1|\n",
      "|fGwBva6hikQmTJzrb...|       1|\n",
      "|mT5V8rEpa+8wuqi6x...|       1|\n",
      "|XaPhtGLk/5UvvOYHc...|       1|\n",
      "|GBy8qSz16X5iYWD+3...|       1|\n",
      "|lYLh7TdkWpIoQs3i3...|       1|\n",
      "|T0FF6lumjKcqEO0O+...|       1|\n",
      "|Nb1ZGEmagQeba5E+n...|       1|\n",
      "|MkuWz0Nq6/Oq5fKqR...|       1|\n",
      "|I8dFN2EjFN1mt4Xel...|       1|\n",
      "|0Ip2rzeoa44alqEw3...|       1|\n",
      "|piVhWxrWDmiNQFY6x...|       1|\n",
      "|wEUOkYvyz3xTOx2p9...|       1|\n",
      "|xt4EjWRyXBMgEgKBJ...|       1|\n",
      "|QS3ob4zLlWcWzBIlb...|       1|\n",
      "|9iW/UpqRoviya9CQh...|       1|\n",
      "|d7QVMhAzjj4yc1Ojj...|       1|\n",
      "|uV7rJjHPrpNssDMmY...|       1|\n",
      "|TZxhkfZ9NwxqnUrNs...|       1|\n",
      "+--------------------+--------+\n",
      "only showing top 20 rows"
     ]
    }
   ],
   "source": [
    "train_df.show()"
   ]
  },
  {
   "cell_type": "code",
   "execution_count": 8,
   "id": "6ecbdfe0-b15f-4d88-b9e8-de7b41408a70",
   "metadata": {
    "tags": []
   },
   "outputs": [
    {
     "data": {
      "application/vnd.jupyter.widget-view+json": {
       "model_id": "",
       "version_major": 2,
       "version_minor": 0
      },
      "text/plain": [
       "FloatProgress(value=0.0, bar_style='info', description='Progress:', layout=Layout(height='25px', width='50%'),…"
      ]
     },
     "metadata": {},
     "output_type": "display_data"
    }
   ],
   "source": [
    "import matplotlib.pyplot as plt"
   ]
  },
  {
   "cell_type": "code",
   "execution_count": 9,
   "id": "e54d2bee-e2b0-4a60-978c-69713f8302b5",
   "metadata": {
    "tags": []
   },
   "outputs": [],
   "source": [
    "%matplotlib inline"
   ]
  },
  {
   "cell_type": "code",
   "execution_count": 10,
   "id": "3f72a18d-a9c8-429d-856f-0534a7a53458",
   "metadata": {
    "tags": []
   },
   "outputs": [
    {
     "data": {
      "application/vnd.jupyter.widget-view+json": {
       "model_id": "",
       "version_major": 2,
       "version_minor": 0
      },
      "text/plain": [
       "FloatProgress(value=0.0, bar_style='info', description='Progress:', layout=Layout(height='25px', width='50%'),…"
      ]
     },
     "metadata": {},
     "output_type": "display_data"
    }
   ],
   "source": [
    "train_pd = train_df.toPandas()"
   ]
  },
  {
   "cell_type": "code",
   "execution_count": 11,
   "id": "e2908d7a-9e6a-40b7-98d1-4e70edb86b8a",
   "metadata": {
    "tags": []
   },
   "outputs": [
    {
     "data": {
      "application/vnd.jupyter.widget-view+json": {
       "model_id": "",
       "version_major": 2,
       "version_minor": 0
      },
      "text/plain": [
       "FloatProgress(value=0.0, bar_style='info', description='Progress:', layout=Layout(height='25px', width='50%'),…"
      ]
     },
     "metadata": {},
     "output_type": "display_data"
    },
    {
     "name": "stdout",
     "output_type": "stream",
     "text": [
      "<AxesSubplot:title={'center':'customer churn distribution'}>"
     ]
    }
   ],
   "source": [
    "train_pd['is_churn'].value_counts().plot.bar(x='is_churn', title=\"customer churn distribution\")"
   ]
  },
  {
   "cell_type": "code",
   "execution_count": 12,
   "id": "801da7f8-6499-400d-b318-442ec6dcf124",
   "metadata": {
    "tags": []
   },
   "outputs": [
    {
     "data": {
      "application/vnd.jupyter.widget-view+json": {
       "model_id": "",
       "version_major": 2,
       "version_minor": 0
      },
      "text/plain": [
       "FloatProgress(value=0.0, bar_style='info', description='Progress:', layout=Layout(height='25px', width='50%'),…"
      ]
     },
     "metadata": {},
     "output_type": "display_data"
    },
    {
     "data": {
      "image/png": "[encoded data removed]",
      "text/plain": [
       "<IPython.core.display.Image object>"
      ]
     },
     "metadata": {},
     "output_type": "display_data"
    }
   ],
   "source": [
    "%matplot plt"
   ]
  },
  {
   "cell_type": "markdown",
   "id": "66519b22-9f08-4ad0-a303-6278430723d8",
   "metadata": {},
   "source": [
    "## Transactions DataSet\n",
    "transactions of users through 2017.\n",
    "\n",
    "* msno: user id\n",
    "* payment_method_id: payment method\n",
    "* payment_plan_days: length of membership plan in days\n",
    "* plan_list_price: in New Taiwan Dollar (NTD)\n",
    "* actual_amount_paid: in New Taiwan Dollar (NTD)\n",
    "* is_auto_renew\n",
    "* transaction_date: format %Y%m%d\n",
    "* membership_expire_date: format %Y%m%d\n",
    "* is_cancel: whether or not the user canceled the membership in this transaction."
   ]
  },
  {
   "cell_type": "code",
   "execution_count": 13,
   "id": "6c9af8dc-7799-4da7-b211-e41ce1b8d47c",
   "metadata": {
    "tags": []
   },
   "outputs": [
    {
     "data": {
      "application/vnd.jupyter.widget-view+json": {
       "model_id": "",
       "version_major": 2,
       "version_minor": 0
      },
      "text/plain": [
       "FloatProgress(value=0.0, bar_style='info', description='Progress:', layout=Layout(height='25px', width='50%'),…"
      ]
     },
     "metadata": {},
     "output_type": "display_data"
    }
   ],
   "source": [
    "trans_df = spark.read.format('csv').options(header='true', inferSchema='true').load(transactions_dataset_s3).cache()"
   ]
  },
  {
   "cell_type": "code",
   "execution_count": 14,
   "id": "9446ec41-2221-4f60-bb32-0c7b9a58410d",
   "metadata": {
    "tags": []
   },
   "outputs": [
    {
     "data": {
      "application/vnd.jupyter.widget-view+json": {
       "model_id": "",
       "version_major": 2,
       "version_minor": 0
      },
      "text/plain": [
       "FloatProgress(value=0.0, bar_style='info', description='Progress:', layout=Layout(height='25px', width='50%'),…"
      ]
     },
     "metadata": {},
     "output_type": "display_data"
    }
   ],
   "source": [
    "trans_df = trans_df.withColumn(\"transaction_date\",col(\"transaction_date\").cast(StringType())).withColumn(\"membership_expire_date\",col(\"membership_expire_date\").cast(StringType()))"
   ]
  },
  {
   "cell_type": "code",
   "execution_count": 15,
   "id": "3cb068cf-db66-48d4-bac0-afae4eca764f",
   "metadata": {
    "tags": []
   },
   "outputs": [
    {
     "data": {
      "application/vnd.jupyter.widget-view+json": {
       "model_id": "",
       "version_major": 2,
       "version_minor": 0
      },
      "text/plain": [
       "FloatProgress(value=0.0, bar_style='info', description='Progress:', layout=Layout(height='25px', width='50%'),…"
      ]
     },
     "metadata": {},
     "output_type": "display_data"
    }
   ],
   "source": [
    "def find_mode(x):\n",
    "  \"\"\"Find the value with highest occurence in the list\"\"\"\n",
    "  return max(set(x), key=x.count)\n"
   ]
  },
  {
   "cell_type": "code",
   "execution_count": 16,
   "id": "48085a60-3553-45ac-88f2-ceb0bca54c32",
   "metadata": {
    "tags": []
   },
   "outputs": [
    {
     "data": {
      "application/vnd.jupyter.widget-view+json": {
       "model_id": "",
       "version_major": 2,
       "version_minor": 0
      },
      "text/plain": [
       "FloatProgress(value=0.0, bar_style='info', description='Progress:', layout=Layout(height='25px', width='50%'),…"
      ]
     },
     "metadata": {},
     "output_type": "display_data"
    }
   ],
   "source": [
    "find_mode_udf = F.udf(find_mode, T.IntegerType())\n",
    "payment_plan_days_df = trans_df.groupby(\"msno\").agg(find_mode_udf(F.collect_list('payment_plan_days')).alias(\"max_plan_days\")).cache()"
   ]
  },
  {
   "cell_type": "code",
   "execution_count": 17,
   "id": "c1252f05-6cb9-4daa-8187-262709a5768e",
   "metadata": {
    "tags": []
   },
   "outputs": [
    {
     "data": {
      "application/vnd.jupyter.widget-view+json": {
       "model_id": "",
       "version_major": 2,
       "version_minor": 0
      },
      "text/plain": [
       "FloatProgress(value=0.0, bar_style='info', description='Progress:', layout=Layout(height='25px', width='50%'),…"
      ]
     },
     "metadata": {},
     "output_type": "display_data"
    }
   ],
   "source": [
    "payment_plan_days_pd = payment_plan_days_df.toPandas()"
   ]
  },
  {
   "cell_type": "code",
   "execution_count": 18,
   "id": "a2bbcc24-caf6-4c45-a34c-71998e98e7f2",
   "metadata": {
    "tags": []
   },
   "outputs": [
    {
     "data": {
      "application/vnd.jupyter.widget-view+json": {
       "model_id": "",
       "version_major": 2,
       "version_minor": 0
      },
      "text/plain": [
       "FloatProgress(value=0.0, bar_style='info', description='Progress:', layout=Layout(height='25px', width='50%'),…"
      ]
     },
     "metadata": {},
     "output_type": "display_data"
    },
    {
     "name": "stdout",
     "output_type": "stream",
     "text": [
      "<AxesSubplot:title={'center':'Maximum Plan Days Distribution'}>"
     ]
    }
   ],
   "source": [
    "plt.cla()\n",
    "payment_plan_days_pd['max_plan_days'].value_counts().sort_index().plot.bar(x=\"max_plan_days\",  title=\"Maximum Plan Days Distribution\", figsize=(20, 10))"
   ]
  },
  {
   "cell_type": "code",
   "execution_count": 19,
   "id": "53e73c5e-1cc3-4d6c-a883-c198be1a40c1",
   "metadata": {
    "tags": []
   },
   "outputs": [
    {
     "data": {
      "application/vnd.jupyter.widget-view+json": {
       "model_id": "",
       "version_major": 2,
       "version_minor": 0
      },
      "text/plain": [
       "FloatProgress(value=0.0, bar_style='info', description='Progress:', layout=Layout(height='25px', width='50%'),…"
      ]
     },
     "metadata": {},
     "output_type": "display_data"
    },
    {
     "data": {
      "image/png": "[encoded data removed]",
      "text/plain": [
       "<IPython.core.display.Image object>"
      ]
     },
     "metadata": {},
     "output_type": "display_data"
    }
   ],
   "source": [
    "%matplot plt"
   ]
  },
  {
   "cell_type": "markdown",
   "id": "94e50b04-03d6-4830-9371-a2abe3e8bcab",
   "metadata": {
    "tags": []
   },
   "source": [
    "The plot above shows most active subscription plans are monthly, followed by weekly. Weekly users are mostly attributed to the trial subscription."
   ]
  },
  {
   "cell_type": "code",
   "execution_count": 20,
   "id": "ceeed96c-5a61-4def-b246-cee69a444564",
   "metadata": {
    "tags": []
   },
   "outputs": [
    {
     "data": {
      "application/vnd.jupyter.widget-view+json": {
       "model_id": "",
       "version_major": 2,
       "version_minor": 0
      },
      "text/plain": [
       "FloatProgress(value=0.0, bar_style='info', description='Progress:', layout=Layout(height='25px', width='50%'),…"
      ]
     },
     "metadata": {},
     "output_type": "display_data"
    }
   ],
   "source": [
    "payment_method_id_df = trans_df.groupby(\"msno\").agg(find_mode_udf(F.collect_list('payment_method_id')).alias(\"max_payment_method_id\")).cache()"
   ]
  },
  {
   "cell_type": "code",
   "execution_count": 21,
   "id": "04ef6e54-f75d-401f-8c63-2c0e579c042f",
   "metadata": {
    "tags": []
   },
   "outputs": [
    {
     "data": {
      "application/vnd.jupyter.widget-view+json": {
       "model_id": "",
       "version_major": 2,
       "version_minor": 0
      },
      "text/plain": [
       "FloatProgress(value=0.0, bar_style='info', description='Progress:', layout=Layout(height='25px', width='50%'),…"
      ]
     },
     "metadata": {},
     "output_type": "display_data"
    }
   ],
   "source": [
    "payment_method_id_pd = payment_method_id_df.toPandas()\n"
   ]
  },
  {
   "cell_type": "code",
   "execution_count": 22,
   "id": "169d3840-6955-4392-880e-63fb212d31bc",
   "metadata": {
    "tags": []
   },
   "outputs": [
    {
     "data": {
      "application/vnd.jupyter.widget-view+json": {
       "model_id": "",
       "version_major": 2,
       "version_minor": 0
      },
      "text/plain": [
       "FloatProgress(value=0.0, bar_style='info', description='Progress:', layout=Layout(height='25px', width='50%'),…"
      ]
     },
     "metadata": {},
     "output_type": "display_data"
    },
    {
     "name": "stdout",
     "output_type": "stream",
     "text": [
      "<AxesSubplot:title={'center':'Payment Method Distribution'}>"
     ]
    }
   ],
   "source": [
    "plt.cla()\n",
    "payment_method_id_pd['max_payment_method_id'].value_counts().sort_index().plot.bar(x=\"max_payment_method_id\",  title=\"Payment Method Distribution\", figsize=(20, 10))"
   ]
  },
  {
   "cell_type": "code",
   "execution_count": 23,
   "id": "5680acd0-6ae0-42cd-826c-f6ba707b9d37",
   "metadata": {
    "tags": []
   },
   "outputs": [
    {
     "data": {
      "application/vnd.jupyter.widget-view+json": {
       "model_id": "",
       "version_major": 2,
       "version_minor": 0
      },
      "text/plain": [
       "FloatProgress(value=0.0, bar_style='info', description='Progress:', layout=Layout(height='25px', width='50%'),…"
      ]
     },
     "metadata": {},
     "output_type": "display_data"
    },
    {
     "data": {
      "image/png": "[encoded data removed]",
      "text/plain": [
       "<IPython.core.display.Image object>"
      ]
     },
     "metadata": {},
     "output_type": "display_data"
    }
   ],
   "source": [
    "%matplot plt"
   ]
  },
  {
   "cell_type": "code",
   "execution_count": 24,
   "id": "c27422e3-a166-42f9-ac47-5e1d9b3c847e",
   "metadata": {
    "tags": []
   },
   "outputs": [
    {
     "data": {
      "application/vnd.jupyter.widget-view+json": {
       "model_id": "",
       "version_major": 2,
       "version_minor": 0
      },
      "text/plain": [
       "FloatProgress(value=0.0, bar_style='info', description='Progress:', layout=Layout(height='25px', width='50%'),…"
      ]
     },
     "metadata": {},
     "output_type": "display_data"
    }
   ],
   "source": [
    "revenue = trans_df.groupby(\"msno\").agg(sum(\"actual_amount_paid\").alias(\"total_amount_paid\")).cache()"
   ]
  },
  {
   "cell_type": "code",
   "execution_count": 25,
   "id": "6ea6d861-e239-4cbc-abc2-0b233dc35973",
   "metadata": {
    "tags": []
   },
   "outputs": [
    {
     "data": {
      "application/vnd.jupyter.widget-view+json": {
       "model_id": "",
       "version_major": 2,
       "version_minor": 0
      },
      "text/plain": [
       "FloatProgress(value=0.0, bar_style='info', description='Progress:', layout=Layout(height='25px', width='50%'),…"
      ]
     },
     "metadata": {},
     "output_type": "display_data"
    }
   ],
   "source": [
    "revenue_pd = revenue.toPandas()"
   ]
  },
  {
   "cell_type": "code",
   "execution_count": 26,
   "id": "7376358e-bfe2-4495-8134-7eab8ea9946a",
   "metadata": {
    "tags": []
   },
   "outputs": [
    {
     "data": {
      "application/vnd.jupyter.widget-view+json": {
       "model_id": "",
       "version_major": 2,
       "version_minor": 0
      },
      "text/plain": [
       "FloatProgress(value=0.0, bar_style='info', description='Progress:', layout=Layout(height='25px', width='50%'),…"
      ]
     },
     "metadata": {},
     "output_type": "display_data"
    }
   ],
   "source": [
    "import pandas as pd"
   ]
  },
  {
   "cell_type": "code",
   "execution_count": 27,
   "id": "fe1f8f40-e31b-441f-b638-9e6b7fbbad6e",
   "metadata": {
    "tags": []
   },
   "outputs": [
    {
     "data": {
      "application/vnd.jupyter.widget-view+json": {
       "model_id": "",
       "version_major": 2,
       "version_minor": 0
      },
      "text/plain": [
       "FloatProgress(value=0.0, bar_style='info', description='Progress:', layout=Layout(height='25px', width='50%'),…"
      ]
     },
     "metadata": {},
     "output_type": "display_data"
    }
   ],
   "source": [
    "payment_plan_days_revenue_pd = pd.merge(payment_plan_days_pd, revenue_pd, on=\"msno\", how=\"inner\")"
   ]
  },
  {
   "cell_type": "code",
   "execution_count": 28,
   "id": "3578772c-97df-4bd1-ba03-b11c49b76f62",
   "metadata": {
    "tags": []
   },
   "outputs": [
    {
     "data": {
      "application/vnd.jupyter.widget-view+json": {
       "model_id": "",
       "version_major": 2,
       "version_minor": 0
      },
      "text/plain": [
       "FloatProgress(value=0.0, bar_style='info', description='Progress:', layout=Layout(height='25px', width='50%'),…"
      ]
     },
     "metadata": {},
     "output_type": "display_data"
    },
    {
     "name": "stdout",
     "output_type": "stream",
     "text": [
      "<AxesSubplot:title={'center':'Relationships between plan days and revenue'}, xlabel='max_plan_days', ylabel='total_amount_paid'>"
     ]
    }
   ],
   "source": [
    "plt.cla()\n",
    "payment_plan_days_revenue_pd.plot.scatter(x=\"max_plan_days\", y=\"total_amount_paid\", title=\"Relationships between plan days and revenue\")"
   ]
  },
  {
   "cell_type": "code",
   "execution_count": 29,
   "id": "18d0ac7a-47c2-4c0b-aecc-244f16630758",
   "metadata": {
    "tags": []
   },
   "outputs": [
    {
     "data": {
      "application/vnd.jupyter.widget-view+json": {
       "model_id": "",
       "version_major": 2,
       "version_minor": 0
      },
      "text/plain": [
       "FloatProgress(value=0.0, bar_style='info', description='Progress:', layout=Layout(height='25px', width='50%'),…"
      ]
     },
     "metadata": {},
     "output_type": "display_data"
    },
    {
     "data": {
      "image/png": "[encoded data removed]",
      "text/plain": [
       "<IPython.core.display.Image object>"
      ]
     },
     "metadata": {},
     "output_type": "display_data"
    }
   ],
   "source": [
    "%matplot plt"
   ]
  },
  {
   "cell_type": "markdown",
   "id": "a66be386-4a4b-4c4e-8b1e-b4cf576bd5a4",
   "metadata": {
    "tags": []
   },
   "source": [
    "The plot above reveals an interesting observation that the highest revenue do not come from users who subscribe to longest period. "
   ]
  },
  {
   "cell_type": "code",
   "execution_count": 30,
   "id": "4d9d0b63-e71b-4ee3-9eb9-9ed7158e1cb3",
   "metadata": {
    "tags": []
   },
   "outputs": [
    {
     "data": {
      "application/vnd.jupyter.widget-view+json": {
       "model_id": "",
       "version_major": 2,
       "version_minor": 0
      },
      "text/plain": [
       "FloatProgress(value=0.0, bar_style='info', description='Progress:', layout=Layout(height='25px', width='50%'),…"
      ]
     },
     "metadata": {},
     "output_type": "display_data"
    }
   ],
   "source": [
    "auto_renew_df = trans_df.groupby(\"msno\").agg(find_mode_udf(F.collect_list('is_auto_renew')).alias(\"max_auto_renew\")).cache()"
   ]
  },
  {
   "cell_type": "code",
   "execution_count": 31,
   "id": "4ba4aaf1-ed2c-41e3-ad34-9ad48dc5df6c",
   "metadata": {
    "tags": []
   },
   "outputs": [
    {
     "data": {
      "application/vnd.jupyter.widget-view+json": {
       "model_id": "",
       "version_major": 2,
       "version_minor": 0
      },
      "text/plain": [
       "FloatProgress(value=0.0, bar_style='info', description='Progress:', layout=Layout(height='25px', width='50%'),…"
      ]
     },
     "metadata": {},
     "output_type": "display_data"
    }
   ],
   "source": [
    "is_canceled_df = trans_df.groupby(\"msno\").agg(sum(\"is_cancel\").alias(\"total_is_canceled\"))"
   ]
  },
  {
   "cell_type": "code",
   "execution_count": 32,
   "id": "032fe9d9-6203-4723-9351-5d6fb88c94b1",
   "metadata": {
    "tags": []
   },
   "outputs": [
    {
     "data": {
      "application/vnd.jupyter.widget-view+json": {
       "model_id": "",
       "version_major": 2,
       "version_minor": 0
      },
      "text/plain": [
       "FloatProgress(value=0.0, bar_style='info', description='Progress:', layout=Layout(height='25px', width='50%'),…"
      ]
     },
     "metadata": {},
     "output_type": "display_data"
    }
   ],
   "source": [
    "cust_payment_method_df = trans_df.groupby(\"msno\").agg(count(\"payment_method_id\").alias(\"payment_method_id\"))"
   ]
  },
  {
   "cell_type": "code",
   "execution_count": 33,
   "id": "8e215888-a4ae-4b1a-9470-86073fd4b829",
   "metadata": {
    "tags": []
   },
   "outputs": [
    {
     "data": {
      "application/vnd.jupyter.widget-view+json": {
       "model_id": "",
       "version_major": 2,
       "version_minor": 0
      },
      "text/plain": [
       "FloatProgress(value=0.0, bar_style='info', description='Progress:', layout=Layout(height='25px', width='50%'),…"
      ]
     },
     "metadata": {},
     "output_type": "display_data"
    }
   ],
   "source": [
    "trans_df = trans_df.withColumn(\"quarter\",quarter(to_date(col(\"transaction_date\"), \"yyyyMMdd\"))). \\\n",
    "        withColumn(\"quarter_end\",quarter(to_date(col(\"membership_expire_date\"), \"yyyyMMdd\")))\n"
   ]
  },
  {
   "cell_type": "code",
   "execution_count": 34,
   "id": "fdf81901-a5de-4e2e-95d6-647e51deb8ef",
   "metadata": {
    "tags": []
   },
   "outputs": [
    {
     "data": {
      "application/vnd.jupyter.widget-view+json": {
       "model_id": "",
       "version_major": 2,
       "version_minor": 0
      },
      "text/plain": [
       "FloatProgress(value=0.0, bar_style='info', description='Progress:', layout=Layout(height='25px', width='50%'),…"
      ]
     },
     "metadata": {},
     "output_type": "display_data"
    }
   ],
   "source": [
    "quarter_df = trans_df.groupby(\"msno\").agg(find_mode_udf(F.collect_list('quarter')).alias(\"max_quarter\"))"
   ]
  },
  {
   "cell_type": "code",
   "execution_count": 35,
   "id": "d0e813f5-e379-45fa-8c43-50fb9324bc45",
   "metadata": {
    "tags": []
   },
   "outputs": [
    {
     "data": {
      "application/vnd.jupyter.widget-view+json": {
       "model_id": "",
       "version_major": 2,
       "version_minor": 0
      },
      "text/plain": [
       "FloatProgress(value=0.0, bar_style='info', description='Progress:', layout=Layout(height='25px', width='50%'),…"
      ]
     },
     "metadata": {},
     "output_type": "display_data"
    }
   ],
   "source": [
    "merged_df = cust_payment_method_df.join(payment_method_id_df, on=\"msno\").join(payment_plan_days_df, on=\"msno\").join(revenue, on=\"msno\").join(auto_renew_df, on=\"msno\").join(is_canceled_df, on=\"msno\").join(quarter_df, on=\"msno\")"
   ]
  },
  {
   "cell_type": "code",
   "execution_count": 36,
   "id": "98423d56-3119-49a3-a188-3ae3b6faf92c",
   "metadata": {
    "tags": []
   },
   "outputs": [
    {
     "data": {
      "application/vnd.jupyter.widget-view+json": {
       "model_id": "",
       "version_major": 2,
       "version_minor": 0
      },
      "text/plain": [
       "FloatProgress(value=0.0, bar_style='info', description='Progress:', layout=Layout(height='25px', width='50%'),…"
      ]
     },
     "metadata": {},
     "output_type": "display_data"
    }
   ],
   "source": [
    "merged_df = merged_df.withColumnRenamed(\"payment_method_id\", \"regist_trans\")\\\n",
    "       .withColumnRenamed(\"max_payment_method_id\", \"mst_frq_pay_met\")\\\n",
    "       .withColumnRenamed(\"max_plan_days\", \"mst_frq_plan_days\")\\\n",
    "       .withColumnRenamed(\"total_amount_paid\", \"revenue\")\\\n",
    "       .withColumnRenamed(\"max_auto_renew\", \"is_auto_renew\")\\\n",
    "       .withColumnRenamed(\"total_is_canceled\", \"regist_cancels\")\\\n",
    "       .withColumnRenamed(\"max_quarter\", \"qtr_trans\").cache()"
   ]
  },
  {
   "cell_type": "code",
   "execution_count": 37,
   "id": "f0eff846-872a-4b27-94a3-daa09559f70a",
   "metadata": {
    "tags": []
   },
   "outputs": [
    {
     "data": {
      "application/vnd.jupyter.widget-view+json": {
       "model_id": "",
       "version_major": 2,
       "version_minor": 0
      },
      "text/plain": [
       "FloatProgress(value=0.0, bar_style='info', description='Progress:', layout=Layout(height='25px', width='50%'),…"
      ]
     },
     "metadata": {},
     "output_type": "display_data"
    }
   ],
   "source": [
    "merged_pd = merged_df.toPandas()"
   ]
  },
  {
   "cell_type": "code",
   "execution_count": 38,
   "id": "9a07840a-3ab7-4862-8333-f60c11edfa7c",
   "metadata": {
    "tags": []
   },
   "outputs": [
    {
     "data": {
      "application/vnd.jupyter.widget-view+json": {
       "model_id": "",
       "version_major": 2,
       "version_minor": 0
      },
      "text/plain": [
       "FloatProgress(value=0.0, bar_style='info', description='Progress:', layout=Layout(height='25px', width='50%'),…"
      ]
     },
     "metadata": {},
     "output_type": "display_data"
    },
    {
     "name": "stdout",
     "output_type": "stream",
     "text": [
      "Index(['msno', 'regist_trans', 'mst_frq_pay_met', 'mst_frq_plan_days',\n",
      "       'revenue', 'is_auto_renew', 'regist_cancels', 'qtr_trans'],\n",
      "      dtype='object')"
     ]
    }
   ],
   "source": [
    "merged_pd.columns"
   ]
  },
  {
   "cell_type": "code",
   "execution_count": 39,
   "id": "17ac4349-07a7-4cda-af13-4ef800752666",
   "metadata": {
    "tags": []
   },
   "outputs": [
    {
     "data": {
      "application/vnd.jupyter.widget-view+json": {
       "model_id": "",
       "version_major": 2,
       "version_minor": 0
      },
      "text/plain": [
       "FloatProgress(value=0.0, bar_style='info', description='Progress:', layout=Layout(height='25px', width='50%'),…"
      ]
     },
     "metadata": {},
     "output_type": "display_data"
    },
    {
     "name": "stdout",
     "output_type": "stream",
     "text": [
      "<AxesSubplot:title={'center':'Registration By Quarter Distribution'}>"
     ]
    }
   ],
   "source": [
    "plt.cla()\n",
    "merged_pd['qtr_trans'].value_counts().sort_index().plot.bar(x='qtr_trans', title=\"Registration By Quarter Distribution\", figsize=(20, 10))"
   ]
  },
  {
   "cell_type": "code",
   "execution_count": 40,
   "id": "a6fbc704-5703-421b-8689-9002e2b6215b",
   "metadata": {
    "tags": []
   },
   "outputs": [
    {
     "data": {
      "application/vnd.jupyter.widget-view+json": {
       "model_id": "",
       "version_major": 2,
       "version_minor": 0
      },
      "text/plain": [
       "FloatProgress(value=0.0, bar_style='info', description='Progress:', layout=Layout(height='25px', width='50%'),…"
      ]
     },
     "metadata": {},
     "output_type": "display_data"
    },
    {
     "data": {
      "image/png": "[encoded data removed]",
      "text/plain": [
       "<IPython.core.display.Image object>"
      ]
     },
     "metadata": {},
     "output_type": "display_data"
    }
   ],
   "source": [
    "%matplot plt"
   ]
  },
  {
   "cell_type": "markdown",
   "id": "68bddf1c-f59a-4bdc-946e-b3eb2266a486",
   "metadata": {},
   "source": [
    "The plot above shows the most active registration falls on the first and forth quarters."
   ]
  },
  {
   "cell_type": "code",
   "execution_count": 41,
   "id": "31a879ab-4b4b-493c-8c25-19c9c9131f51",
   "metadata": {
    "tags": []
   },
   "outputs": [
    {
     "data": {
      "application/vnd.jupyter.widget-view+json": {
       "model_id": "",
       "version_major": 2,
       "version_minor": 0
      },
      "text/plain": [
       "FloatProgress(value=0.0, bar_style='info', description='Progress:', layout=Layout(height='25px', width='50%'),…"
      ]
     },
     "metadata": {},
     "output_type": "display_data"
    }
   ],
   "source": [
    "members_df = spark.read.format('csv').options(header='true', inferSchema='true').load(members_dataset_s3)"
   ]
  },
  {
   "cell_type": "code",
   "execution_count": 42,
   "id": "c0366b0a-3f79-41fa-9d18-157f1b6f36f8",
   "metadata": {
    "tags": []
   },
   "outputs": [
    {
     "data": {
      "application/vnd.jupyter.widget-view+json": {
       "model_id": "",
       "version_major": 2,
       "version_minor": 0
      },
      "text/plain": [
       "FloatProgress(value=0.0, bar_style='info', description='Progress:', layout=Layout(height='25px', width='50%'),…"
      ]
     },
     "metadata": {},
     "output_type": "display_data"
    }
   ],
   "source": [
    "members_df = members_df.na.fill(\"other\").cache()"
   ]
  },
  {
   "cell_type": "code",
   "execution_count": 43,
   "id": "a9cc18dc-e389-41f0-9814-c90d29e5a899",
   "metadata": {
    "tags": []
   },
   "outputs": [
    {
     "data": {
      "application/vnd.jupyter.widget-view+json": {
       "model_id": "",
       "version_major": 2,
       "version_minor": 0
      },
      "text/plain": [
       "FloatProgress(value=0.0, bar_style='info', description='Progress:', layout=Layout(height='25px', width='50%'),…"
      ]
     },
     "metadata": {},
     "output_type": "display_data"
    }
   ],
   "source": [
    "logs_df = spark.read.format('csv').options(header='true', inferSchema='true').load(users_log_dataset_s3)"
   ]
  },
  {
   "cell_type": "code",
   "execution_count": 44,
   "id": "aa3c8c6a-fb1b-4d6b-a24c-abe79c7a5fa4",
   "metadata": {
    "tags": []
   },
   "outputs": [
    {
     "data": {
      "application/vnd.jupyter.widget-view+json": {
       "model_id": "",
       "version_major": 2,
       "version_minor": 0
      },
      "text/plain": [
       "FloatProgress(value=0.0, bar_style='info', description='Progress:', layout=Layout(height='25px', width='50%'),…"
      ]
     },
     "metadata": {},
     "output_type": "display_data"
    }
   ],
   "source": [
    "logs_df = logs_df.withColumn(\"total_secs\",log(logs_df.total_secs))"
   ]
  },
  {
   "cell_type": "code",
   "execution_count": 45,
   "id": "799ba3be-2c8a-4f49-9980-077f2481c6c7",
   "metadata": {
    "tags": []
   },
   "outputs": [
    {
     "data": {
      "application/vnd.jupyter.widget-view+json": {
       "model_id": "",
       "version_major": 2,
       "version_minor": 0
      },
      "text/plain": [
       "FloatProgress(value=0.0, bar_style='info', description='Progress:', layout=Layout(height='25px', width='50%'),…"
      ]
     },
     "metadata": {},
     "output_type": "display_data"
    }
   ],
   "source": [
    "logs_mean_df = logs_df.groupby(\"msno\").agg(mean(\"num_25\").alias(\"num_25\"), mean(\"num_50\").alias(\"num_50\"), mean(\"num_75\").alias(\"num_75\"), mean(\"num_985\").alias(\"num_985\"), mean(\"num_100\").alias(\"num_100\"), mean(\"num_unq\").alias(\"num_unq\"), mean(\"total_secs\").alias(\"total_secs\")).cache()"
   ]
  },
  {
   "cell_type": "code",
   "execution_count": 46,
   "id": "cc58be44-96f6-4e58-8910-9bc55a164591",
   "metadata": {},
   "outputs": [
    {
     "data": {
      "application/vnd.jupyter.widget-view+json": {
       "model_id": "",
       "version_major": 2,
       "version_minor": 0
      },
      "text/plain": [
       "FloatProgress(value=0.0, bar_style='info', description='Progress:', layout=Layout(height='25px', width='50%'),…"
      ]
     },
     "metadata": {},
     "output_type": "display_data"
    }
   ],
   "source": [
    "all_df = train_df.join(merged_df, on=\"msno\", how=\"left\").join(members_df, on=\"msno\", how=\"left\").join(logs_mean_df, on=\"msno\", how=\"left\").cache()"
   ]
  },
  {
   "cell_type": "code",
   "execution_count": 47,
   "id": "28158eca-9300-4e90-b680-199647d96274",
   "metadata": {
    "tags": []
   },
   "outputs": [
    {
     "data": {
      "application/vnd.jupyter.widget-view+json": {
       "model_id": "",
       "version_major": 2,
       "version_minor": 0
      },
      "text/plain": [
       "FloatProgress(value=0.0, bar_style='info', description='Progress:', layout=Layout(height='25px', width='50%'),…"
      ]
     },
     "metadata": {},
     "output_type": "display_data"
    }
   ],
   "source": [
    "all_pd = all_df.toPandas()"
   ]
  },
  {
   "cell_type": "code",
   "execution_count": 48,
   "id": "e14d1a3c-a3e0-44e8-a9d8-38a4b5ef6f37",
   "metadata": {
    "tags": []
   },
   "outputs": [
    {
     "data": {
      "application/vnd.jupyter.widget-view+json": {
       "model_id": "",
       "version_major": 2,
       "version_minor": 0
      },
      "text/plain": [
       "FloatProgress(value=0.0, bar_style='info', description='Progress:', layout=Layout(height='25px', width='50%'),…"
      ]
     },
     "metadata": {},
     "output_type": "display_data"
    }
   ],
   "source": [
    "age_groups_pd = pd.cut(all_pd.bd,bins=[10,18,35,55,99],labels=[\"Teenagers\",\"Young Adult\",\"Middle Age Adult\", \"Elderly\"])"
   ]
  },
  {
   "cell_type": "code",
   "execution_count": 49,
   "id": "6c0b6c02-adde-4a8d-90fa-265a8857a0af",
   "metadata": {
    "tags": []
   },
   "outputs": [
    {
     "data": {
      "application/vnd.jupyter.widget-view+json": {
       "model_id": "",
       "version_major": 2,
       "version_minor": 0
      },
      "text/plain": [
       "FloatProgress(value=0.0, bar_style='info', description='Progress:', layout=Layout(height='25px', width='50%'),…"
      ]
     },
     "metadata": {},
     "output_type": "display_data"
    },
    {
     "name": "stdout",
     "output_type": "stream",
     "text": [
      "<AxesSubplot:title={'center':'Age Group Distribution'}>"
     ]
    }
   ],
   "source": [
    "plt.cla()\n",
    "age_groups_pd.value_counts().plot.bar(title=\"Age Group Distribution\")"
   ]
  },
  {
   "cell_type": "code",
   "execution_count": 50,
   "id": "c1e32b8b-bddb-4815-b3f3-c2a8a59f9c2c",
   "metadata": {
    "tags": []
   },
   "outputs": [
    {
     "data": {
      "application/vnd.jupyter.widget-view+json": {
       "model_id": "",
       "version_major": 2,
       "version_minor": 0
      },
      "text/plain": [
       "FloatProgress(value=0.0, bar_style='info', description='Progress:', layout=Layout(height='25px', width='50%'),…"
      ]
     },
     "metadata": {},
     "output_type": "display_data"
    },
    {
     "data": {
      "image/png": "[encoded data removed]",
      "text/plain": [
       "<IPython.core.display.Image object>"
      ]
     },
     "metadata": {},
     "output_type": "display_data"
    }
   ],
   "source": [
    "%matplot plt"
   ]
  },
  {
   "cell_type": "markdown",
   "id": "b3ad8624-a5d2-42ab-b655-773cd4ea86d6",
   "metadata": {
    "tags": []
   },
   "source": [
    "The plot above reveals that Young Adults (18-35) are the most popular age group who subscribe to the service.\n",
    "Based on the obervation, we will remove the outliers (elderly) from the dataset."
   ]
  },
  {
   "cell_type": "code",
   "execution_count": 51,
   "id": "616b6d80-39fd-4733-bcef-5a3d9f4a4e66",
   "metadata": {
    "tags": []
   },
   "outputs": [
    {
     "data": {
      "application/vnd.jupyter.widget-view+json": {
       "model_id": "",
       "version_major": 2,
       "version_minor": 0
      },
      "text/plain": [
       "FloatProgress(value=0.0, bar_style='info', description='Progress:', layout=Layout(height='25px', width='50%'),…"
      ]
     },
     "metadata": {},
     "output_type": "display_data"
    }
   ],
   "source": [
    "upper_thresh = 80\n",
    "all_df = all_df.withColumn(\"bd\", when(all_df.bd > upper_thresh, 0))\n",
    "all_df = all_df.na.fill(value=0,subset=[\"bd\"])"
   ]
  },
  {
   "cell_type": "code",
   "execution_count": 52,
   "id": "30aaae4e-9c06-4fe6-ab9f-c757c5fa9953",
   "metadata": {
    "tags": []
   },
   "outputs": [
    {
     "data": {
      "application/vnd.jupyter.widget-view+json": {
       "model_id": "",
       "version_major": 2,
       "version_minor": 0
      },
      "text/plain": [
       "FloatProgress(value=0.0, bar_style='info', description='Progress:', layout=Layout(height='25px', width='50%'),…"
      ]
     },
     "metadata": {},
     "output_type": "display_data"
    }
   ],
   "source": [
    "end_dt = dateutil.parser.parse('2017-03-31') \n",
    "all_df = all_df.withColumn(\"tenure\",datediff(to_date(lit(end_dt), \"yyyy-MM-dd\"), to_date(all_df.registration_init_time.cast(StringType()), \"yyyyMMdd\")) / 365).cache()"
   ]
  },
  {
   "cell_type": "code",
   "execution_count": 53,
   "id": "63208b30-a811-4626-9cab-9b137ebb63dd",
   "metadata": {
    "tags": []
   },
   "outputs": [
    {
     "data": {
      "application/vnd.jupyter.widget-view+json": {
       "model_id": "",
       "version_major": 2,
       "version_minor": 0
      },
      "text/plain": [
       "FloatProgress(value=0.0, bar_style='info', description='Progress:', layout=Layout(height='25px', width='50%'),…"
      ]
     },
     "metadata": {},
     "output_type": "display_data"
    }
   ],
   "source": [
    "all_pd = all_df.toPandas()"
   ]
  },
  {
   "cell_type": "code",
   "execution_count": 54,
   "id": "415dccd2-2d18-4631-a9eb-e0cd564ffcbc",
   "metadata": {
    "tags": []
   },
   "outputs": [
    {
     "data": {
      "application/vnd.jupyter.widget-view+json": {
       "model_id": "",
       "version_major": 2,
       "version_minor": 0
      },
      "text/plain": [
       "FloatProgress(value=0.0, bar_style='info', description='Progress:', layout=Layout(height='25px', width='50%'),…"
      ]
     },
     "metadata": {},
     "output_type": "display_data"
    },
    {
     "name": "stdout",
     "output_type": "stream",
     "text": [
      "<AxesSubplot:title={'center':'Relationships between tenure and revenue'}, xlabel='tenure', ylabel='revenue'>"
     ]
    }
   ],
   "source": [
    "plt.cla()\n",
    "all_pd.plot.scatter(x=\"tenure\", y=\"revenue\", title=\"Relationships between tenure and revenue\", figsize=(20,10))"
   ]
  },
  {
   "cell_type": "code",
   "execution_count": 55,
   "id": "810b708e-e07c-4437-95ab-be6f0abcdbf2",
   "metadata": {
    "tags": []
   },
   "outputs": [
    {
     "data": {
      "application/vnd.jupyter.widget-view+json": {
       "model_id": "",
       "version_major": 2,
       "version_minor": 0
      },
      "text/plain": [
       "FloatProgress(value=0.0, bar_style='info', description='Progress:', layout=Layout(height='25px', width='50%'),…"
      ]
     },
     "metadata": {},
     "output_type": "display_data"
    },
    {
     "data": {
      "image/png": "[encoded data removed]",
      "text/plain": [
       "<IPython.core.display.Image object>"
      ]
     },
     "metadata": {},
     "output_type": "display_data"
    }
   ],
   "source": [
    "%matplot plt"
   ]
  },
  {
   "cell_type": "markdown",
   "id": "98587dcb-eb59-4865-9ff7-c8a68bb2c520",
   "metadata": {},
   "source": [
    "We are going to clean up the dataset by assign a category (other) for the bottom .5 percent of the users, or null values for the following features\n",
    "\n",
    "* registered_via\n",
    "* mst_frq_pay_met\n",
    "* city"
   ]
  },
  {
   "cell_type": "code",
   "execution_count": 56,
   "id": "962e3610-aaec-4ab9-ac1b-902d379cb673",
   "metadata": {
    "tags": []
   },
   "outputs": [
    {
     "data": {
      "application/vnd.jupyter.widget-view+json": {
       "model_id": "",
       "version_major": 2,
       "version_minor": 0
      },
      "text/plain": [
       "FloatProgress(value=0.0, bar_style='info', description='Progress:', layout=Layout(height='25px', width='50%'),…"
      ]
     },
     "metadata": {},
     "output_type": "display_data"
    }
   ],
   "source": [
    "all_df_cnt = all_df.count()\n",
    "filtered_cols_registered_via = all_df.groupBy('registered_via').agg(count(\"registered_via\").alias(\"count_registered_via\")).filter(col(\"count_registered_via\") / all_df_cnt < 0.005).select(\"registered_via\").rdd.map(lambda x : x[0]).collect()\n",
    "filtered_df = all_df.withColumn(\"registered_via\", when(all_df.registered_via.isin(filtered_cols_registered_via) ,\"other\").\\\n",
    "                                when(all_df.registered_via.isNull() ,\"other\").otherwise(all_df.registered_via))"
   ]
  },
  {
   "cell_type": "code",
   "execution_count": 57,
   "id": "2da4a268-f943-4880-8be1-8d63b8b75c94",
   "metadata": {
    "tags": []
   },
   "outputs": [
    {
     "data": {
      "application/vnd.jupyter.widget-view+json": {
       "model_id": "",
       "version_major": 2,
       "version_minor": 0
      },
      "text/plain": [
       "FloatProgress(value=0.0, bar_style='info', description='Progress:', layout=Layout(height='25px', width='50%'),…"
      ]
     },
     "metadata": {},
     "output_type": "display_data"
    }
   ],
   "source": [
    "filtered_cols_mst_frq_pay_met = filtered_df.groupBy('mst_frq_pay_met').agg(count(\"mst_frq_pay_met\").alias(\"count_mst_frq_pay_met\")).filter(col(\"count_mst_frq_pay_met\") / all_df_cnt < 0.005).select(\"mst_frq_pay_met\").rdd.map(lambda x : x[0]).collect()\n",
    "filtered_df = filtered_df.withColumn(\"mst_frq_pay_met\", when(filtered_df.mst_frq_pay_met.isin(filtered_cols_mst_frq_pay_met) ,\"other\").\\\n",
    "                                     when(filtered_df.mst_frq_pay_met.isNull() ,\"other\").otherwise(filtered_df.mst_frq_pay_met))"
   ]
  },
  {
   "cell_type": "code",
   "execution_count": 58,
   "id": "cef20c30-fbc9-473b-bdd6-70e343504483",
   "metadata": {
    "tags": []
   },
   "outputs": [
    {
     "data": {
      "application/vnd.jupyter.widget-view+json": {
       "model_id": "",
       "version_major": 2,
       "version_minor": 0
      },
      "text/plain": [
       "FloatProgress(value=0.0, bar_style='info', description='Progress:', layout=Layout(height='25px', width='50%'),…"
      ]
     },
     "metadata": {},
     "output_type": "display_data"
    }
   ],
   "source": [
    "filtered_cols_city = filtered_df.groupBy('city').agg(count(\"city\").alias(\"count_city\")).filter(col(\"count_city\") / all_df_cnt < 0.005).select(\"city\").rdd.map(lambda x : x[0]).collect()\n",
    "filtered_df = filtered_df.withColumn(\"city\", when(filtered_df.city.isin(filtered_cols_city) ,\"other\").\\\n",
    "                                     when(filtered_df.city.isNull() ,\"other\").otherwise(filtered_df.city))"
   ]
  },
  {
   "cell_type": "markdown",
   "id": "cff516bf-ca9a-4a56-9089-5cfd573d8772",
   "metadata": {},
   "source": [
    "We will apply log1p to normalize the given columns"
   ]
  },
  {
   "cell_type": "code",
   "execution_count": 59,
   "id": "c5ee18be-b792-4f0c-b129-13ddff79edd6",
   "metadata": {
    "tags": []
   },
   "outputs": [
    {
     "data": {
      "application/vnd.jupyter.widget-view+json": {
       "model_id": "",
       "version_major": 2,
       "version_minor": 0
      },
      "text/plain": [
       "FloatProgress(value=0.0, bar_style='info', description='Progress:', layout=Layout(height='25px', width='50%'),…"
      ]
     },
     "metadata": {},
     "output_type": "display_data"
    }
   ],
   "source": [
    "filtered_df = filtered_df.withColumn(\"regist_trans\", log1p(\"regist_trans\")).\\\n",
    "withColumn(\"mst_frq_plan_days\", log1p(\"mst_frq_plan_days\")).\\\n",
    "withColumn(\"revenue\", log1p(\"revenue\")).\\\n",
    "withColumn(\"regist_cancels\", log1p(\"regist_cancels\"))"
   ]
  },
  {
   "cell_type": "markdown",
   "id": "6f953761-fa1a-491f-ad99-6097c25d1c20",
   "metadata": {
    "tags": []
   },
   "source": [
    "## Apply Train, Test And Validation Split"
   ]
  },
  {
   "cell_type": "code",
   "execution_count": 60,
   "id": "760c9872-819a-491f-b5ec-b576324903ff",
   "metadata": {
    "tags": []
   },
   "outputs": [
    {
     "data": {
      "application/vnd.jupyter.widget-view+json": {
       "model_id": "",
       "version_major": 2,
       "version_minor": 0
      },
      "text/plain": [
       "FloatProgress(value=0.0, bar_style='info', description='Progress:', layout=Layout(height='25px', width='50%'),…"
      ]
     },
     "metadata": {},
     "output_type": "display_data"
    }
   ],
   "source": [
    "train, test, validation = filtered_df.randomSplit(weights=[0.7,0.2, 0.1], seed=200)"
   ]
  },
  {
   "cell_type": "markdown",
   "id": "5bd42aae-31f5-4539-9a74-78e95c9e5cef",
   "metadata": {
    "tags": []
   },
   "source": [
    "## Drop the columns that are not considered as an important signal for our model"
   ]
  },
  {
   "cell_type": "code",
   "execution_count": 61,
   "id": "d62726c6-5246-49b1-b1a9-6b17469dc06b",
   "metadata": {
    "tags": []
   },
   "outputs": [
    {
     "data": {
      "application/vnd.jupyter.widget-view+json": {
       "model_id": "",
       "version_major": 2,
       "version_minor": 0
      },
      "text/plain": [
       "FloatProgress(value=0.0, bar_style='info', description='Progress:', layout=Layout(height='25px', width='50%'),…"
      ]
     },
     "metadata": {},
     "output_type": "display_data"
    }
   ],
   "source": [
    "final_train = train.drop('registration_init_time')\n",
    "final_test = test.drop('registration_init_time')\n",
    "final_val = validation.drop('registration_init_time')"
   ]
  },
  {
   "cell_type": "markdown",
   "id": "34f1b0a2-2fc3-4343-8db2-6a4852cdb228",
   "metadata": {},
   "source": [
    "Many numeric fields contain missing values, so we'll need to apply mean imputation to fill in those null values. \n",
    "For that, we'll use pyspark ML feature Imputer to help us fit and transform the columns"
   ]
  },
  {
   "cell_type": "code",
   "execution_count": 62,
   "id": "32025c6b-d80d-4435-80bb-156bfc5e9303",
   "metadata": {
    "tags": []
   },
   "outputs": [
    {
     "data": {
      "application/vnd.jupyter.widget-view+json": {
       "model_id": "",
       "version_major": 2,
       "version_minor": 0
      },
      "text/plain": [
       "FloatProgress(value=0.0, bar_style='info', description='Progress:', layout=Layout(height='25px', width='50%'),…"
      ]
     },
     "metadata": {},
     "output_type": "display_data"
    }
   ],
   "source": [
    "from pyspark.ml.feature import Imputer"
   ]
  },
  {
   "cell_type": "code",
   "execution_count": 63,
   "id": "9a155644-dd5d-41f1-8efe-c481a20a1788",
   "metadata": {
    "tags": []
   },
   "outputs": [
    {
     "data": {
      "application/vnd.jupyter.widget-view+json": {
       "model_id": "",
       "version_major": 2,
       "version_minor": 0
      },
      "text/plain": [
       "FloatProgress(value=0.0, bar_style='info', description='Progress:', layout=Layout(height='25px', width='50%'),…"
      ]
     },
     "metadata": {},
     "output_type": "display_data"
    },
    {
     "name": "stdout",
     "output_type": "stream",
     "text": [
      "ImputerModel: uid=Imputer_5780832c02f0, strategy=mean, missingValue=NaN, numInputCols=8, numOutputCols=8"
     ]
    }
   ],
   "source": [
    "imputer = Imputer()\n",
    "imputer.setInputCols(['num_25','num_50','num_75','num_985','num_100','num_unq','total_secs', 'tenure'])\n",
    "imputer.setOutputCols(['num_25_o','num_50_o','num_75_o','num_985_o','num_100_o','num_unq_o','total_secs_o', 'tenure_o'])\n",
    "model = imputer.fit(final_train)\n",
    "model.setInputCols(['num_25','num_50','num_75','num_985','num_100','num_unq','total_secs', 'tenure'])"
   ]
  },
  {
   "cell_type": "code",
   "execution_count": 64,
   "id": "f5e8a57d-3d90-404e-bd64-b5b335a47ad7",
   "metadata": {
    "tags": []
   },
   "outputs": [
    {
     "data": {
      "application/vnd.jupyter.widget-view+json": {
       "model_id": "",
       "version_major": 2,
       "version_minor": 0
      },
      "text/plain": [
       "FloatProgress(value=0.0, bar_style='info', description='Progress:', layout=Layout(height='25px', width='50%'),…"
      ]
     },
     "metadata": {},
     "output_type": "display_data"
    }
   ],
   "source": [
    "imputed_train = model.transform(final_train).cache()\n",
    "imputed_test = model.transform(final_test).cache()\n",
    "imputed_val = model.transform(final_val).cache()"
   ]
  },
  {
   "cell_type": "markdown",
   "id": "745b9d4d-4dab-416b-bf7c-e7173133fe50",
   "metadata": {},
   "source": [
    "Restore the column names after imputation."
   ]
  },
  {
   "cell_type": "code",
   "execution_count": 65,
   "id": "e58ad473-7e78-4742-8d52-0d36b9eafbd7",
   "metadata": {
    "tags": []
   },
   "outputs": [
    {
     "data": {
      "application/vnd.jupyter.widget-view+json": {
       "model_id": "",
       "version_major": 2,
       "version_minor": 0
      },
      "text/plain": [
       "FloatProgress(value=0.0, bar_style='info', description='Progress:', layout=Layout(height='25px', width='50%'),…"
      ]
     },
     "metadata": {},
     "output_type": "display_data"
    }
   ],
   "source": [
    "temp_imputed_train = imputed_train.drop('num_25','num_50','num_75','num_985','num_100','num_unq','total_secs', 'tenure')\n",
    "temp_imputed_test = imputed_test.drop('num_25','num_50','num_75','num_985','num_100','num_unq','total_secs', 'tenure')\n",
    "temp_imputed_val = imputed_val.drop('num_25','num_50','num_75','num_985','num_100','num_unq','total_secs', 'tenure')\n",
    "\n",
    "temp_imputed_train = temp_imputed_train.withColumnRenamed(\"num_25_o\",\"num_25\")\\\n",
    ".withColumnRenamed(\"num_50_o\",\"num_50\")\\\n",
    ".withColumnRenamed(\"num_75_o\",\"num_75\")\\\n",
    ".withColumnRenamed(\"num_985_o\",\"num_985\")\\\n",
    ".withColumnRenamed(\"num_100_o\",\"num_100\")\\\n",
    ".withColumnRenamed(\"num_unq_o\",\"num_unq\")\\\n",
    ".withColumnRenamed(\"total_secs_o\",\"total_secs\")\\\n",
    ".withColumnRenamed(\"tenure_o\",\"tenure\")\n",
    "\n",
    "temp_imputed_test = temp_imputed_test.withColumnRenamed(\"num_25_o\",\"num_25\")\\\n",
    ".withColumnRenamed(\"num_50_o\",\"num_50\")\\\n",
    ".withColumnRenamed(\"num_75_o\",\"num_75\")\\\n",
    ".withColumnRenamed(\"num_985_o\",\"num_985\")\\\n",
    ".withColumnRenamed(\"num_100_o\",\"num_100\")\\\n",
    ".withColumnRenamed(\"num_unq_o\",\"num_unq\")\\\n",
    ".withColumnRenamed(\"total_secs_o\",\"total_secs\")\\\n",
    ".withColumnRenamed(\"tenure_o\",\"tenure\")\n",
    "\n",
    "temp_imputed_val = temp_imputed_val.withColumnRenamed(\"num_25_o\",\"num_25\")\\\n",
    ".withColumnRenamed(\"num_50_o\",\"num_50\")\\\n",
    ".withColumnRenamed(\"num_75_o\",\"num_75\")\\\n",
    ".withColumnRenamed(\"num_985_o\",\"num_985\")\\\n",
    ".withColumnRenamed(\"num_100_o\",\"num_100\")\\\n",
    ".withColumnRenamed(\"num_unq_o\",\"num_unq\")\\\n",
    ".withColumnRenamed(\"total_secs_o\",\"total_secs\")\\\n",
    ".withColumnRenamed(\"tenure_o\",\"tenure\")"
   ]
  },
  {
   "cell_type": "markdown",
   "id": "d6b1bbed-06bc-4fc2-af11-f012f5fd5ace",
   "metadata": {},
   "source": [
    "Next, we need to apply encoding for the categorical columns. We'll use pyspark ML StringIndexer to apply appropriate index for each column category as followed:\n",
    "\n",
    "* city\n",
    "* gender\n",
    "* registered Via\n",
    "* wtr_trans\n",
    "* mst_frq_pay_met\n",
    "* is_auto_renew"
   ]
  },
  {
   "cell_type": "code",
   "execution_count": 66,
   "id": "6766430e-4d37-430c-9b98-380608b90662",
   "metadata": {
    "tags": []
   },
   "outputs": [
    {
     "data": {
      "application/vnd.jupyter.widget-view+json": {
       "model_id": "",
       "version_major": 2,
       "version_minor": 0
      },
      "text/plain": [
       "FloatProgress(value=0.0, bar_style='info', description='Progress:', layout=Layout(height='25px', width='50%'),…"
      ]
     },
     "metadata": {},
     "output_type": "display_data"
    }
   ],
   "source": [
    "from pyspark.ml.feature import StringIndexer"
   ]
  },
  {
   "cell_type": "code",
   "execution_count": 67,
   "id": "2abb13ec-9388-49fd-8bef-22558d7db815",
   "metadata": {
    "tags": []
   },
   "outputs": [
    {
     "data": {
      "application/vnd.jupyter.widget-view+json": {
       "model_id": "",
       "version_major": 2,
       "version_minor": 0
      },
      "text/plain": [
       "FloatProgress(value=0.0, bar_style='info', description='Progress:', layout=Layout(height='25px', width='50%'),…"
      ]
     },
     "metadata": {},
     "output_type": "display_data"
    }
   ],
   "source": [
    "indexer = StringIndexer(inputCol=\"city\", outputCol=\"cityIndex\")\n",
    "model = indexer.fit(temp_imputed_train)\n",
    "indexed_train = model.transform(temp_imputed_train).drop(\"city\").withColumnRenamed(\"cityIndex\",\"city\")\n",
    "indexed_test = model.transform(temp_imputed_test).drop(\"city\").withColumnRenamed(\"cityIndex\",\"city\")\n",
    "indexed_val = model.transform(temp_imputed_val).drop(\"city\").withColumnRenamed(\"cityIndex\",\"city\")"
   ]
  },
  {
   "cell_type": "code",
   "execution_count": 68,
   "id": "5f42acad-3643-41d5-a996-2afa8c1f4e9f",
   "metadata": {
    "tags": []
   },
   "outputs": [
    {
     "data": {
      "application/vnd.jupyter.widget-view+json": {
       "model_id": "",
       "version_major": 2,
       "version_minor": 0
      },
      "text/plain": [
       "FloatProgress(value=0.0, bar_style='info', description='Progress:', layout=Layout(height='25px', width='50%'),…"
      ]
     },
     "metadata": {},
     "output_type": "display_data"
    }
   ],
   "source": [
    "indexed_train = indexed_train.withColumn(\"gender\", when(indexed_train.gender.isNull(), \"other\").otherwise(indexed_train.gender))\n",
    "indexed_test = indexed_test.withColumn(\"gender\", when(indexed_test.gender.isNull(), \"other\").otherwise(indexed_test.gender))\n",
    "indexed_val = indexed_val.withColumn(\"gender\", when(indexed_val.gender.isNull(), \"other\").otherwise(indexed_val.gender))"
   ]
  },
  {
   "cell_type": "code",
   "execution_count": 69,
   "id": "381f3841-ed6a-4dd1-8bbb-b5289c451094",
   "metadata": {
    "tags": []
   },
   "outputs": [
    {
     "data": {
      "application/vnd.jupyter.widget-view+json": {
       "model_id": "",
       "version_major": 2,
       "version_minor": 0
      },
      "text/plain": [
       "FloatProgress(value=0.0, bar_style='info', description='Progress:', layout=Layout(height='25px', width='50%'),…"
      ]
     },
     "metadata": {},
     "output_type": "display_data"
    }
   ],
   "source": [
    "indexer = StringIndexer(inputCol=\"gender\", outputCol=\"genderIndex\")\n",
    "model = indexer.fit(indexed_train)\n",
    "indexed_train = model.transform(indexed_train).drop(\"gender\").withColumnRenamed(\"genderIndex\",\"gender\")\n",
    "indexed_test = model.transform(indexed_test).drop(\"gender\").withColumnRenamed(\"genderIndex\",\"gender\")\n",
    "indexed_val = model.transform(indexed_val).drop(\"gender\").withColumnRenamed(\"genderIndex\",\"gender\")"
   ]
  },
  {
   "cell_type": "code",
   "execution_count": 70,
   "id": "6d1224c3-b64b-4ba9-89b1-c1889729d87f",
   "metadata": {
    "tags": []
   },
   "outputs": [
    {
     "data": {
      "application/vnd.jupyter.widget-view+json": {
       "model_id": "",
       "version_major": 2,
       "version_minor": 0
      },
      "text/plain": [
       "FloatProgress(value=0.0, bar_style='info', description='Progress:', layout=Layout(height='25px', width='50%'),…"
      ]
     },
     "metadata": {},
     "output_type": "display_data"
    }
   ],
   "source": [
    "indexed_train = indexed_train.withColumn(\"registered_via\", when(indexed_train.registered_via.isNull(), \"other\").otherwise(indexed_train.registered_via))\n",
    "indexed_test = indexed_test.withColumn(\"registered_via\", when(indexed_test.registered_via.isNull(), \"other\").otherwise(indexed_test.registered_via))\n",
    "indexed_val = indexed_val.withColumn(\"registered_via\", when(indexed_val.registered_via.isNull(), \"other\").otherwise(indexed_val.registered_via))"
   ]
  },
  {
   "cell_type": "code",
   "execution_count": 71,
   "id": "6852f93b-4398-4ee1-9ab0-d4fb66b4c8bd",
   "metadata": {
    "tags": []
   },
   "outputs": [
    {
     "data": {
      "application/vnd.jupyter.widget-view+json": {
       "model_id": "",
       "version_major": 2,
       "version_minor": 0
      },
      "text/plain": [
       "FloatProgress(value=0.0, bar_style='info', description='Progress:', layout=Layout(height='25px', width='50%'),…"
      ]
     },
     "metadata": {},
     "output_type": "display_data"
    }
   ],
   "source": [
    "indexer = StringIndexer(inputCol=\"registered_via\", outputCol=\"registered_viaIndex\")\n",
    "model = indexer.fit(indexed_train)\n",
    "indexed_train = model.transform(indexed_train).drop(\"registered_via\").withColumnRenamed(\"registered_viaIndex\",\"registered_via\")\n",
    "indexed_test = model.transform(indexed_test).drop(\"registered_via\").withColumnRenamed(\"registered_viaIndex\",\"registered_via\")\n",
    "indexed_val = model.transform(indexed_val).drop(\"registered_via\").withColumnRenamed(\"registered_viaIndex\",\"registered_via\")"
   ]
  },
  {
   "cell_type": "code",
   "execution_count": 72,
   "id": "b0278cdf-e335-4a9d-b40c-5f657aa8b7b8",
   "metadata": {
    "tags": []
   },
   "outputs": [
    {
     "data": {
      "application/vnd.jupyter.widget-view+json": {
       "model_id": "",
       "version_major": 2,
       "version_minor": 0
      },
      "text/plain": [
       "FloatProgress(value=0.0, bar_style='info', description='Progress:', layout=Layout(height='25px', width='50%'),…"
      ]
     },
     "metadata": {},
     "output_type": "display_data"
    }
   ],
   "source": [
    "indexed_train = indexed_train.withColumn(\"qtr_trans\", when(indexed_train.qtr_trans.isNull(), \"other\").otherwise(indexed_train.qtr_trans))\n",
    "indexed_test = indexed_test.withColumn(\"qtr_trans\", when(indexed_test.qtr_trans.isNull(), \"other\").otherwise(indexed_test.qtr_trans))\n",
    "indexed_val = indexed_val.withColumn(\"qtr_trans\", when(indexed_val.qtr_trans.isNull(), \"other\").otherwise(indexed_val.qtr_trans))"
   ]
  },
  {
   "cell_type": "code",
   "execution_count": 73,
   "id": "708d9863-b325-4740-8f1f-cc0f828b5833",
   "metadata": {
    "tags": []
   },
   "outputs": [
    {
     "data": {
      "application/vnd.jupyter.widget-view+json": {
       "model_id": "",
       "version_major": 2,
       "version_minor": 0
      },
      "text/plain": [
       "FloatProgress(value=0.0, bar_style='info', description='Progress:', layout=Layout(height='25px', width='50%'),…"
      ]
     },
     "metadata": {},
     "output_type": "display_data"
    }
   ],
   "source": [
    "indexer = StringIndexer(inputCol=\"qtr_trans\", outputCol=\"qtr_transIndex\")\n",
    "model = indexer.fit(indexed_train)\n",
    "indexed_train = model.transform(indexed_train).drop(\"qtr_trans\").withColumnRenamed(\"qtr_transIndex\",\"qtr_trans\")\n",
    "indexed_test = model.transform(indexed_test).drop(\"qtr_trans\").withColumnRenamed(\"qtr_transIndex\",\"qtr_trans\")\n",
    "indexed_val = model.transform(indexed_val).drop(\"qtr_trans\").withColumnRenamed(\"qtr_transIndex\",\"qtr_trans\")"
   ]
  },
  {
   "cell_type": "code",
   "execution_count": 74,
   "id": "4eb65ddd-49c1-4e5e-9033-b8e37fc469bf",
   "metadata": {
    "tags": []
   },
   "outputs": [
    {
     "data": {
      "application/vnd.jupyter.widget-view+json": {
       "model_id": "",
       "version_major": 2,
       "version_minor": 0
      },
      "text/plain": [
       "FloatProgress(value=0.0, bar_style='info', description='Progress:', layout=Layout(height='25px', width='50%'),…"
      ]
     },
     "metadata": {},
     "output_type": "display_data"
    }
   ],
   "source": [
    "indexed_train = indexed_train.withColumn(\"mst_frq_pay_met\", when(indexed_train.mst_frq_pay_met.isNull(), \"other\").otherwise(indexed_train.mst_frq_pay_met))\n",
    "indexed_test = indexed_test.withColumn(\"mst_frq_pay_met\", when(indexed_test.mst_frq_pay_met.isNull(), \"other\").otherwise(indexed_test.mst_frq_pay_met))\n",
    "indexed_val = indexed_val.withColumn(\"mst_frq_pay_met\", when(indexed_val.mst_frq_pay_met.isNull(), \"other\").otherwise(indexed_val.mst_frq_pay_met))"
   ]
  },
  {
   "cell_type": "code",
   "execution_count": 75,
   "id": "d9cae1dc-a123-49bf-a94c-326d86b300c4",
   "metadata": {
    "tags": []
   },
   "outputs": [
    {
     "data": {
      "application/vnd.jupyter.widget-view+json": {
       "model_id": "",
       "version_major": 2,
       "version_minor": 0
      },
      "text/plain": [
       "FloatProgress(value=0.0, bar_style='info', description='Progress:', layout=Layout(height='25px', width='50%'),…"
      ]
     },
     "metadata": {},
     "output_type": "display_data"
    }
   ],
   "source": [
    "indexer = StringIndexer(inputCol=\"mst_frq_pay_met\", outputCol=\"mst_frq_pay_metIndex\")\n",
    "model = indexer.fit(indexed_train)\n",
    "indexed_train = model.transform(indexed_train).drop(\"mst_frq_pay_met\").withColumnRenamed(\"mst_frq_pay_metIndex\",\"mst_frq_pay_met\")\n",
    "indexed_test = model.transform(indexed_test).drop(\"mst_frq_pay_met\").withColumnRenamed(\"mst_frq_pay_metIndex\",\"mst_frq_pay_met\")\n",
    "indexed_val = model.transform(indexed_val).drop(\"mst_frq_pay_met\").withColumnRenamed(\"mst_frq_pay_metIndex\",\"mst_frq_pay_met\")"
   ]
  },
  {
   "cell_type": "code",
   "execution_count": 76,
   "id": "c9f41de9-4222-41d4-9139-6db0545820da",
   "metadata": {
    "tags": []
   },
   "outputs": [
    {
     "data": {
      "application/vnd.jupyter.widget-view+json": {
       "model_id": "",
       "version_major": 2,
       "version_minor": 0
      },
      "text/plain": [
       "FloatProgress(value=0.0, bar_style='info', description='Progress:', layout=Layout(height='25px', width='50%'),…"
      ]
     },
     "metadata": {},
     "output_type": "display_data"
    }
   ],
   "source": [
    "indexed_train = indexed_train.withColumn(\"is_auto_renew\", when(indexed_train.is_auto_renew.isNull(), \"other\").otherwise(indexed_train.is_auto_renew))\n",
    "indexed_test = indexed_test.withColumn(\"is_auto_renew\", when(indexed_test.is_auto_renew.isNull(), \"other\").otherwise(indexed_test.is_auto_renew))\n",
    "indexed_val = indexed_val.withColumn(\"is_auto_renew\", when(indexed_val.is_auto_renew.isNull(), \"other\").otherwise(indexed_val.is_auto_renew))"
   ]
  },
  {
   "cell_type": "code",
   "execution_count": 77,
   "id": "c4b0fa23-6a04-4198-b770-bcb9e54a141d",
   "metadata": {
    "tags": []
   },
   "outputs": [
    {
     "data": {
      "application/vnd.jupyter.widget-view+json": {
       "model_id": "",
       "version_major": 2,
       "version_minor": 0
      },
      "text/plain": [
       "FloatProgress(value=0.0, bar_style='info', description='Progress:', layout=Layout(height='25px', width='50%'),…"
      ]
     },
     "metadata": {},
     "output_type": "display_data"
    }
   ],
   "source": [
    "indexer = StringIndexer(inputCol=\"is_auto_renew\", outputCol=\"is_auto_renewIndex\")\n",
    "model = indexer.fit(indexed_train)\n",
    "indexed_train = model.transform(indexed_train).drop(\"is_auto_renew\").withColumnRenamed(\"is_auto_renewIndex\",\"is_auto_renew\")\n",
    "indexed_test = model.transform(indexed_test).drop(\"is_auto_renew\").withColumnRenamed(\"is_auto_renewIndex\",\"is_auto_renew\")\n",
    "indexed_val = model.transform(indexed_val).drop(\"is_auto_renew\").withColumnRenamed(\"is_auto_renewIndex\",\"is_auto_renew\")"
   ]
  },
  {
   "cell_type": "code",
   "execution_count": 78,
   "id": "b93eb647-c0ee-4203-b5fd-c706096ef670",
   "metadata": {
    "tags": []
   },
   "outputs": [
    {
     "data": {
      "application/vnd.jupyter.widget-view+json": {
       "model_id": "",
       "version_major": 2,
       "version_minor": 0
      },
      "text/plain": [
       "FloatProgress(value=0.0, bar_style='info', description='Progress:', layout=Layout(height='25px', width='50%'),…"
      ]
     },
     "metadata": {},
     "output_type": "display_data"
    },
    {
     "name": "stdout",
     "output_type": "stream",
     "text": [
      "train column : msno has 0 null values\n",
      "test column : msno has 0 null values\n",
      "validation column : msno has 0 null values\n",
      "train column : is_churn has 0 null values\n",
      "test column : is_churn has 0 null values\n",
      "validation column : is_churn has 0 null values\n",
      "train column : regist_trans has 0 null values\n",
      "test column : regist_trans has 0 null values\n",
      "validation column : regist_trans has 0 null values\n",
      "train column : mst_frq_plan_days has 0 null values\n",
      "test column : mst_frq_plan_days has 0 null values\n",
      "validation column : mst_frq_plan_days has 0 null values\n",
      "train column : revenue has 0 null values\n",
      "test column : revenue has 0 null values\n",
      "validation column : revenue has 0 null values\n",
      "train column : regist_cancels has 0 null values\n",
      "test column : regist_cancels has 0 null values\n",
      "validation column : regist_cancels has 0 null values\n",
      "train column : bd has 0 null values\n",
      "test column : bd has 0 null values\n",
      "validation column : bd has 0 null values\n",
      "train column : num_25 has 0 null values\n",
      "test column : num_25 has 0 null values\n",
      "validation column : num_25 has 0 null values\n",
      "train column : num_50 has 0 null values\n",
      "test column : num_50 has 0 null values\n",
      "validation column : num_50 has 0 null values\n",
      "train column : num_75 has 0 null values\n",
      "test column : num_75 has 0 null values\n",
      "validation column : num_75 has 0 null values\n",
      "train column : num_985 has 0 null values\n",
      "test column : num_985 has 0 null values\n",
      "validation column : num_985 has 0 null values\n",
      "train column : num_100 has 0 null values\n",
      "test column : num_100 has 0 null values\n",
      "validation column : num_100 has 0 null values\n",
      "train column : num_unq has 0 null values\n",
      "test column : num_unq has 0 null values\n",
      "validation column : num_unq has 0 null values\n",
      "train column : total_secs has 0 null values\n",
      "test column : total_secs has 0 null values\n",
      "validation column : total_secs has 0 null values\n",
      "train column : tenure has 0 null values\n",
      "test column : tenure has 0 null values\n",
      "validation column : tenure has 0 null values\n",
      "train column : city has 0 null values\n",
      "test column : city has 0 null values\n",
      "validation column : city has 0 null values\n",
      "train column : gender has 0 null values\n",
      "test column : gender has 0 null values\n",
      "validation column : gender has 0 null values\n",
      "train column : registered_via has 0 null values\n",
      "test column : registered_via has 0 null values\n",
      "validation column : registered_via has 0 null values\n",
      "train column : qtr_trans has 0 null values\n",
      "test column : qtr_trans has 0 null values\n",
      "validation column : qtr_trans has 0 null values\n",
      "train column : mst_frq_pay_met has 0 null values\n",
      "test column : mst_frq_pay_met has 0 null values\n",
      "validation column : mst_frq_pay_met has 0 null values\n",
      "train column : is_auto_renew has 0 null values\n",
      "test column : is_auto_renew has 0 null values\n",
      "validation column : is_auto_renew has 0 null values"
     ]
    }
   ],
   "source": [
    "for c in indexed_train.columns:\n",
    "    print(f\"train column : {c} has {indexed_train.filter(col(c).isNull()).count()} null values\")\n",
    "    print(f\"test column : {c} has {indexed_test.filter(col(c).isNull()).count()} null values\")\n",
    "    print(f\"validation column : {c} has {indexed_val.filter(col(c).isNull()).count()} null values\")"
   ]
  },
  {
   "cell_type": "markdown",
   "id": "9d00d288-0b83-4532-bf1c-c3ea7c4041bc",
   "metadata": {},
   "source": [
    "Given the class imbalance between churn and not churn, we'll apply an oversampling technique to balance these occurences.\n",
    "The oversampling technique used here is sample the records with minor category (is_churn == 1) and duplicate the records to make the ratio 1:1."
   ]
  },
  {
   "cell_type": "code",
   "execution_count": 79,
   "id": "19e5d944-7853-4972-9093-290642f6c171",
   "metadata": {},
   "outputs": [
    {
     "data": {
      "application/vnd.jupyter.widget-view+json": {
       "model_id": "",
       "version_major": 2,
       "version_minor": 0
      },
      "text/plain": [
       "FloatProgress(value=0.0, bar_style='info', description='Progress:', layout=Layout(height='25px', width='50%'),…"
      ]
     },
     "metadata": {},
     "output_type": "display_data"
    }
   ],
   "source": [
    "from pyspark.sql.functions import col, explode, array, lit\n",
    "\n",
    "major_df = indexed_train.filter(col(\"is_churn\") == 0)\n",
    "minor_df = indexed_train.filter(col(\"is_churn\") == 1)\n",
    "ratio = int(major_df.count()/minor_df.count())"
   ]
  },
  {
   "cell_type": "code",
   "execution_count": 80,
   "id": "5cd4fbe4-4200-4c7d-8f20-c4ed9058b06f",
   "metadata": {
    "tags": []
   },
   "outputs": [
    {
     "data": {
      "application/vnd.jupyter.widget-view+json": {
       "model_id": "",
       "version_major": 2,
       "version_minor": 0
      },
      "text/plain": [
       "FloatProgress(value=0.0, bar_style='info', description='Progress:', layout=Layout(height='25px', width='50%'),…"
      ]
     },
     "metadata": {},
     "output_type": "display_data"
    }
   ],
   "source": [
    "a = range(ratio)# duplicate the minority rows\n",
    "oversampled_df = minor_df.withColumn(\"dummy\", explode(array([lit(x) for x in a]))).drop('dummy')"
   ]
  },
  {
   "cell_type": "code",
   "execution_count": 81,
   "id": "eb48e402-49b5-408d-981b-b78e1cda013b",
   "metadata": {},
   "outputs": [
    {
     "data": {
      "application/vnd.jupyter.widget-view+json": {
       "model_id": "",
       "version_major": 2,
       "version_minor": 0
      },
      "text/plain": [
       "FloatProgress(value=0.0, bar_style='info', description='Progress:', layout=Layout(height='25px', width='50%'),…"
      ]
     },
     "metadata": {},
     "output_type": "display_data"
    }
   ],
   "source": [
    "final_train = major_df.unionAll(oversampled_df)"
   ]
  },
  {
   "cell_type": "code",
   "execution_count": 82,
   "id": "6baa593a-9c95-4378-8f8b-a51807d2acd0",
   "metadata": {
    "tags": []
   },
   "outputs": [
    {
     "data": {
      "application/vnd.jupyter.widget-view+json": {
       "model_id": "",
       "version_major": 2,
       "version_minor": 0
      },
      "text/plain": [
       "FloatProgress(value=0.0, bar_style='info', description='Progress:', layout=Layout(height='25px', width='50%'),…"
      ]
     },
     "metadata": {},
     "output_type": "display_data"
    }
   ],
   "source": [
    "final_train.coalesce(1).write.mode('overwrite').option(\"header\",False).csv(processed_train_dataset_s3)"
   ]
  },
  {
   "cell_type": "code",
   "execution_count": 83,
   "id": "a7a9c539-01f7-4088-ad58-1a8992d9bb27",
   "metadata": {
    "tags": []
   },
   "outputs": [
    {
     "data": {
      "application/vnd.jupyter.widget-view+json": {
       "model_id": "",
       "version_major": 2,
       "version_minor": 0
      },
      "text/plain": [
       "FloatProgress(value=0.0, bar_style='info', description='Progress:', layout=Layout(height='25px', width='50%'),…"
      ]
     },
     "metadata": {},
     "output_type": "display_data"
    }
   ],
   "source": [
    "indexed_test.coalesce(1).write.mode('overwrite').option(\"header\",False).csv(processed_test_dataset_s3)"
   ]
  },
  {
   "cell_type": "code",
   "execution_count": 84,
   "id": "5a1b2ee1-e6be-4c1d-83ab-5efb4ff23d09",
   "metadata": {},
   "outputs": [
    {
     "data": {
      "application/vnd.jupyter.widget-view+json": {
       "model_id": "",
       "version_major": 2,
       "version_minor": 0
      },
      "text/plain": [
       "FloatProgress(value=0.0, bar_style='info', description='Progress:', layout=Layout(height='25px', width='50%'),…"
      ]
     },
     "metadata": {},
     "output_type": "display_data"
    }
   ],
   "source": [
    "indexed_val.coalesce(1).write.mode('overwrite').option(\"header\",False).csv(processed_val_dataset_s3)"
   ]
  },
  {
   "cell_type": "code",
   "execution_count": null,
   "id": "6d5ec632-97f0-4262-a5b1-5e4813d8d12b",
   "metadata": {},
   "outputs": [],
   "source": []
  }
 ],
 "metadata": {
  "instance_type": "ml.m5.2xlarge",
  "kernelspec": {
   "display_name": "SparkMagic PySpark (SparkAnalytics 2.0)",
   "language": "python",
   "name": "conda-env-sm_sparkmagic-pysparkkernel__SAGEMAKER_INTERNAL__arn:aws:sagemaker:us-east-1:081325390199:image/sagemaker-sparkanalytics-310-v1"
  },
  "language_info": {
   "codemirror_mode": {
    "name": "python",
    "version": 3
   },
   "file_extension": ".py",
   "mimetype": "text/x-python",
   "name": "pyspark",
   "pygments_lexer": "python3"
  }
 },
 "nbformat": 4,
 "nbformat_minor": 5
}
