{
 "cells": [
  {
   "cell_type": "markdown",
   "id": "dab9d2dd-998a-48b6-bdfc-8af8253144cd",
   "metadata": {},
   "source": [
    "## Amazon SageMaker Model Governance - Model Cards\n",
    "This notebook walks you through the features of Amazon SageMaker Model Cards. For more information, see [Model Cards in the Amazon SageMaker Developer Guide.](https://docs.aws.amazon.com/sagemaker/latest/dg/model-cards.html)\n",
    "\n",
    "Amazon SageMaker Model Cards give you the ability to create a centralized, customizable fact-sheet to document critical details about your machine learning (ML) models. Use model cards to keep a record of model information, such as intended uses, risk ratings, training details, evaluation metrics, and more for streamlined governance and reporting.\n",
    "\n",
    "In this example, you create a binary classification model along with a model card to document model details along the way. Learn how to create, read, update, delete, and export model cards using the Amazon SageMaker Python SDK."
   ]
  },
  {
   "cell_type": "markdown",
   "id": "bb67795f-7b81-4a5a-96b0-e414b7a7d46b",
   "metadata": {},
   "source": [
    "## Setup\n",
    "To begin, you must specify the following information:\n",
    "\n",
    "* The IAM role ARN used to give SageMaker training and hosting access to your data. \n",
    "* The SageMaker session used to manage interactions with Amazon SageMaker Model Card API methods.\n",
    "* The S3 URI (bucket and prefix) where you want to store training artifacts, models, and any exported model card PDFs. This S3 bucket should be in the same Region as your Notebook Instance, training, and hosting configurations. The following example uses the default SageMaker S3 bucket and creates a default SageMaker S3 bucket if one does not already exist.\n",
    "* The S3 session used to manage interactions with Amazon S3 storage.\n"
   ]
  },
  {
   "cell_type": "code",
   "execution_count": 2,
   "id": "07fd653c-a01f-47d1-a1c0-9f30cb354fb4",
   "metadata": {
    "tags": []
   },
   "outputs": [],
   "source": [
    "import boto3\n",
    "from sagemaker.session import Session\n",
    "from sagemaker import get_execution_role\n",
    "\n",
    "role = get_execution_role()\n",
    "\n",
    "sagemaker_session = Session()\n",
    "\n",
    "bucket = sagemaker_session.default_bucket()\n",
    "prefix = \"data/kkbox-customer-churn-model/model-card\"\n",
    "\n",
    "region = sagemaker_session.boto_region_name\n",
    "s3 = boto3.client(\"s3\", region_name=region)"
   ]
  },
  {
   "cell_type": "code",
   "execution_count": 3,
   "id": "55c5a534-6097-47a4-b466-324da182918c",
   "metadata": {
    "tags": []
   },
   "outputs": [],
   "source": [
    "import io\n",
    "import os\n",
    "import numpy as np\n",
    "from six.moves.urllib.parse import urlparse\n",
    "from pprint import pprint\n",
    "import boto3\n",
    "import sagemaker\n",
    "from sagemaker.image_uris import retrieve\n",
    "import sagemaker.amazon.common as smac\n",
    "from sagemaker.model_card import (\n",
    "    ModelCard,\n",
    "    ModelOverview,\n",
    "    ObjectiveFunction,\n",
    "    Function,\n",
    "    TrainingDetails,\n",
    "    IntendedUses,\n",
    "    EvaluationJob,\n",
    "    AdditionalInformation,\n",
    "    Metric,\n",
    "    MetricGroup,\n",
    "    ModelCardStatusEnum,\n",
    "    ObjectiveFunctionEnum,\n",
    "    FacetEnum,\n",
    "    RiskRatingEnum,\n",
    "    MetricTypeEnum,\n",
    "    EvaluationMetricTypeEnum,\n",
    ")"
   ]
  },
  {
   "cell_type": "markdown",
   "id": "8d540575-9e0b-4a3d-a4e8-5a2a470d2439",
   "metadata": {},
   "source": [
    "## Prepare a Model\n",
    "The following code creates an example binary classification model trained on a synthetic dataset. The target variable (0 or 1) is the second variable in the tuple."
   ]
  },
  {
   "cell_type": "markdown",
   "id": "5d5c1b23-115a-4a01-a328-1d00841f9043",
   "metadata": {},
   "source": [
    "## Create Model Card\n",
    "Document your binary classification model details in an Amazon SageMaker Model Card using the SageMaker Python SDK.\n",
    "\n",
    "1. Auto-collect model details\n",
    "Automatically collect basic model information like model ID, training environment, and the model output S3 URI. Add additional model information such as a description, problem type, algorithm type, model creator, and model owner."
   ]
  },
  {
   "cell_type": "code",
   "execution_count": 4,
   "id": "b5dbc0ae-fa6d-47c4-adde-762de3b14d49",
   "metadata": {
    "tags": []
   },
   "outputs": [
    {
     "name": "stdout",
     "output_type": "stream",
     "text": [
      "Model id: arn:aws:sagemaker:us-east-1:602900100639:model/pipelines-wwlincfgf0hc-createmodel-createmo-xtpltcrp4o\n",
      "Model training images: ['683313688378.dkr.ecr.us-east-1.amazonaws.com/sagemaker-xgboost:1.5-1']\n",
      "Model: ['s3://sagemaker-us-east-1-602900100639/data/kkbox-customer-churn-model/output/pipelines-wwlincfgf0hc-TrainModel-GGbGlmduOZ/output/model.tar.gz']\n"
     ]
    }
   ],
   "source": [
    "model_name = \"pipelines-wwlincfgf0hc-CreateModel-CreateMo-XTpLtCrP4o\"\n",
    "model_overview = ModelOverview.from_model_name(\n",
    "    model_name=model_name,\n",
    "    sagemaker_session=sagemaker_session,\n",
    "    model_description=\"An XGBoost model used for predicting customer churn.\",\n",
    "    problem_type=\"Binary Classification\",\n",
    "    algorithm_type=\"XGBoost\",\n",
    "    model_creator=\"weteh\",\n",
    "    model_owner=\"amazon-aws\",\n",
    ")\n",
    "print(f\"Model id: {model_overview.model_id}\")\n",
    "print(f\"Model training images: {model_overview.inference_environment.container_image}\")\n",
    "print(f\"Model: {model_overview.model_artifact}\")"
   ]
  },
  {
   "cell_type": "markdown",
   "id": "20231baf-d66f-4c74-b840-019aef8bd4b7",
   "metadata": {
    "tags": []
   },
   "source": [
    "# Auto-collect training details\n",
    "Automatically collect basic training information like training ID, training environment, and training metrics. \n",
    "Add additional training information such as objective function details and training observations."
   ]
  },
  {
   "cell_type": "code",
   "execution_count": 6,
   "id": "3b2ecbc1-fe49-44ad-8eed-112a82a53683",
   "metadata": {
    "tags": []
   },
   "outputs": [
    {
     "name": "stdout",
     "output_type": "stream",
     "text": [
      "Training job id: arn:aws:sagemaker:us-east-1:602900100639:training-job/pipelines-wwlincfgf0hc-TrainModel-GGbGlmduOZ\n",
      "Training image: ['683313688378.dkr.ecr.us-east-1.amazonaws.com/sagemaker-xgboost:1.5-1']\n",
      "Training Metrics: \n",
      "[]\n"
     ]
    }
   ],
   "source": [
    "objective_function = ObjectiveFunction(\n",
    "    function=Function(\n",
    "        function=ObjectiveFunctionEnum.MINIMIZE,\n",
    "        facet=FacetEnum.LOSS,\n",
    "    ),\n",
    "    notes=\"This objective function is used for minimizing training loss.\",\n",
    ")\n",
    "training_details = TrainingDetails.from_model_overview(\n",
    "    model_overview=model_overview,\n",
    "    sagemaker_session=sagemaker_session,\n",
    "    objective_function=objective_function,\n",
    "    training_observations=\"Model performance achieves significant higher AUC score compared to Random Forest model\",\n",
    ")\n",
    "print(f\"Training job id: {training_details.training_job_details.training_arn}\")\n",
    "print(f\"Training image: {training_details.training_job_details.training_environment.container_image}\")\n",
    "print(\"Training Metrics: \")\n",
    "pprint(\n",
    "    [\n",
    "        {\"name\": i.name, \"value\": i.value}\n",
    "        for i in training_details.training_job_details.training_metrics\n",
    "    ]\n",
    ")"
   ]
  },
  {
   "cell_type": "markdown",
   "id": "3dd44ef9-869d-48c0-8758-3aa08a160d09",
   "metadata": {},
   "source": [
    "# Collect training job evaluation metrics and create an evaluation detail"
   ]
  },
  {
   "cell_type": "code",
   "execution_count": 7,
   "id": "c30c43ac-04cc-4172-a91e-e5e959e04be0",
   "metadata": {
    "tags": []
   },
   "outputs": [],
   "source": [
    "manual_metric_group = MetricGroup(\n",
    "    name=\"binary classification metrics\",\n",
    "    metric_data=[\n",
    "                Metric(name=\"accuracy\", type=MetricTypeEnum.NUMBER, value=82.92),\n",
    "                Metric(name=\"auc_score\", type=MetricTypeEnum.NUMBER, value=0.88)],\n",
    ")\n",
    "example_evaluation_job = EvaluationJob(\n",
    "    name=\"Example evaluation job\",\n",
    "    evaluation_observation=\"Evaluation observations.\",\n",
    "    datasets=[\"s3://path/to/evaluation/data\"],\n",
    "    metric_groups=[manual_metric_group],\n",
    ")\n",
    "evaluation_details = [example_evaluation_job]"
   ]
  },
  {
   "cell_type": "markdown",
   "id": "3a115714-a9ef-4ca1-9848-51ba7f73d12e",
   "metadata": {},
   "source": [
    "# Parse Model Monitoring / Clarify job for evaluation data"
   ]
  },
  {
   "cell_type": "code",
   "execution_count": 8,
   "id": "e6a928a7-5dfc-4bf7-b401-07747bfaaae6",
   "metadata": {
    "tags": []
   },
   "outputs": [
    {
     "name": "stderr",
     "output_type": "stream",
     "text": [
      "Invalid file type binary/octet-stream. application/json is expected.\n"
     ]
    }
   ],
   "source": [
    "metric_s3_url = \"s3://sagemaker-us-east-1-602900100639/data/kkbox-customer-churn-model/bias/qc3a28gjs7gy/modelbiascheckstep/analysis.json\"\n",
    "example_evaluation_job.add_metric_group_from_s3(\n",
    "    session=sagemaker_session.boto_session,\n",
    "    s3_url=metric_s3_url,\n",
    "    metric_type=EvaluationMetricTypeEnum.CLARIFY_BIAS,\n",
    ")"
   ]
  },
  {
   "cell_type": "markdown",
   "id": "fa4bdc9d-a2d5-47dc-b16f-e273f022f788",
   "metadata": {},
   "source": [
    "# Collect additional details"
   ]
  },
  {
   "cell_type": "code",
   "execution_count": 9,
   "id": "4716fb68-8d76-4899-8d99-159730f7f169",
   "metadata": {
    "tags": []
   },
   "outputs": [],
   "source": [
    "intended_uses = IntendedUses(\n",
    "    purpose_of_model=\"Used for predicting customer churn.\",\n",
    "    intended_uses=\"Predict customer churn.\",\n",
    "    factors_affecting_model_efficiency=\"No.\",\n",
    "    risk_rating=RiskRatingEnum.LOW,\n",
    "    explanations_for_risk_rating=\"No known risks.\",\n",
    ")\n",
    "additional_information = AdditionalInformation(\n",
    "    ethical_considerations=\"Your model ethical consideration.\",\n",
    "    caveats_and_recommendations=\"Your model's caveats and recommendations.\",\n",
    "    custom_details={\"custom details1\": \"details value\"},\n",
    ")"
   ]
  },
  {
   "cell_type": "markdown",
   "id": "ed5942a7-82db-4e4e-8904-4cc6541fae80",
   "metadata": {},
   "source": [
    "## Create a Model Card"
   ]
  },
  {
   "cell_type": "code",
   "execution_count": 11,
   "id": "128b5f25-9db6-40fe-b6db-e2d4b27a893c",
   "metadata": {
    "tags": []
   },
   "outputs": [
    {
     "name": "stdout",
     "output_type": "stream",
     "text": [
      "Model card kkbox-customer-churn-model is successfully created with id arn:aws:sagemaker:us-east-1:602900100639:model-card/kkbox-customer-churn-model\n"
     ]
    }
   ],
   "source": [
    "model_card_name = \"kkbox-customer-churn-model\"\n",
    "my_card = ModelCard(\n",
    "    name=model_card_name,\n",
    "    status=ModelCardStatusEnum.DRAFT,\n",
    "    model_overview=model_overview,\n",
    "    training_details=training_details,\n",
    "    intended_uses=intended_uses,\n",
    "    evaluation_details=evaluation_details,\n",
    "    additional_information=additional_information,\n",
    "    sagemaker_session=sagemaker_session,\n",
    ")\n",
    "my_card.create()\n",
    "print(f\"Model card {my_card.name} is successfully created with id {my_card.arn}\")"
   ]
  },
  {
   "cell_type": "markdown",
   "id": "0a4c508d-9b0e-4489-a98d-6f97dc444ca0",
   "metadata": {},
   "source": [
    "## Update Model Card"
   ]
  },
  {
   "cell_type": "code",
   "execution_count": 27,
   "id": "bb7155be-45d2-4e20-9af8-060916748067",
   "metadata": {
    "tags": []
   },
   "outputs": [
    {
     "data": {
      "text/plain": [
       "{'content': {'ModelCardArn': 'arn:aws:sagemaker:us-east-2:869530972998:model-card/demo-model-card-from-sagemaker',\n",
       "  'ResponseMetadata': {'RequestId': '08c5132c-7a03-4df1-8a25-58a2c440551b',\n",
       "   'HTTPStatusCode': 200,\n",
       "   'HTTPHeaders': {'x-amzn-requestid': '08c5132c-7a03-4df1-8a25-58a2c440551b',\n",
       "    'content-type': 'application/x-amz-json-1.1',\n",
       "    'content-length': '101',\n",
       "    'date': 'Tue, 03 Jan 2023 22:26:26 GMT'},\n",
       "   'RetryAttempts': 0}}}"
      ]
     },
     "execution_count": 27,
     "metadata": {},
     "output_type": "execute_result"
    }
   ],
   "source": [
    "my_card.model_overview.model_description = \"the model is updated.\"\n",
    "my_card.update()"
   ]
  },
  {
   "cell_type": "markdown",
   "id": "96ad62f1-a01e-42ac-8153-8eccd902eec6",
   "metadata": {},
   "source": [
    "## Load a Model Card"
   ]
  },
  {
   "cell_type": "code",
   "execution_count": 12,
   "id": "88d0ba6f-e3f4-4876-afa0-b033b62381db",
   "metadata": {
    "tags": []
   },
   "outputs": [
    {
     "name": "stdout",
     "output_type": "stream",
     "text": [
      "Model id: arn:aws:sagemaker:us-east-1:602900100639:model-card/kkbox-customer-churn-model\n",
      "Model description: An XGBoost model used for predicting customer churn.\n"
     ]
    }
   ],
   "source": [
    "my_card2 = ModelCard.load(\n",
    "    name=model_card_name,\n",
    "    sagemaker_session=sagemaker_session,\n",
    ")\n",
    "print(f\"Model id: {my_card2.arn}\")\n",
    "print(f\"Model description: {my_card.model_overview.model_description}\")"
   ]
  },
  {
   "cell_type": "markdown",
   "id": "d936a7ab-3341-4ec6-b4b9-923aca371b5b",
   "metadata": {},
   "source": [
    "## Export A Model Card"
   ]
  },
  {
   "cell_type": "code",
   "execution_count": 14,
   "id": "b67b6f4c-930c-40c5-8af1-6459b98f652b",
   "metadata": {
    "tags": []
   },
   "outputs": [
    {
     "name": "stdout",
     "output_type": "stream",
     "text": [
      "          \r"
     ]
    }
   ],
   "source": [
    "s3_output_path = f\"s3://{bucket}/{prefix}/export\"\n",
    "pdf_s3_url = my_card.export_pdf(s3_output_path=s3_output_path)"
   ]
  },
  {
   "cell_type": "markdown",
   "id": "61a6d8fe-5809-48a2-ad4b-d7d721de10a4",
   "metadata": {},
   "source": [
    "## Download Model Card"
   ]
  },
  {
   "cell_type": "code",
   "execution_count": 15,
   "id": "527f0fdf-6a75-4f87-92b4-3b0ff0ec522c",
   "metadata": {
    "tags": []
   },
   "outputs": [
    {
     "name": "stdout",
     "output_type": "stream",
     "text": [
      "kkbox-customer-churn-model-1674970037-b007.pdf is downloaded to \n",
      "/root/end_to_end_sagemaker/kkbox-customer-churn-model-1674970037-b007.pdf\n"
     ]
    }
   ],
   "source": [
    "parsed_url = urlparse(pdf_s3_url)\n",
    "pdf_bucket = parsed_url.netloc\n",
    "pdf_key = parsed_url.path.lstrip(\"/\")\n",
    "\n",
    "file_name = parsed_url.path.split(\"/\")[-1]\n",
    "s3.download_file(Filename=file_name, Bucket=pdf_bucket, Key=pdf_key)\n",
    "print(f\"{file_name} is downloaded to \\n{os.path.join(os.getcwd(), file_name)}\")"
   ]
  },
  {
   "cell_type": "code",
   "execution_count": null,
   "id": "27e8b709-dfac-4b5e-9b45-d6ca7eac13e3",
   "metadata": {},
   "outputs": [],
   "source": []
  }
 ],
 "metadata": {
  "instance_type": "ml.t3.medium",
  "kernelspec": {
   "display_name": "Python 3 (Data Science)",
   "language": "python",
   "name": "python3__SAGEMAKER_INTERNAL__arn:aws:sagemaker:us-east-1:081325390199:image/datascience-1.0"
  },
  "language_info": {
   "codemirror_mode": {
    "name": "ipython",
    "version": 3
   },
   "file_extension": ".py",
   "mimetype": "text/x-python",
   "name": "python",
   "nbconvert_exporter": "python",
   "pygments_lexer": "ipython3",
   "version": "3.7.10"
  }
 },
 "nbformat": 4,
 "nbformat_minor": 5
}
