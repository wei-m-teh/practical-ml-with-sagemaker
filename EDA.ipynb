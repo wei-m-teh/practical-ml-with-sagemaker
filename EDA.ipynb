{
 "cells": [
  {
   "cell_type": "code",
   "execution_count": 5,
   "id": "fc973a23-3daf-4402-83d5-9f4c9a483c0b",
   "metadata": {
    "tags": []
   },
   "outputs": [
    {
     "name": "stdout",
     "output_type": "stream",
     "text": [
      "Keyring is skipped due to an exception: 'keyring.backends'\n",
      "Requirement already satisfied: s3fs in /opt/conda/lib/python3.7/site-packages (0.4.2)\n",
      "Requirement already satisfied: botocore>=1.12.91 in /opt/conda/lib/python3.7/site-packages (from s3fs) (1.29.24)\n",
      "Requirement already satisfied: fsspec>=0.6.0 in /opt/conda/lib/python3.7/site-packages (from s3fs) (2022.11.0)\n",
      "Requirement already satisfied: jmespath<2.0.0,>=0.7.1 in /opt/conda/lib/python3.7/site-packages (from botocore>=1.12.91->s3fs) (1.0.1)\n",
      "Requirement already satisfied: urllib3<1.27,>=1.25.4 in /opt/conda/lib/python3.7/site-packages (from botocore>=1.12.91->s3fs) (1.26.13)\n",
      "Requirement already satisfied: python-dateutil<3.0.0,>=2.1 in /opt/conda/lib/python3.7/site-packages (from botocore>=1.12.91->s3fs) (2.8.2)\n",
      "Requirement already satisfied: six>=1.5 in /opt/conda/lib/python3.7/site-packages (from python-dateutil<3.0.0,>=2.1->botocore>=1.12.91->s3fs) (1.14.0)\n",
      "\u001b[33mWARNING: Running pip as the 'root' user can result in broken permissions and conflicting behaviour with the system package manager. It is recommended to use a virtual environment instead: https://pip.pypa.io/warnings/venv\u001b[0m\u001b[33m\n",
      "\u001b[0m"
     ]
    }
   ],
   "source": [
    "!pip install s3fs"
   ]
  },
  {
   "cell_type": "code",
   "execution_count": 3,
   "id": "ecbae661-9437-41b5-ba72-60da14dcb339",
   "metadata": {
    "tags": []
   },
   "outputs": [],
   "source": [
    "import pandas as pd\n",
    "import numpy as np\n",
    "import fsspec"
   ]
  },
  {
   "cell_type": "code",
   "execution_count": 4,
   "id": "2c36864d-479f-4198-b818-34195112d98a",
   "metadata": {
    "tags": []
   },
   "outputs": [],
   "source": [
    "fsspec.filesystem('s3').invalidate_cache()"
   ]
  },
  {
   "cell_type": "code",
   "execution_count": 5,
   "id": "67b0c1c6-04d5-4d91-84b3-e3c5abab8a7c",
   "metadata": {
    "tags": []
   },
   "outputs": [],
   "source": [
    "s3_bucket = \"sagemaker-us-east-1-602900100639\"\n",
    "s3_key_prefix = \"data/kkbox-customer-churn-model/raw\""
   ]
  },
  {
   "cell_type": "code",
   "execution_count": 10,
   "id": "accb88d8-6e2f-4ddc-aa2a-9f036cb12c20",
   "metadata": {
    "tags": []
   },
   "outputs": [],
   "source": [
    "train_df = pd.read_csv(f's3://{s3_bucket}/{s3_key_prefix}/train.csv')"
   ]
  },
  {
   "cell_type": "code",
   "execution_count": 11,
   "id": "905bb987-38c6-40b7-9df9-f09caadfc272",
   "metadata": {
    "tags": []
   },
   "outputs": [
    {
     "data": {
      "text/plain": [
       "(992931, 2)"
      ]
     },
     "execution_count": 11,
     "metadata": {},
     "output_type": "execute_result"
    }
   ],
   "source": [
    "train_df.shape"
   ]
  },
  {
   "cell_type": "code",
   "execution_count": 12,
   "id": "182660a7-3370-4228-9562-63a475064123",
   "metadata": {
    "tags": []
   },
   "outputs": [
    {
     "data": {
      "text/html": [
       "<div>\n",
       "<style scoped>\n",
       "    .dataframe tbody tr th:only-of-type {\n",
       "        vertical-align: middle;\n",
       "    }\n",
       "\n",
       "    .dataframe tbody tr th {\n",
       "        vertical-align: top;\n",
       "    }\n",
       "\n",
       "    .dataframe thead th {\n",
       "        text-align: right;\n",
       "    }\n",
       "</style>\n",
       "<table border=\"1\" class=\"dataframe\">\n",
       "  <thead>\n",
       "    <tr style=\"text-align: right;\">\n",
       "      <th></th>\n",
       "      <th>msno</th>\n",
       "      <th>is_churn</th>\n",
       "    </tr>\n",
       "  </thead>\n",
       "  <tbody>\n",
       "    <tr>\n",
       "      <th>0</th>\n",
       "      <td>waLDQMmcOu2jLDaV1ddDkgCrB/jl6sD66Xzs0Vqax1Y=</td>\n",
       "      <td>1</td>\n",
       "    </tr>\n",
       "    <tr>\n",
       "      <th>1</th>\n",
       "      <td>QA7uiXy8vIbUSPOkCf9RwQ3FsT8jVq2OxDr8zqa7bRQ=</td>\n",
       "      <td>1</td>\n",
       "    </tr>\n",
       "    <tr>\n",
       "      <th>2</th>\n",
       "      <td>fGwBva6hikQmTJzrbz/2Ezjm5Cth5jZUNvXigKK2AFA=</td>\n",
       "      <td>1</td>\n",
       "    </tr>\n",
       "    <tr>\n",
       "      <th>3</th>\n",
       "      <td>mT5V8rEpa+8wuqi6x0DoVd3H5icMKkE9Prt49UlmK+4=</td>\n",
       "      <td>1</td>\n",
       "    </tr>\n",
       "    <tr>\n",
       "      <th>4</th>\n",
       "      <td>XaPhtGLk/5UvvOYHcONTwsnH97P4eGECeq+BARGItRw=</td>\n",
       "      <td>1</td>\n",
       "    </tr>\n",
       "    <tr>\n",
       "      <th>5</th>\n",
       "      <td>GBy8qSz16X5iYWD+3CMxv/Hm6OPSrXBYtmbnlRtknW0=</td>\n",
       "      <td>1</td>\n",
       "    </tr>\n",
       "    <tr>\n",
       "      <th>6</th>\n",
       "      <td>lYLh7TdkWpIoQs3i3o6mIjLH8/IEgMWP9r7OpsLX0Vo=</td>\n",
       "      <td>1</td>\n",
       "    </tr>\n",
       "    <tr>\n",
       "      <th>7</th>\n",
       "      <td>T0FF6lumjKcqEO0O+tUH2ytc+Kb9EkeaLzcVUiTr1aE=</td>\n",
       "      <td>1</td>\n",
       "    </tr>\n",
       "    <tr>\n",
       "      <th>8</th>\n",
       "      <td>Nb1ZGEmagQeba5E+nQj8VlQoWl+8SFmLZu+Y8ytIamw=</td>\n",
       "      <td>1</td>\n",
       "    </tr>\n",
       "    <tr>\n",
       "      <th>9</th>\n",
       "      <td>MkuWz0Nq6/Oq5fKqRddWL7oh2SLUSRe3/g+XmAWqW1Q=</td>\n",
       "      <td>1</td>\n",
       "    </tr>\n",
       "    <tr>\n",
       "      <th>10</th>\n",
       "      <td>I8dFN2EjFN1mt4Xel8WQX1/g7u6Dg4PBMHLkiDjhUS8=</td>\n",
       "      <td>1</td>\n",
       "    </tr>\n",
       "    <tr>\n",
       "      <th>11</th>\n",
       "      <td>0Ip2rzeoa44alqEw3daokOIJ5pRlKsuvSXpFiVfz6/U=</td>\n",
       "      <td>1</td>\n",
       "    </tr>\n",
       "    <tr>\n",
       "      <th>12</th>\n",
       "      <td>piVhWxrWDmiNQFY6x+geStHfdT+nyD9lgXq05MSi7So=</td>\n",
       "      <td>1</td>\n",
       "    </tr>\n",
       "    <tr>\n",
       "      <th>13</th>\n",
       "      <td>wEUOkYvyz3xTOx2p9z2Xcs4OzYsH/ZrNFUKZ+KFPf0M=</td>\n",
       "      <td>1</td>\n",
       "    </tr>\n",
       "    <tr>\n",
       "      <th>14</th>\n",
       "      <td>xt4EjWRyXBMgEgKBJy63klKN6wIIR31t1K771V2Glps=</td>\n",
       "      <td>1</td>\n",
       "    </tr>\n",
       "    <tr>\n",
       "      <th>15</th>\n",
       "      <td>QS3ob4zLlWcWzBIlbsd6lQIA3nJusPs6rNDVSEpQO2k=</td>\n",
       "      <td>1</td>\n",
       "    </tr>\n",
       "    <tr>\n",
       "      <th>16</th>\n",
       "      <td>9iW/UpqRoviya9CQh64RoYLPjiws8+biwscN+g5qYm4=</td>\n",
       "      <td>1</td>\n",
       "    </tr>\n",
       "    <tr>\n",
       "      <th>17</th>\n",
       "      <td>d7QVMhAzjj4yc1Ojjbf2SFJam90RaUcwNDe3NxHVluA=</td>\n",
       "      <td>1</td>\n",
       "    </tr>\n",
       "    <tr>\n",
       "      <th>18</th>\n",
       "      <td>uV7rJjHPrpNssDMmY2OnfJnib8BUqeyvUxrIQnbRwek=</td>\n",
       "      <td>1</td>\n",
       "    </tr>\n",
       "    <tr>\n",
       "      <th>19</th>\n",
       "      <td>TZxhkfZ9NwxqnUrNsMgMDj4SZi+p0Zv/oK9UsH5uqnc=</td>\n",
       "      <td>1</td>\n",
       "    </tr>\n",
       "  </tbody>\n",
       "</table>\n",
       "</div>"
      ],
      "text/plain": [
       "                                            msno  is_churn\n",
       "0   waLDQMmcOu2jLDaV1ddDkgCrB/jl6sD66Xzs0Vqax1Y=         1\n",
       "1   QA7uiXy8vIbUSPOkCf9RwQ3FsT8jVq2OxDr8zqa7bRQ=         1\n",
       "2   fGwBva6hikQmTJzrbz/2Ezjm5Cth5jZUNvXigKK2AFA=         1\n",
       "3   mT5V8rEpa+8wuqi6x0DoVd3H5icMKkE9Prt49UlmK+4=         1\n",
       "4   XaPhtGLk/5UvvOYHcONTwsnH97P4eGECeq+BARGItRw=         1\n",
       "5   GBy8qSz16X5iYWD+3CMxv/Hm6OPSrXBYtmbnlRtknW0=         1\n",
       "6   lYLh7TdkWpIoQs3i3o6mIjLH8/IEgMWP9r7OpsLX0Vo=         1\n",
       "7   T0FF6lumjKcqEO0O+tUH2ytc+Kb9EkeaLzcVUiTr1aE=         1\n",
       "8   Nb1ZGEmagQeba5E+nQj8VlQoWl+8SFmLZu+Y8ytIamw=         1\n",
       "9   MkuWz0Nq6/Oq5fKqRddWL7oh2SLUSRe3/g+XmAWqW1Q=         1\n",
       "10  I8dFN2EjFN1mt4Xel8WQX1/g7u6Dg4PBMHLkiDjhUS8=         1\n",
       "11  0Ip2rzeoa44alqEw3daokOIJ5pRlKsuvSXpFiVfz6/U=         1\n",
       "12  piVhWxrWDmiNQFY6x+geStHfdT+nyD9lgXq05MSi7So=         1\n",
       "13  wEUOkYvyz3xTOx2p9z2Xcs4OzYsH/ZrNFUKZ+KFPf0M=         1\n",
       "14  xt4EjWRyXBMgEgKBJy63klKN6wIIR31t1K771V2Glps=         1\n",
       "15  QS3ob4zLlWcWzBIlbsd6lQIA3nJusPs6rNDVSEpQO2k=         1\n",
       "16  9iW/UpqRoviya9CQh64RoYLPjiws8+biwscN+g5qYm4=         1\n",
       "17  d7QVMhAzjj4yc1Ojjbf2SFJam90RaUcwNDe3NxHVluA=         1\n",
       "18  uV7rJjHPrpNssDMmY2OnfJnib8BUqeyvUxrIQnbRwek=         1\n",
       "19  TZxhkfZ9NwxqnUrNsMgMDj4SZi+p0Zv/oK9UsH5uqnc=         1"
      ]
     },
     "execution_count": 12,
     "metadata": {},
     "output_type": "execute_result"
    }
   ],
   "source": [
    "train_df.head(20)"
   ]
  },
  {
   "cell_type": "markdown",
   "id": "91ce47c6-8fac-43cf-aa5f-2ade18bc0411",
   "metadata": {},
   "source": [
    "# Processing Transaction Dataset"
   ]
  },
  {
   "cell_type": "code",
   "execution_count": 13,
   "id": "edb4b266-6c97-4e73-9d54-c80b75242f30",
   "metadata": {
    "tags": []
   },
   "outputs": [],
   "source": [
    "trans_df = pd.read_csv(f's3://{s3_bucket}/{s3_key_prefix}/transactions.csv')"
   ]
  },
  {
   "cell_type": "code",
   "execution_count": 14,
   "id": "72831e76-d8fc-4899-ad5b-d4710be38304",
   "metadata": {
    "tags": []
   },
   "outputs": [
    {
     "data": {
      "text/plain": [
       "(21547746, 9)"
      ]
     },
     "execution_count": 14,
     "metadata": {},
     "output_type": "execute_result"
    }
   ],
   "source": [
    "trans_df.shape"
   ]
  },
  {
   "cell_type": "code",
   "execution_count": 15,
   "id": "633a6f8f-f760-4c26-be4a-f4de842b75a5",
   "metadata": {
    "tags": []
   },
   "outputs": [
    {
     "data": {
      "text/html": [
       "<div>\n",
       "<style scoped>\n",
       "    .dataframe tbody tr th:only-of-type {\n",
       "        vertical-align: middle;\n",
       "    }\n",
       "\n",
       "    .dataframe tbody tr th {\n",
       "        vertical-align: top;\n",
       "    }\n",
       "\n",
       "    .dataframe thead th {\n",
       "        text-align: right;\n",
       "    }\n",
       "</style>\n",
       "<table border=\"1\" class=\"dataframe\">\n",
       "  <thead>\n",
       "    <tr style=\"text-align: right;\">\n",
       "      <th></th>\n",
       "      <th>msno</th>\n",
       "      <th>payment_method_id</th>\n",
       "      <th>payment_plan_days</th>\n",
       "      <th>plan_list_price</th>\n",
       "      <th>actual_amount_paid</th>\n",
       "      <th>is_auto_renew</th>\n",
       "      <th>transaction_date</th>\n",
       "      <th>membership_expire_date</th>\n",
       "      <th>is_cancel</th>\n",
       "    </tr>\n",
       "  </thead>\n",
       "  <tbody>\n",
       "    <tr>\n",
       "      <th>0</th>\n",
       "      <td>YyO+tlZtAXYXoZhNr3Vg3+dfVQvrBVGO8j1mfqe4ZHc=</td>\n",
       "      <td>41</td>\n",
       "      <td>30</td>\n",
       "      <td>129</td>\n",
       "      <td>129</td>\n",
       "      <td>1</td>\n",
       "      <td>20150930</td>\n",
       "      <td>20151101</td>\n",
       "      <td>0</td>\n",
       "    </tr>\n",
       "    <tr>\n",
       "      <th>1</th>\n",
       "      <td>AZtu6Wl0gPojrEQYB8Q3vBSmE2wnZ3hi1FbK1rQQ0A4=</td>\n",
       "      <td>41</td>\n",
       "      <td>30</td>\n",
       "      <td>149</td>\n",
       "      <td>149</td>\n",
       "      <td>1</td>\n",
       "      <td>20150930</td>\n",
       "      <td>20151031</td>\n",
       "      <td>0</td>\n",
       "    </tr>\n",
       "    <tr>\n",
       "      <th>2</th>\n",
       "      <td>UkDFI97Qb6+s2LWcijVVv4rMAsORbVDT2wNXF0aVbns=</td>\n",
       "      <td>41</td>\n",
       "      <td>30</td>\n",
       "      <td>129</td>\n",
       "      <td>129</td>\n",
       "      <td>1</td>\n",
       "      <td>20150930</td>\n",
       "      <td>20160427</td>\n",
       "      <td>0</td>\n",
       "    </tr>\n",
       "    <tr>\n",
       "      <th>3</th>\n",
       "      <td>M1C56ijxozNaGD0t2h68PnH2xtx5iO5iR2MVYQB6nBI=</td>\n",
       "      <td>39</td>\n",
       "      <td>30</td>\n",
       "      <td>149</td>\n",
       "      <td>149</td>\n",
       "      <td>1</td>\n",
       "      <td>20150930</td>\n",
       "      <td>20151128</td>\n",
       "      <td>0</td>\n",
       "    </tr>\n",
       "    <tr>\n",
       "      <th>4</th>\n",
       "      <td>yvj6zyBUaqdbUQSrKsrZ+xNDVM62knauSZJzakS9OW4=</td>\n",
       "      <td>39</td>\n",
       "      <td>30</td>\n",
       "      <td>149</td>\n",
       "      <td>149</td>\n",
       "      <td>1</td>\n",
       "      <td>20150930</td>\n",
       "      <td>20151121</td>\n",
       "      <td>0</td>\n",
       "    </tr>\n",
       "  </tbody>\n",
       "</table>\n",
       "</div>"
      ],
      "text/plain": [
       "                                           msno  payment_method_id  \\\n",
       "0  YyO+tlZtAXYXoZhNr3Vg3+dfVQvrBVGO8j1mfqe4ZHc=                 41   \n",
       "1  AZtu6Wl0gPojrEQYB8Q3vBSmE2wnZ3hi1FbK1rQQ0A4=                 41   \n",
       "2  UkDFI97Qb6+s2LWcijVVv4rMAsORbVDT2wNXF0aVbns=                 41   \n",
       "3  M1C56ijxozNaGD0t2h68PnH2xtx5iO5iR2MVYQB6nBI=                 39   \n",
       "4  yvj6zyBUaqdbUQSrKsrZ+xNDVM62knauSZJzakS9OW4=                 39   \n",
       "\n",
       "   payment_plan_days  plan_list_price  actual_amount_paid  is_auto_renew  \\\n",
       "0                 30              129                 129              1   \n",
       "1                 30              149                 149              1   \n",
       "2                 30              129                 129              1   \n",
       "3                 30              149                 149              1   \n",
       "4                 30              149                 149              1   \n",
       "\n",
       "   transaction_date  membership_expire_date  is_cancel  \n",
       "0          20150930                20151101          0  \n",
       "1          20150930                20151031          0  \n",
       "2          20150930                20160427          0  \n",
       "3          20150930                20151128          0  \n",
       "4          20150930                20151121          0  "
      ]
     },
     "execution_count": 15,
     "metadata": {},
     "output_type": "execute_result"
    }
   ],
   "source": [
    "trans_df.head()"
   ]
  },
  {
   "cell_type": "code",
   "execution_count": 16,
   "id": "881f11a3-169e-480b-8297-7a279ef72878",
   "metadata": {
    "tags": []
   },
   "outputs": [],
   "source": [
    "trans_df['transaction_date']=trans_df['transaction_date'].astype('str')\n",
    "trans_df['transaction_date']=pd.to_datetime(trans_df['transaction_date'])\n",
    "\n",
    "trans_df['membership_expire_date']=trans_df['membership_expire_date'].astype('str')\n",
    "trans_df['membership_expire_date']=pd.to_datetime(trans_df['membership_expire_date'])"
   ]
  },
  {
   "cell_type": "code",
   "execution_count": 17,
   "id": "3984d1d0-8348-46b2-b17d-596f2f43fe3c",
   "metadata": {
    "tags": []
   },
   "outputs": [],
   "source": [
    "temp_transaction_cust=trans_df.groupby(['msno']).count()"
   ]
  },
  {
   "cell_type": "code",
   "execution_count": 18,
   "id": "5b0065fd-e98b-474f-8d5d-263fcac57cea",
   "metadata": {
    "tags": []
   },
   "outputs": [
    {
     "data": {
      "text/html": [
       "<div>\n",
       "<style scoped>\n",
       "    .dataframe tbody tr th:only-of-type {\n",
       "        vertical-align: middle;\n",
       "    }\n",
       "\n",
       "    .dataframe tbody tr th {\n",
       "        vertical-align: top;\n",
       "    }\n",
       "\n",
       "    .dataframe thead th {\n",
       "        text-align: right;\n",
       "    }\n",
       "</style>\n",
       "<table border=\"1\" class=\"dataframe\">\n",
       "  <thead>\n",
       "    <tr style=\"text-align: right;\">\n",
       "      <th></th>\n",
       "      <th>payment_method_id</th>\n",
       "      <th>payment_plan_days</th>\n",
       "      <th>plan_list_price</th>\n",
       "      <th>actual_amount_paid</th>\n",
       "      <th>is_auto_renew</th>\n",
       "      <th>transaction_date</th>\n",
       "      <th>membership_expire_date</th>\n",
       "      <th>is_cancel</th>\n",
       "    </tr>\n",
       "    <tr>\n",
       "      <th>msno</th>\n",
       "      <th></th>\n",
       "      <th></th>\n",
       "      <th></th>\n",
       "      <th></th>\n",
       "      <th></th>\n",
       "      <th></th>\n",
       "      <th></th>\n",
       "      <th></th>\n",
       "    </tr>\n",
       "  </thead>\n",
       "  <tbody>\n",
       "    <tr>\n",
       "      <th>+++FOrTS7ab3tIgIh8eWwX4FqRv8w/FoiOuyXsFvphY=</th>\n",
       "      <td>1</td>\n",
       "      <td>1</td>\n",
       "      <td>1</td>\n",
       "      <td>1</td>\n",
       "      <td>1</td>\n",
       "      <td>1</td>\n",
       "      <td>1</td>\n",
       "      <td>1</td>\n",
       "    </tr>\n",
       "    <tr>\n",
       "      <th>+++IZseRRiQS9aaSkH6cMYU6bGDcxUieAi/tH67sC5s=</th>\n",
       "      <td>1</td>\n",
       "      <td>1</td>\n",
       "      <td>1</td>\n",
       "      <td>1</td>\n",
       "      <td>1</td>\n",
       "      <td>1</td>\n",
       "      <td>1</td>\n",
       "      <td>1</td>\n",
       "    </tr>\n",
       "    <tr>\n",
       "      <th>+++hVY1rZox/33YtvDgmKA2Frg/2qhkz12B9ylCvh8o=</th>\n",
       "      <td>4</td>\n",
       "      <td>4</td>\n",
       "      <td>4</td>\n",
       "      <td>4</td>\n",
       "      <td>4</td>\n",
       "      <td>4</td>\n",
       "      <td>4</td>\n",
       "      <td>4</td>\n",
       "    </tr>\n",
       "    <tr>\n",
       "      <th>+++l/EXNMLTijfLBa8p2TUVVVp2aFGSuUI/h7mLmthw=</th>\n",
       "      <td>19</td>\n",
       "      <td>19</td>\n",
       "      <td>19</td>\n",
       "      <td>19</td>\n",
       "      <td>19</td>\n",
       "      <td>19</td>\n",
       "      <td>19</td>\n",
       "      <td>19</td>\n",
       "    </tr>\n",
       "    <tr>\n",
       "      <th>+++snpr7pmobhLKUgSHTv/mpkqgBT0tQJ0zQj6qKrqc=</th>\n",
       "      <td>26</td>\n",
       "      <td>26</td>\n",
       "      <td>26</td>\n",
       "      <td>26</td>\n",
       "      <td>26</td>\n",
       "      <td>26</td>\n",
       "      <td>26</td>\n",
       "      <td>26</td>\n",
       "    </tr>\n",
       "  </tbody>\n",
       "</table>\n",
       "</div>"
      ],
      "text/plain": [
       "                                              payment_method_id  \\\n",
       "msno                                                              \n",
       "+++FOrTS7ab3tIgIh8eWwX4FqRv8w/FoiOuyXsFvphY=                  1   \n",
       "+++IZseRRiQS9aaSkH6cMYU6bGDcxUieAi/tH67sC5s=                  1   \n",
       "+++hVY1rZox/33YtvDgmKA2Frg/2qhkz12B9ylCvh8o=                  4   \n",
       "+++l/EXNMLTijfLBa8p2TUVVVp2aFGSuUI/h7mLmthw=                 19   \n",
       "+++snpr7pmobhLKUgSHTv/mpkqgBT0tQJ0zQj6qKrqc=                 26   \n",
       "\n",
       "                                              payment_plan_days  \\\n",
       "msno                                                              \n",
       "+++FOrTS7ab3tIgIh8eWwX4FqRv8w/FoiOuyXsFvphY=                  1   \n",
       "+++IZseRRiQS9aaSkH6cMYU6bGDcxUieAi/tH67sC5s=                  1   \n",
       "+++hVY1rZox/33YtvDgmKA2Frg/2qhkz12B9ylCvh8o=                  4   \n",
       "+++l/EXNMLTijfLBa8p2TUVVVp2aFGSuUI/h7mLmthw=                 19   \n",
       "+++snpr7pmobhLKUgSHTv/mpkqgBT0tQJ0zQj6qKrqc=                 26   \n",
       "\n",
       "                                              plan_list_price  \\\n",
       "msno                                                            \n",
       "+++FOrTS7ab3tIgIh8eWwX4FqRv8w/FoiOuyXsFvphY=                1   \n",
       "+++IZseRRiQS9aaSkH6cMYU6bGDcxUieAi/tH67sC5s=                1   \n",
       "+++hVY1rZox/33YtvDgmKA2Frg/2qhkz12B9ylCvh8o=                4   \n",
       "+++l/EXNMLTijfLBa8p2TUVVVp2aFGSuUI/h7mLmthw=               19   \n",
       "+++snpr7pmobhLKUgSHTv/mpkqgBT0tQJ0zQj6qKrqc=               26   \n",
       "\n",
       "                                              actual_amount_paid  \\\n",
       "msno                                                               \n",
       "+++FOrTS7ab3tIgIh8eWwX4FqRv8w/FoiOuyXsFvphY=                   1   \n",
       "+++IZseRRiQS9aaSkH6cMYU6bGDcxUieAi/tH67sC5s=                   1   \n",
       "+++hVY1rZox/33YtvDgmKA2Frg/2qhkz12B9ylCvh8o=                   4   \n",
       "+++l/EXNMLTijfLBa8p2TUVVVp2aFGSuUI/h7mLmthw=                  19   \n",
       "+++snpr7pmobhLKUgSHTv/mpkqgBT0tQJ0zQj6qKrqc=                  26   \n",
       "\n",
       "                                              is_auto_renew  transaction_date  \\\n",
       "msno                                                                            \n",
       "+++FOrTS7ab3tIgIh8eWwX4FqRv8w/FoiOuyXsFvphY=              1                 1   \n",
       "+++IZseRRiQS9aaSkH6cMYU6bGDcxUieAi/tH67sC5s=              1                 1   \n",
       "+++hVY1rZox/33YtvDgmKA2Frg/2qhkz12B9ylCvh8o=              4                 4   \n",
       "+++l/EXNMLTijfLBa8p2TUVVVp2aFGSuUI/h7mLmthw=             19                19   \n",
       "+++snpr7pmobhLKUgSHTv/mpkqgBT0tQJ0zQj6qKrqc=             26                26   \n",
       "\n",
       "                                              membership_expire_date  \\\n",
       "msno                                                                   \n",
       "+++FOrTS7ab3tIgIh8eWwX4FqRv8w/FoiOuyXsFvphY=                       1   \n",
       "+++IZseRRiQS9aaSkH6cMYU6bGDcxUieAi/tH67sC5s=                       1   \n",
       "+++hVY1rZox/33YtvDgmKA2Frg/2qhkz12B9ylCvh8o=                       4   \n",
       "+++l/EXNMLTijfLBa8p2TUVVVp2aFGSuUI/h7mLmthw=                      19   \n",
       "+++snpr7pmobhLKUgSHTv/mpkqgBT0tQJ0zQj6qKrqc=                      26   \n",
       "\n",
       "                                              is_cancel  \n",
       "msno                                                     \n",
       "+++FOrTS7ab3tIgIh8eWwX4FqRv8w/FoiOuyXsFvphY=          1  \n",
       "+++IZseRRiQS9aaSkH6cMYU6bGDcxUieAi/tH67sC5s=          1  \n",
       "+++hVY1rZox/33YtvDgmKA2Frg/2qhkz12B9ylCvh8o=          4  \n",
       "+++l/EXNMLTijfLBa8p2TUVVVp2aFGSuUI/h7mLmthw=         19  \n",
       "+++snpr7pmobhLKUgSHTv/mpkqgBT0tQJ0zQj6qKrqc=         26  "
      ]
     },
     "execution_count": 18,
     "metadata": {},
     "output_type": "execute_result"
    }
   ],
   "source": [
    "temp_transaction_cust.head()"
   ]
  },
  {
   "cell_type": "code",
   "execution_count": 20,
   "id": "f9c2b3bf-a782-4221-8355-de9a043eea74",
   "metadata": {
    "tags": []
   },
   "outputs": [],
   "source": [
    "temp_transaction_cust=temp_transaction_cust.reset_index()"
   ]
  },
  {
   "cell_type": "code",
   "execution_count": 21,
   "id": "37ae7a40-32da-4a7d-9dfb-8fce112eb8e7",
   "metadata": {
    "tags": []
   },
   "outputs": [
    {
     "data": {
      "text/html": [
       "<div>\n",
       "<style scoped>\n",
       "    .dataframe tbody tr th:only-of-type {\n",
       "        vertical-align: middle;\n",
       "    }\n",
       "\n",
       "    .dataframe tbody tr th {\n",
       "        vertical-align: top;\n",
       "    }\n",
       "\n",
       "    .dataframe thead th {\n",
       "        text-align: right;\n",
       "    }\n",
       "</style>\n",
       "<table border=\"1\" class=\"dataframe\">\n",
       "  <thead>\n",
       "    <tr style=\"text-align: right;\">\n",
       "      <th></th>\n",
       "      <th>index</th>\n",
       "      <th>msno</th>\n",
       "      <th>payment_method_id</th>\n",
       "      <th>payment_plan_days</th>\n",
       "      <th>plan_list_price</th>\n",
       "      <th>actual_amount_paid</th>\n",
       "      <th>is_auto_renew</th>\n",
       "      <th>transaction_date</th>\n",
       "      <th>membership_expire_date</th>\n",
       "      <th>is_cancel</th>\n",
       "    </tr>\n",
       "  </thead>\n",
       "  <tbody>\n",
       "    <tr>\n",
       "      <th>0</th>\n",
       "      <td>0</td>\n",
       "      <td>+++FOrTS7ab3tIgIh8eWwX4FqRv8w/FoiOuyXsFvphY=</td>\n",
       "      <td>1</td>\n",
       "      <td>1</td>\n",
       "      <td>1</td>\n",
       "      <td>1</td>\n",
       "      <td>1</td>\n",
       "      <td>1</td>\n",
       "      <td>1</td>\n",
       "      <td>1</td>\n",
       "    </tr>\n",
       "    <tr>\n",
       "      <th>1</th>\n",
       "      <td>1</td>\n",
       "      <td>+++IZseRRiQS9aaSkH6cMYU6bGDcxUieAi/tH67sC5s=</td>\n",
       "      <td>1</td>\n",
       "      <td>1</td>\n",
       "      <td>1</td>\n",
       "      <td>1</td>\n",
       "      <td>1</td>\n",
       "      <td>1</td>\n",
       "      <td>1</td>\n",
       "      <td>1</td>\n",
       "    </tr>\n",
       "    <tr>\n",
       "      <th>2</th>\n",
       "      <td>2</td>\n",
       "      <td>+++hVY1rZox/33YtvDgmKA2Frg/2qhkz12B9ylCvh8o=</td>\n",
       "      <td>4</td>\n",
       "      <td>4</td>\n",
       "      <td>4</td>\n",
       "      <td>4</td>\n",
       "      <td>4</td>\n",
       "      <td>4</td>\n",
       "      <td>4</td>\n",
       "      <td>4</td>\n",
       "    </tr>\n",
       "    <tr>\n",
       "      <th>3</th>\n",
       "      <td>3</td>\n",
       "      <td>+++l/EXNMLTijfLBa8p2TUVVVp2aFGSuUI/h7mLmthw=</td>\n",
       "      <td>19</td>\n",
       "      <td>19</td>\n",
       "      <td>19</td>\n",
       "      <td>19</td>\n",
       "      <td>19</td>\n",
       "      <td>19</td>\n",
       "      <td>19</td>\n",
       "      <td>19</td>\n",
       "    </tr>\n",
       "    <tr>\n",
       "      <th>4</th>\n",
       "      <td>4</td>\n",
       "      <td>+++snpr7pmobhLKUgSHTv/mpkqgBT0tQJ0zQj6qKrqc=</td>\n",
       "      <td>26</td>\n",
       "      <td>26</td>\n",
       "      <td>26</td>\n",
       "      <td>26</td>\n",
       "      <td>26</td>\n",
       "      <td>26</td>\n",
       "      <td>26</td>\n",
       "      <td>26</td>\n",
       "    </tr>\n",
       "  </tbody>\n",
       "</table>\n",
       "</div>"
      ],
      "text/plain": [
       "   index                                          msno  payment_method_id  \\\n",
       "0      0  +++FOrTS7ab3tIgIh8eWwX4FqRv8w/FoiOuyXsFvphY=                  1   \n",
       "1      1  +++IZseRRiQS9aaSkH6cMYU6bGDcxUieAi/tH67sC5s=                  1   \n",
       "2      2  +++hVY1rZox/33YtvDgmKA2Frg/2qhkz12B9ylCvh8o=                  4   \n",
       "3      3  +++l/EXNMLTijfLBa8p2TUVVVp2aFGSuUI/h7mLmthw=                 19   \n",
       "4      4  +++snpr7pmobhLKUgSHTv/mpkqgBT0tQJ0zQj6qKrqc=                 26   \n",
       "\n",
       "   payment_plan_days  plan_list_price  actual_amount_paid  is_auto_renew  \\\n",
       "0                  1                1                   1              1   \n",
       "1                  1                1                   1              1   \n",
       "2                  4                4                   4              4   \n",
       "3                 19               19                  19             19   \n",
       "4                 26               26                  26             26   \n",
       "\n",
       "   transaction_date  membership_expire_date  is_cancel  \n",
       "0                 1                       1          1  \n",
       "1                 1                       1          1  \n",
       "2                 4                       4          4  \n",
       "3                19                      19         19  \n",
       "4                26                      26         26  "
      ]
     },
     "execution_count": 21,
     "metadata": {},
     "output_type": "execute_result"
    }
   ],
   "source": [
    "temp_transaction_cust.head()"
   ]
  },
  {
   "cell_type": "code",
   "execution_count": 22,
   "id": "4efc5bd9-3637-4805-b1cd-139fac39500f",
   "metadata": {
    "tags": []
   },
   "outputs": [],
   "source": [
    "# Find the highest payment plan days\n",
    "temp_payment_cust=trans_df.loc[:,['msno','payment_plan_days']]\n",
    "nose=temp_payment_cust.groupby(['msno'])['payment_plan_days'].agg(lambda x: pd.Series.mode(x)[0])\n",
    "temp_payment_cust=nose.reset_index()"
   ]
  },
  {
   "cell_type": "code",
   "execution_count": 23,
   "id": "161ab4c3-1e30-4fe9-a691-d0035dbf0684",
   "metadata": {
    "tags": []
   },
   "outputs": [
    {
     "data": {
      "text/plain": [
       "(2363626, 10)"
      ]
     },
     "execution_count": 23,
     "metadata": {},
     "output_type": "execute_result"
    }
   ],
   "source": [
    "temp_transaction_cust.shape"
   ]
  },
  {
   "cell_type": "code",
   "execution_count": 24,
   "id": "2194f545-a2e7-49e5-83ca-e58a5ad25c8f",
   "metadata": {
    "tags": []
   },
   "outputs": [],
   "source": [
    "temp_payment_method=trans_df.loc[:,['msno','payment_method_id']]\n",
    "nose=temp_payment_method.groupby(['msno'])['payment_method_id'].agg(lambda x: pd.Series.mode(x)[0])\n",
    "temp_payment_method=nose.reset_index()"
   ]
  },
  {
   "cell_type": "code",
   "execution_count": 25,
   "id": "c19159d8-9f80-45d3-b017-ecc4f01ffa96",
   "metadata": {
    "tags": []
   },
   "outputs": [],
   "source": [
    "revenue = trans_df.groupby(by='msno')['actual_amount_paid'].sum().reset_index()"
   ]
  },
  {
   "cell_type": "code",
   "execution_count": 26,
   "id": "72d5f916-5290-4f0d-8d29-f93b8e691571",
   "metadata": {
    "tags": []
   },
   "outputs": [],
   "source": [
    "auto_renew=trans_df.groupby(['msno'])['is_auto_renew'].agg(lambda x: pd.Series.mode(x)[0]).reset_index()"
   ]
  },
  {
   "cell_type": "code",
   "execution_count": 27,
   "id": "640d5034-de85-4947-a407-50650e69ff97",
   "metadata": {
    "tags": []
   },
   "outputs": [],
   "source": [
    "cancelations=trans_df.groupby(['msno'])['is_cancel'].sum().reset_index()\n"
   ]
  },
  {
   "cell_type": "code",
   "execution_count": 28,
   "id": "d03ec63b-5a63-4524-be9b-5f04cf0f7d07",
   "metadata": {
    "tags": []
   },
   "outputs": [],
   "source": [
    "trans_df['quarter']=trans_df.transaction_date.dt.quarter\n",
    "trans_df['quarter_end']=trans_df.membership_expire_date.dt.quarter"
   ]
  },
  {
   "cell_type": "code",
   "execution_count": 29,
   "id": "c7f28e6d-206d-41d1-91ab-8f4030a5d2d2",
   "metadata": {
    "tags": []
   },
   "outputs": [],
   "source": [
    "quarter=trans_df.groupby(['msno'])['quarter'].agg(lambda x: pd.Series.mode(x)[0]).reset_index()"
   ]
  },
  {
   "cell_type": "code",
   "execution_count": 30,
   "id": "00df0aaf-db94-4310-9a4c-798d7d1499b4",
   "metadata": {
    "tags": []
   },
   "outputs": [],
   "source": [
    "final_df = temp_transaction_cust.loc[:,['msno', 'payment_method_id']].merge(temp_payment_method, on='msno')\n"
   ]
  },
  {
   "cell_type": "code",
   "execution_count": 31,
   "id": "60aad0cb-4712-4b53-8f41-7b6e4e2994c0",
   "metadata": {
    "tags": []
   },
   "outputs": [
    {
     "data": {
      "text/html": [
       "<div>\n",
       "<style scoped>\n",
       "    .dataframe tbody tr th:only-of-type {\n",
       "        vertical-align: middle;\n",
       "    }\n",
       "\n",
       "    .dataframe tbody tr th {\n",
       "        vertical-align: top;\n",
       "    }\n",
       "\n",
       "    .dataframe thead th {\n",
       "        text-align: right;\n",
       "    }\n",
       "</style>\n",
       "<table border=\"1\" class=\"dataframe\">\n",
       "  <thead>\n",
       "    <tr style=\"text-align: right;\">\n",
       "      <th></th>\n",
       "      <th>msno</th>\n",
       "      <th>payment_method_id_x</th>\n",
       "      <th>payment_method_id_y</th>\n",
       "    </tr>\n",
       "  </thead>\n",
       "  <tbody>\n",
       "    <tr>\n",
       "      <th>0</th>\n",
       "      <td>+++FOrTS7ab3tIgIh8eWwX4FqRv8w/FoiOuyXsFvphY=</td>\n",
       "      <td>1</td>\n",
       "      <td>35</td>\n",
       "    </tr>\n",
       "    <tr>\n",
       "      <th>1</th>\n",
       "      <td>+++IZseRRiQS9aaSkH6cMYU6bGDcxUieAi/tH67sC5s=</td>\n",
       "      <td>1</td>\n",
       "      <td>38</td>\n",
       "    </tr>\n",
       "    <tr>\n",
       "      <th>2</th>\n",
       "      <td>+++hVY1rZox/33YtvDgmKA2Frg/2qhkz12B9ylCvh8o=</td>\n",
       "      <td>4</td>\n",
       "      <td>41</td>\n",
       "    </tr>\n",
       "    <tr>\n",
       "      <th>3</th>\n",
       "      <td>+++l/EXNMLTijfLBa8p2TUVVVp2aFGSuUI/h7mLmthw=</td>\n",
       "      <td>19</td>\n",
       "      <td>39</td>\n",
       "    </tr>\n",
       "    <tr>\n",
       "      <th>4</th>\n",
       "      <td>+++snpr7pmobhLKUgSHTv/mpkqgBT0tQJ0zQj6qKrqc=</td>\n",
       "      <td>26</td>\n",
       "      <td>41</td>\n",
       "    </tr>\n",
       "  </tbody>\n",
       "</table>\n",
       "</div>"
      ],
      "text/plain": [
       "                                           msno  payment_method_id_x  \\\n",
       "0  +++FOrTS7ab3tIgIh8eWwX4FqRv8w/FoiOuyXsFvphY=                    1   \n",
       "1  +++IZseRRiQS9aaSkH6cMYU6bGDcxUieAi/tH67sC5s=                    1   \n",
       "2  +++hVY1rZox/33YtvDgmKA2Frg/2qhkz12B9ylCvh8o=                    4   \n",
       "3  +++l/EXNMLTijfLBa8p2TUVVVp2aFGSuUI/h7mLmthw=                   19   \n",
       "4  +++snpr7pmobhLKUgSHTv/mpkqgBT0tQJ0zQj6qKrqc=                   26   \n",
       "\n",
       "   payment_method_id_y  \n",
       "0                   35  \n",
       "1                   38  \n",
       "2                   41  \n",
       "3                   39  \n",
       "4                   41  "
      ]
     },
     "execution_count": 31,
     "metadata": {},
     "output_type": "execute_result"
    }
   ],
   "source": [
    "final_df.head()"
   ]
  },
  {
   "cell_type": "code",
   "execution_count": 32,
   "id": "b3052d4b-ac3b-43f4-b3ad-158daa42310e",
   "metadata": {
    "tags": []
   },
   "outputs": [],
   "source": [
    "final_df = final_df.merge(temp_payment_method, on='msno')"
   ]
  },
  {
   "cell_type": "code",
   "execution_count": 33,
   "id": "fbb82047-10ba-43a7-86e8-3170117527b2",
   "metadata": {
    "tags": []
   },
   "outputs": [],
   "source": [
    "final_df = final_df.merge(revenue, on='msno')\n",
    "final_df = final_df.merge(auto_renew, on='msno')\n",
    "final_df = final_df.merge(cancelations, on='msno')\n",
    "final_df = final_df.merge(quarter, on='msno')"
   ]
  },
  {
   "cell_type": "code",
   "execution_count": 34,
   "id": "3fa9a733-8408-4723-b885-812f96b4143a",
   "metadata": {
    "tags": []
   },
   "outputs": [
    {
     "data": {
      "text/plain": [
       "(2363626, 8)"
      ]
     },
     "execution_count": 34,
     "metadata": {},
     "output_type": "execute_result"
    }
   ],
   "source": [
    "final_df.shape"
   ]
  },
  {
   "cell_type": "code",
   "execution_count": 35,
   "id": "377a3db5-4bbd-43fb-914f-01759eb3a34d",
   "metadata": {
    "tags": []
   },
   "outputs": [
    {
     "data": {
      "text/html": [
       "<div>\n",
       "<style scoped>\n",
       "    .dataframe tbody tr th:only-of-type {\n",
       "        vertical-align: middle;\n",
       "    }\n",
       "\n",
       "    .dataframe tbody tr th {\n",
       "        vertical-align: top;\n",
       "    }\n",
       "\n",
       "    .dataframe thead th {\n",
       "        text-align: right;\n",
       "    }\n",
       "</style>\n",
       "<table border=\"1\" class=\"dataframe\">\n",
       "  <thead>\n",
       "    <tr style=\"text-align: right;\">\n",
       "      <th></th>\n",
       "      <th>msno</th>\n",
       "      <th>payment_method_id_x</th>\n",
       "      <th>payment_method_id_y</th>\n",
       "      <th>payment_method_id</th>\n",
       "      <th>actual_amount_paid</th>\n",
       "      <th>is_auto_renew</th>\n",
       "      <th>is_cancel</th>\n",
       "      <th>quarter</th>\n",
       "    </tr>\n",
       "  </thead>\n",
       "  <tbody>\n",
       "    <tr>\n",
       "      <th>0</th>\n",
       "      <td>+++FOrTS7ab3tIgIh8eWwX4FqRv8w/FoiOuyXsFvphY=</td>\n",
       "      <td>1</td>\n",
       "      <td>35</td>\n",
       "      <td>35</td>\n",
       "      <td>0</td>\n",
       "      <td>0</td>\n",
       "      <td>0</td>\n",
       "      <td>3</td>\n",
       "    </tr>\n",
       "    <tr>\n",
       "      <th>1</th>\n",
       "      <td>+++IZseRRiQS9aaSkH6cMYU6bGDcxUieAi/tH67sC5s=</td>\n",
       "      <td>1</td>\n",
       "      <td>38</td>\n",
       "      <td>38</td>\n",
       "      <td>1788</td>\n",
       "      <td>0</td>\n",
       "      <td>0</td>\n",
       "      <td>4</td>\n",
       "    </tr>\n",
       "    <tr>\n",
       "      <th>2</th>\n",
       "      <td>+++hVY1rZox/33YtvDgmKA2Frg/2qhkz12B9ylCvh8o=</td>\n",
       "      <td>4</td>\n",
       "      <td>41</td>\n",
       "      <td>41</td>\n",
       "      <td>396</td>\n",
       "      <td>1</td>\n",
       "      <td>0</td>\n",
       "      <td>1</td>\n",
       "    </tr>\n",
       "    <tr>\n",
       "      <th>3</th>\n",
       "      <td>+++l/EXNMLTijfLBa8p2TUVVVp2aFGSuUI/h7mLmthw=</td>\n",
       "      <td>19</td>\n",
       "      <td>39</td>\n",
       "      <td>39</td>\n",
       "      <td>2831</td>\n",
       "      <td>1</td>\n",
       "      <td>0</td>\n",
       "      <td>3</td>\n",
       "    </tr>\n",
       "    <tr>\n",
       "      <th>4</th>\n",
       "      <td>+++snpr7pmobhLKUgSHTv/mpkqgBT0tQJ0zQj6qKrqc=</td>\n",
       "      <td>26</td>\n",
       "      <td>41</td>\n",
       "      <td>41</td>\n",
       "      <td>3874</td>\n",
       "      <td>1</td>\n",
       "      <td>0</td>\n",
       "      <td>1</td>\n",
       "    </tr>\n",
       "  </tbody>\n",
       "</table>\n",
       "</div>"
      ],
      "text/plain": [
       "                                           msno  payment_method_id_x  \\\n",
       "0  +++FOrTS7ab3tIgIh8eWwX4FqRv8w/FoiOuyXsFvphY=                    1   \n",
       "1  +++IZseRRiQS9aaSkH6cMYU6bGDcxUieAi/tH67sC5s=                    1   \n",
       "2  +++hVY1rZox/33YtvDgmKA2Frg/2qhkz12B9ylCvh8o=                    4   \n",
       "3  +++l/EXNMLTijfLBa8p2TUVVVp2aFGSuUI/h7mLmthw=                   19   \n",
       "4  +++snpr7pmobhLKUgSHTv/mpkqgBT0tQJ0zQj6qKrqc=                   26   \n",
       "\n",
       "   payment_method_id_y  payment_method_id  actual_amount_paid  is_auto_renew  \\\n",
       "0                   35                 35                   0              0   \n",
       "1                   38                 38                1788              0   \n",
       "2                   41                 41                 396              1   \n",
       "3                   39                 39                2831              1   \n",
       "4                   41                 41                3874              1   \n",
       "\n",
       "   is_cancel  quarter  \n",
       "0          0        3  \n",
       "1          0        4  \n",
       "2          0        1  \n",
       "3          0        3  \n",
       "4          0        1  "
      ]
     },
     "execution_count": 35,
     "metadata": {},
     "output_type": "execute_result"
    }
   ],
   "source": [
    "final_df.head()"
   ]
  },
  {
   "cell_type": "code",
   "execution_count": null,
   "id": "06dd9dda-08e9-4dd0-b330-6eb2642ce5c0",
   "metadata": {
    "tags": []
   },
   "outputs": [],
   "source": [
    "final_df.columns=['msno','regist_trans','mst_frq_plan_days','mst_frq_pay_met','revenue','is_auto_renew','regist_cancels','qtr_trans']"
   ]
  },
  {
   "cell_type": "code",
   "execution_count": null,
   "id": "354acfbb-7fc6-462d-842a-13c801d2e5da",
   "metadata": {
    "tags": []
   },
   "outputs": [],
   "source": [
    "final_df.head()"
   ]
  },
  {
   "cell_type": "code",
   "execution_count": null,
   "id": "f25086f6-676e-4437-9fa5-f8da4d0175b8",
   "metadata": {
    "tags": []
   },
   "outputs": [],
   "source": [
    "final_df.to_csv('data/final_transactions.csv', index=False)"
   ]
  },
  {
   "cell_type": "markdown",
   "id": "3cb0309a-9cb6-4844-a9a9-07bc631a7e30",
   "metadata": {},
   "source": [
    "# Feature Engineering For the Members dataset"
   ]
  },
  {
   "cell_type": "code",
   "execution_count": 36,
   "id": "3ff472be-bb64-40ca-8837-505b1488daab",
   "metadata": {
    "tags": []
   },
   "outputs": [],
   "source": [
    "members_df = pd.read_csv(f's3://{s3_bucket}/{s3_key_prefix}/members_v3.csv')"
   ]
  },
  {
   "cell_type": "code",
   "execution_count": 37,
   "id": "48fd08d0-e94b-4a2a-9be1-30f01d3d12c6",
   "metadata": {
    "tags": []
   },
   "outputs": [
    {
     "data": {
      "text/html": [
       "<div>\n",
       "<style scoped>\n",
       "    .dataframe tbody tr th:only-of-type {\n",
       "        vertical-align: middle;\n",
       "    }\n",
       "\n",
       "    .dataframe tbody tr th {\n",
       "        vertical-align: top;\n",
       "    }\n",
       "\n",
       "    .dataframe thead th {\n",
       "        text-align: right;\n",
       "    }\n",
       "</style>\n",
       "<table border=\"1\" class=\"dataframe\">\n",
       "  <thead>\n",
       "    <tr style=\"text-align: right;\">\n",
       "      <th></th>\n",
       "      <th>msno</th>\n",
       "      <th>city</th>\n",
       "      <th>bd</th>\n",
       "      <th>gender</th>\n",
       "      <th>registered_via</th>\n",
       "      <th>registration_init_time</th>\n",
       "    </tr>\n",
       "  </thead>\n",
       "  <tbody>\n",
       "    <tr>\n",
       "      <th>0</th>\n",
       "      <td>Rb9UwLQTrxzBVwCB6+bCcSQWZ9JiNLC9dXtM1oEsZA8=</td>\n",
       "      <td>1</td>\n",
       "      <td>0</td>\n",
       "      <td>NaN</td>\n",
       "      <td>11</td>\n",
       "      <td>20110911</td>\n",
       "    </tr>\n",
       "    <tr>\n",
       "      <th>1</th>\n",
       "      <td>+tJonkh+O1CA796Fm5X60UMOtB6POHAwPjbTRVl/EuU=</td>\n",
       "      <td>1</td>\n",
       "      <td>0</td>\n",
       "      <td>NaN</td>\n",
       "      <td>7</td>\n",
       "      <td>20110914</td>\n",
       "    </tr>\n",
       "    <tr>\n",
       "      <th>2</th>\n",
       "      <td>cV358ssn7a0f7jZOwGNWS07wCKVqxyiImJUX6xcIwKw=</td>\n",
       "      <td>1</td>\n",
       "      <td>0</td>\n",
       "      <td>NaN</td>\n",
       "      <td>11</td>\n",
       "      <td>20110915</td>\n",
       "    </tr>\n",
       "    <tr>\n",
       "      <th>3</th>\n",
       "      <td>9bzDeJP6sQodK73K5CBlJ6fgIQzPeLnRl0p5B77XP+g=</td>\n",
       "      <td>1</td>\n",
       "      <td>0</td>\n",
       "      <td>NaN</td>\n",
       "      <td>11</td>\n",
       "      <td>20110915</td>\n",
       "    </tr>\n",
       "    <tr>\n",
       "      <th>4</th>\n",
       "      <td>WFLY3s7z4EZsieHCt63XrsdtfTEmJ+2PnnKLH5GY4Tk=</td>\n",
       "      <td>6</td>\n",
       "      <td>32</td>\n",
       "      <td>female</td>\n",
       "      <td>9</td>\n",
       "      <td>20110915</td>\n",
       "    </tr>\n",
       "  </tbody>\n",
       "</table>\n",
       "</div>"
      ],
      "text/plain": [
       "                                           msno  city  bd  gender  \\\n",
       "0  Rb9UwLQTrxzBVwCB6+bCcSQWZ9JiNLC9dXtM1oEsZA8=     1   0     NaN   \n",
       "1  +tJonkh+O1CA796Fm5X60UMOtB6POHAwPjbTRVl/EuU=     1   0     NaN   \n",
       "2  cV358ssn7a0f7jZOwGNWS07wCKVqxyiImJUX6xcIwKw=     1   0     NaN   \n",
       "3  9bzDeJP6sQodK73K5CBlJ6fgIQzPeLnRl0p5B77XP+g=     1   0     NaN   \n",
       "4  WFLY3s7z4EZsieHCt63XrsdtfTEmJ+2PnnKLH5GY4Tk=     6  32  female   \n",
       "\n",
       "   registered_via  registration_init_time  \n",
       "0              11                20110911  \n",
       "1               7                20110914  \n",
       "2              11                20110915  \n",
       "3              11                20110915  \n",
       "4               9                20110915  "
      ]
     },
     "execution_count": 37,
     "metadata": {},
     "output_type": "execute_result"
    }
   ],
   "source": [
    "members_df.head()"
   ]
  },
  {
   "cell_type": "code",
   "execution_count": 38,
   "id": "33d7a00e-2719-4555-9601-9813b5aad8c2",
   "metadata": {
    "tags": []
   },
   "outputs": [
    {
     "data": {
      "text/html": [
       "<div>\n",
       "<style scoped>\n",
       "    .dataframe tbody tr th:only-of-type {\n",
       "        vertical-align: middle;\n",
       "    }\n",
       "\n",
       "    .dataframe tbody tr th {\n",
       "        vertical-align: top;\n",
       "    }\n",
       "\n",
       "    .dataframe thead th {\n",
       "        text-align: right;\n",
       "    }\n",
       "</style>\n",
       "<table border=\"1\" class=\"dataframe\">\n",
       "  <thead>\n",
       "    <tr style=\"text-align: right;\">\n",
       "      <th></th>\n",
       "      <th>city</th>\n",
       "      <th>bd</th>\n",
       "      <th>registered_via</th>\n",
       "      <th>registration_init_time</th>\n",
       "    </tr>\n",
       "  </thead>\n",
       "  <tbody>\n",
       "    <tr>\n",
       "      <th>count</th>\n",
       "      <td>6.769473e+06</td>\n",
       "      <td>6.769473e+06</td>\n",
       "      <td>6.769473e+06</td>\n",
       "      <td>6.769473e+06</td>\n",
       "    </tr>\n",
       "    <tr>\n",
       "      <th>mean</th>\n",
       "      <td>3.847358e+00</td>\n",
       "      <td>9.795794e+00</td>\n",
       "      <td>5.253069e+00</td>\n",
       "      <td>2.014518e+07</td>\n",
       "    </tr>\n",
       "    <tr>\n",
       "      <th>std</th>\n",
       "      <td>5.478359e+00</td>\n",
       "      <td>1.792590e+01</td>\n",
       "      <td>2.361398e+00</td>\n",
       "      <td>2.318601e+04</td>\n",
       "    </tr>\n",
       "    <tr>\n",
       "      <th>min</th>\n",
       "      <td>1.000000e+00</td>\n",
       "      <td>-7.168000e+03</td>\n",
       "      <td>-1.000000e+00</td>\n",
       "      <td>2.004033e+07</td>\n",
       "    </tr>\n",
       "    <tr>\n",
       "      <th>25%</th>\n",
       "      <td>1.000000e+00</td>\n",
       "      <td>0.000000e+00</td>\n",
       "      <td>4.000000e+00</td>\n",
       "      <td>2.014042e+07</td>\n",
       "    </tr>\n",
       "    <tr>\n",
       "      <th>50%</th>\n",
       "      <td>1.000000e+00</td>\n",
       "      <td>0.000000e+00</td>\n",
       "      <td>4.000000e+00</td>\n",
       "      <td>2.015101e+07</td>\n",
       "    </tr>\n",
       "    <tr>\n",
       "      <th>75%</th>\n",
       "      <td>4.000000e+00</td>\n",
       "      <td>2.100000e+01</td>\n",
       "      <td>7.000000e+00</td>\n",
       "      <td>2.016060e+07</td>\n",
       "    </tr>\n",
       "    <tr>\n",
       "      <th>max</th>\n",
       "      <td>2.200000e+01</td>\n",
       "      <td>2.016000e+03</td>\n",
       "      <td>1.900000e+01</td>\n",
       "      <td>2.017043e+07</td>\n",
       "    </tr>\n",
       "  </tbody>\n",
       "</table>\n",
       "</div>"
      ],
      "text/plain": [
       "               city            bd  registered_via  registration_init_time\n",
       "count  6.769473e+06  6.769473e+06    6.769473e+06            6.769473e+06\n",
       "mean   3.847358e+00  9.795794e+00    5.253069e+00            2.014518e+07\n",
       "std    5.478359e+00  1.792590e+01    2.361398e+00            2.318601e+04\n",
       "min    1.000000e+00 -7.168000e+03   -1.000000e+00            2.004033e+07\n",
       "25%    1.000000e+00  0.000000e+00    4.000000e+00            2.014042e+07\n",
       "50%    1.000000e+00  0.000000e+00    4.000000e+00            2.015101e+07\n",
       "75%    4.000000e+00  2.100000e+01    7.000000e+00            2.016060e+07\n",
       "max    2.200000e+01  2.016000e+03    1.900000e+01            2.017043e+07"
      ]
     },
     "execution_count": 38,
     "metadata": {},
     "output_type": "execute_result"
    }
   ],
   "source": [
    "members_df.describe()"
   ]
  },
  {
   "cell_type": "code",
   "execution_count": 39,
   "id": "d4789bc3-0acb-4623-ad3b-31ee2253fd0a",
   "metadata": {
    "tags": []
   },
   "outputs": [
    {
     "data": {
      "text/plain": [
       "(6769473, 6)"
      ]
     },
     "execution_count": 39,
     "metadata": {},
     "output_type": "execute_result"
    }
   ],
   "source": [
    "members_df.shape"
   ]
  },
  {
   "cell_type": "code",
   "execution_count": 40,
   "id": "96b6a07b-15fc-4017-9db5-65208aea1628",
   "metadata": {
    "tags": []
   },
   "outputs": [
    {
     "data": {
      "text/plain": [
       "6769473"
      ]
     },
     "execution_count": 40,
     "metadata": {},
     "output_type": "execute_result"
    }
   ],
   "source": [
    "members_df['msno'].nunique()"
   ]
  },
  {
   "cell_type": "code",
   "execution_count": 41,
   "id": "6c54e5f2-ed62-4333-8c2b-a68ef56a9bd3",
   "metadata": {
    "tags": []
   },
   "outputs": [
    {
     "data": {
      "text/plain": [
       "msno                            0\n",
       "city                            0\n",
       "bd                              0\n",
       "gender                    4429505\n",
       "registered_via                  0\n",
       "registration_init_time          0\n",
       "dtype: int64"
      ]
     },
     "execution_count": 41,
     "metadata": {},
     "output_type": "execute_result"
    }
   ],
   "source": [
    "members_df.isna().sum()"
   ]
  },
  {
   "cell_type": "code",
   "execution_count": null,
   "id": "abaf3828-aa54-44bd-bc24-1b152ab9affc",
   "metadata": {
    "tags": []
   },
   "outputs": [],
   "source": [
    "members_df.fillna('other', inplace=True)"
   ]
  },
  {
   "cell_type": "code",
   "execution_count": null,
   "id": "c91f505b-3ab5-4db7-bdf0-af5bb6a8c17d",
   "metadata": {
    "tags": []
   },
   "outputs": [],
   "source": [
    "members_df['registration_init_time'] = pd.to_datetime(members_df['registration_init_time'])"
   ]
  },
  {
   "cell_type": "code",
   "execution_count": null,
   "id": "9583871e-9830-44ae-bbf9-bf87a6766004",
   "metadata": {
    "tags": []
   },
   "outputs": [],
   "source": [
    "members_df.info()"
   ]
  },
  {
   "cell_type": "code",
   "execution_count": null,
   "id": "0f026fbf-0f3a-40ba-8c02-d8c5590a7e0f",
   "metadata": {
    "tags": []
   },
   "outputs": [],
   "source": [
    "# members_df = members_df[ (members_df['bd'] > 0) & (members_df['bd'] < 100 )]"
   ]
  },
  {
   "cell_type": "code",
   "execution_count": null,
   "id": "45b11743-f6e7-4fb1-8e0c-e4cb933b4ed0",
   "metadata": {
    "tags": []
   },
   "outputs": [],
   "source": [
    "members_df.shape"
   ]
  },
  {
   "cell_type": "code",
   "execution_count": null,
   "id": "6e97e5f9-5342-4048-ad5d-c9ae1e66b002",
   "metadata": {
    "tags": []
   },
   "outputs": [],
   "source": [
    "members_df.to_csv('data/final_members.csv',index=False)"
   ]
  },
  {
   "cell_type": "markdown",
   "id": "663e9d60-cadd-466c-92e9-2d8b6639a6d2",
   "metadata": {},
   "source": [
    "# Process Log Dataset"
   ]
  },
  {
   "cell_type": "code",
   "execution_count": null,
   "id": "f96f590c-7bf9-436b-828d-59c1f8ec3872",
   "metadata": {
    "tags": []
   },
   "outputs": [],
   "source": [
    "# ulog_df = pd.read_csv(\"s3://sagemaker-us-east-2-869530972998/data/kkbox-customer-churn-model/input/user_logs_v2.csv\")\n",
    "ulog_df = pd.read_csv(\"s3://sagemaker-us-east-1-602900100639/data/kkbox-customer-churn-model/raw/user_logs.csv\")"
   ]
  },
  {
   "cell_type": "code",
   "execution_count": null,
   "id": "271873e4-0f1b-4522-b772-f6f22acab67d",
   "metadata": {
    "tags": []
   },
   "outputs": [],
   "source": [
    "ulog_df.head()"
   ]
  },
  {
   "cell_type": "code",
   "execution_count": null,
   "id": "bcaca361-7a33-4c3f-940b-70e871a9c928",
   "metadata": {
    "tags": []
   },
   "outputs": [],
   "source": [
    "ulog_df['date'] = pd.to_datetime(ulog_df['date'])"
   ]
  },
  {
   "cell_type": "code",
   "execution_count": null,
   "id": "18d80c51-5a9a-438c-b193-d96b1c396921",
   "metadata": {
    "tags": []
   },
   "outputs": [],
   "source": [
    "ulog_df['total_secs']=np.log(ulog_df['total_secs'])"
   ]
  },
  {
   "cell_type": "code",
   "execution_count": 74,
   "id": "15970c92-a972-4d8e-bd56-1fcd37f355a3",
   "metadata": {
    "tags": []
   },
   "outputs": [],
   "source": [
    "ulog_df=ulog_df.groupby(by='msno').mean().reset_index()"
   ]
  },
  {
   "cell_type": "code",
   "execution_count": 75,
   "id": "855623eb-23f8-4bb9-a6b4-4a9f9102dc31",
   "metadata": {
    "tags": []
   },
   "outputs": [
    {
     "data": {
      "text/plain": [
       "(5234111, 8)"
      ]
     },
     "execution_count": 75,
     "metadata": {},
     "output_type": "execute_result"
    }
   ],
   "source": [
    "ulog_df.shape"
   ]
  },
  {
   "cell_type": "code",
   "execution_count": 76,
   "id": "e5d0eea9-8d54-4652-a523-9a8cd58ca8b3",
   "metadata": {
    "tags": []
   },
   "outputs": [],
   "source": [
    "ulog_df.to_csv('data/final_logs.csv',index=False)"
   ]
  },
  {
   "cell_type": "markdown",
   "id": "0cf2e256-ccf9-486c-8b7f-3dfe8efa4104",
   "metadata": {},
   "source": [
    "# Putting all Data Together"
   ]
  },
  {
   "cell_type": "code",
   "execution_count": 6,
   "id": "8f61ca9b-f318-4961-994e-c75be744d37f",
   "metadata": {
    "tags": []
   },
   "outputs": [
    {
     "ename": "FileNotFoundError",
     "evalue": "[Errno 2] No such file or directory: 'data/final_transactions.csv'",
     "output_type": "error",
     "traceback": [
      "\u001b[0;31m---------------------------------------------------------------------------\u001b[0m",
      "\u001b[0;31mFileNotFoundError\u001b[0m                         Traceback (most recent call last)",
      "\u001b[0;32m<ipython-input-6-6ba0b08398d6>\u001b[0m in \u001b[0;36m<module>\u001b[0;34m\u001b[0m\n\u001b[1;32m      1\u001b[0m \u001b[0mtrain_df\u001b[0m \u001b[0;34m=\u001b[0m \u001b[0mpd\u001b[0m\u001b[0;34m.\u001b[0m\u001b[0mread_csv\u001b[0m\u001b[0;34m(\u001b[0m\u001b[0;34mf's3://{s3_bucket}/{s3_key_prefix}/train.csv'\u001b[0m\u001b[0;34m)\u001b[0m\u001b[0;34m\u001b[0m\u001b[0;34m\u001b[0m\u001b[0m\n\u001b[0;32m----> 2\u001b[0;31m \u001b[0mfinal_df\u001b[0m \u001b[0;34m=\u001b[0m \u001b[0mpd\u001b[0m\u001b[0;34m.\u001b[0m\u001b[0mread_csv\u001b[0m\u001b[0;34m(\u001b[0m\u001b[0;34m\"data/final_transactions.csv\"\u001b[0m\u001b[0;34m)\u001b[0m\u001b[0;34m\u001b[0m\u001b[0;34m\u001b[0m\u001b[0m\n\u001b[0m\u001b[1;32m      3\u001b[0m \u001b[0mmembers_df\u001b[0m \u001b[0;34m=\u001b[0m \u001b[0mpd\u001b[0m\u001b[0;34m.\u001b[0m\u001b[0mread_csv\u001b[0m\u001b[0;34m(\u001b[0m\u001b[0;34m\"data/final_members.csv\"\u001b[0m\u001b[0;34m)\u001b[0m\u001b[0;34m\u001b[0m\u001b[0;34m\u001b[0m\u001b[0m\n\u001b[1;32m      4\u001b[0m \u001b[0mulog_df\u001b[0m \u001b[0;34m=\u001b[0m \u001b[0mpd\u001b[0m\u001b[0;34m.\u001b[0m\u001b[0mread_csv\u001b[0m\u001b[0;34m(\u001b[0m\u001b[0;34m\"data/final_logs.csv\"\u001b[0m\u001b[0;34m)\u001b[0m\u001b[0;34m\u001b[0m\u001b[0;34m\u001b[0m\u001b[0m\n",
      "\u001b[0;32m/opt/conda/lib/python3.7/site-packages/pandas/util/_decorators.py\u001b[0m in \u001b[0;36mwrapper\u001b[0;34m(*args, **kwargs)\u001b[0m\n\u001b[1;32m    309\u001b[0m                     \u001b[0mstacklevel\u001b[0m\u001b[0;34m=\u001b[0m\u001b[0mstacklevel\u001b[0m\u001b[0;34m,\u001b[0m\u001b[0;34m\u001b[0m\u001b[0;34m\u001b[0m\u001b[0m\n\u001b[1;32m    310\u001b[0m                 )\n\u001b[0;32m--> 311\u001b[0;31m             \u001b[0;32mreturn\u001b[0m \u001b[0mfunc\u001b[0m\u001b[0;34m(\u001b[0m\u001b[0;34m*\u001b[0m\u001b[0margs\u001b[0m\u001b[0;34m,\u001b[0m \u001b[0;34m**\u001b[0m\u001b[0mkwargs\u001b[0m\u001b[0;34m)\u001b[0m\u001b[0;34m\u001b[0m\u001b[0;34m\u001b[0m\u001b[0m\n\u001b[0m\u001b[1;32m    312\u001b[0m \u001b[0;34m\u001b[0m\u001b[0m\n\u001b[1;32m    313\u001b[0m         \u001b[0;32mreturn\u001b[0m \u001b[0mwrapper\u001b[0m\u001b[0;34m\u001b[0m\u001b[0;34m\u001b[0m\u001b[0m\n",
      "\u001b[0;32m/opt/conda/lib/python3.7/site-packages/pandas/io/parsers/readers.py\u001b[0m in \u001b[0;36mread_csv\u001b[0;34m(filepath_or_buffer, sep, delimiter, header, names, index_col, usecols, squeeze, prefix, mangle_dupe_cols, dtype, engine, converters, true_values, false_values, skipinitialspace, skiprows, skipfooter, nrows, na_values, keep_default_na, na_filter, verbose, skip_blank_lines, parse_dates, infer_datetime_format, keep_date_col, date_parser, dayfirst, cache_dates, iterator, chunksize, compression, thousands, decimal, lineterminator, quotechar, quoting, doublequote, escapechar, comment, encoding, encoding_errors, dialect, error_bad_lines, warn_bad_lines, on_bad_lines, delim_whitespace, low_memory, memory_map, float_precision, storage_options)\u001b[0m\n\u001b[1;32m    584\u001b[0m     \u001b[0mkwds\u001b[0m\u001b[0;34m.\u001b[0m\u001b[0mupdate\u001b[0m\u001b[0;34m(\u001b[0m\u001b[0mkwds_defaults\u001b[0m\u001b[0;34m)\u001b[0m\u001b[0;34m\u001b[0m\u001b[0;34m\u001b[0m\u001b[0m\n\u001b[1;32m    585\u001b[0m \u001b[0;34m\u001b[0m\u001b[0m\n\u001b[0;32m--> 586\u001b[0;31m     \u001b[0;32mreturn\u001b[0m \u001b[0m_read\u001b[0m\u001b[0;34m(\u001b[0m\u001b[0mfilepath_or_buffer\u001b[0m\u001b[0;34m,\u001b[0m \u001b[0mkwds\u001b[0m\u001b[0;34m)\u001b[0m\u001b[0;34m\u001b[0m\u001b[0;34m\u001b[0m\u001b[0m\n\u001b[0m\u001b[1;32m    587\u001b[0m \u001b[0;34m\u001b[0m\u001b[0m\n\u001b[1;32m    588\u001b[0m \u001b[0;34m\u001b[0m\u001b[0m\n",
      "\u001b[0;32m/opt/conda/lib/python3.7/site-packages/pandas/io/parsers/readers.py\u001b[0m in \u001b[0;36m_read\u001b[0;34m(filepath_or_buffer, kwds)\u001b[0m\n\u001b[1;32m    480\u001b[0m \u001b[0;34m\u001b[0m\u001b[0m\n\u001b[1;32m    481\u001b[0m     \u001b[0;31m# Create the parser.\u001b[0m\u001b[0;34m\u001b[0m\u001b[0;34m\u001b[0m\u001b[0;34m\u001b[0m\u001b[0m\n\u001b[0;32m--> 482\u001b[0;31m     \u001b[0mparser\u001b[0m \u001b[0;34m=\u001b[0m \u001b[0mTextFileReader\u001b[0m\u001b[0;34m(\u001b[0m\u001b[0mfilepath_or_buffer\u001b[0m\u001b[0;34m,\u001b[0m \u001b[0;34m**\u001b[0m\u001b[0mkwds\u001b[0m\u001b[0;34m)\u001b[0m\u001b[0;34m\u001b[0m\u001b[0;34m\u001b[0m\u001b[0m\n\u001b[0m\u001b[1;32m    483\u001b[0m \u001b[0;34m\u001b[0m\u001b[0m\n\u001b[1;32m    484\u001b[0m     \u001b[0;32mif\u001b[0m \u001b[0mchunksize\u001b[0m \u001b[0;32mor\u001b[0m \u001b[0miterator\u001b[0m\u001b[0;34m:\u001b[0m\u001b[0;34m\u001b[0m\u001b[0;34m\u001b[0m\u001b[0m\n",
      "\u001b[0;32m/opt/conda/lib/python3.7/site-packages/pandas/io/parsers/readers.py\u001b[0m in \u001b[0;36m__init__\u001b[0;34m(self, f, engine, **kwds)\u001b[0m\n\u001b[1;32m    809\u001b[0m             \u001b[0mself\u001b[0m\u001b[0;34m.\u001b[0m\u001b[0moptions\u001b[0m\u001b[0;34m[\u001b[0m\u001b[0;34m\"has_index_names\"\u001b[0m\u001b[0;34m]\u001b[0m \u001b[0;34m=\u001b[0m \u001b[0mkwds\u001b[0m\u001b[0;34m[\u001b[0m\u001b[0;34m\"has_index_names\"\u001b[0m\u001b[0;34m]\u001b[0m\u001b[0;34m\u001b[0m\u001b[0;34m\u001b[0m\u001b[0m\n\u001b[1;32m    810\u001b[0m \u001b[0;34m\u001b[0m\u001b[0m\n\u001b[0;32m--> 811\u001b[0;31m         \u001b[0mself\u001b[0m\u001b[0;34m.\u001b[0m\u001b[0m_engine\u001b[0m \u001b[0;34m=\u001b[0m \u001b[0mself\u001b[0m\u001b[0;34m.\u001b[0m\u001b[0m_make_engine\u001b[0m\u001b[0;34m(\u001b[0m\u001b[0mself\u001b[0m\u001b[0;34m.\u001b[0m\u001b[0mengine\u001b[0m\u001b[0;34m)\u001b[0m\u001b[0;34m\u001b[0m\u001b[0;34m\u001b[0m\u001b[0m\n\u001b[0m\u001b[1;32m    812\u001b[0m \u001b[0;34m\u001b[0m\u001b[0m\n\u001b[1;32m    813\u001b[0m     \u001b[0;32mdef\u001b[0m \u001b[0mclose\u001b[0m\u001b[0;34m(\u001b[0m\u001b[0mself\u001b[0m\u001b[0;34m)\u001b[0m\u001b[0;34m:\u001b[0m\u001b[0;34m\u001b[0m\u001b[0;34m\u001b[0m\u001b[0m\n",
      "\u001b[0;32m/opt/conda/lib/python3.7/site-packages/pandas/io/parsers/readers.py\u001b[0m in \u001b[0;36m_make_engine\u001b[0;34m(self, engine)\u001b[0m\n\u001b[1;32m   1038\u001b[0m             )\n\u001b[1;32m   1039\u001b[0m         \u001b[0;31m# error: Too many arguments for \"ParserBase\"\u001b[0m\u001b[0;34m\u001b[0m\u001b[0;34m\u001b[0m\u001b[0;34m\u001b[0m\u001b[0m\n\u001b[0;32m-> 1040\u001b[0;31m         \u001b[0;32mreturn\u001b[0m \u001b[0mmapping\u001b[0m\u001b[0;34m[\u001b[0m\u001b[0mengine\u001b[0m\u001b[0;34m]\u001b[0m\u001b[0;34m(\u001b[0m\u001b[0mself\u001b[0m\u001b[0;34m.\u001b[0m\u001b[0mf\u001b[0m\u001b[0;34m,\u001b[0m \u001b[0;34m**\u001b[0m\u001b[0mself\u001b[0m\u001b[0;34m.\u001b[0m\u001b[0moptions\u001b[0m\u001b[0;34m)\u001b[0m  \u001b[0;31m# type: ignore[call-arg]\u001b[0m\u001b[0;34m\u001b[0m\u001b[0;34m\u001b[0m\u001b[0m\n\u001b[0m\u001b[1;32m   1041\u001b[0m \u001b[0;34m\u001b[0m\u001b[0m\n\u001b[1;32m   1042\u001b[0m     \u001b[0;32mdef\u001b[0m \u001b[0m_failover_to_python\u001b[0m\u001b[0;34m(\u001b[0m\u001b[0mself\u001b[0m\u001b[0;34m)\u001b[0m\u001b[0;34m:\u001b[0m\u001b[0;34m\u001b[0m\u001b[0;34m\u001b[0m\u001b[0m\n",
      "\u001b[0;32m/opt/conda/lib/python3.7/site-packages/pandas/io/parsers/c_parser_wrapper.py\u001b[0m in \u001b[0;36m__init__\u001b[0;34m(self, src, **kwds)\u001b[0m\n\u001b[1;32m     49\u001b[0m \u001b[0;34m\u001b[0m\u001b[0m\n\u001b[1;32m     50\u001b[0m         \u001b[0;31m# open handles\u001b[0m\u001b[0;34m\u001b[0m\u001b[0;34m\u001b[0m\u001b[0;34m\u001b[0m\u001b[0m\n\u001b[0;32m---> 51\u001b[0;31m         \u001b[0mself\u001b[0m\u001b[0;34m.\u001b[0m\u001b[0m_open_handles\u001b[0m\u001b[0;34m(\u001b[0m\u001b[0msrc\u001b[0m\u001b[0;34m,\u001b[0m \u001b[0mkwds\u001b[0m\u001b[0;34m)\u001b[0m\u001b[0;34m\u001b[0m\u001b[0;34m\u001b[0m\u001b[0m\n\u001b[0m\u001b[1;32m     52\u001b[0m         \u001b[0;32massert\u001b[0m \u001b[0mself\u001b[0m\u001b[0;34m.\u001b[0m\u001b[0mhandles\u001b[0m \u001b[0;32mis\u001b[0m \u001b[0;32mnot\u001b[0m \u001b[0;32mNone\u001b[0m\u001b[0;34m\u001b[0m\u001b[0;34m\u001b[0m\u001b[0m\n\u001b[1;32m     53\u001b[0m \u001b[0;34m\u001b[0m\u001b[0m\n",
      "\u001b[0;32m/opt/conda/lib/python3.7/site-packages/pandas/io/parsers/base_parser.py\u001b[0m in \u001b[0;36m_open_handles\u001b[0;34m(self, src, kwds)\u001b[0m\n\u001b[1;32m    227\u001b[0m             \u001b[0mmemory_map\u001b[0m\u001b[0;34m=\u001b[0m\u001b[0mkwds\u001b[0m\u001b[0;34m.\u001b[0m\u001b[0mget\u001b[0m\u001b[0;34m(\u001b[0m\u001b[0;34m\"memory_map\"\u001b[0m\u001b[0;34m,\u001b[0m \u001b[0;32mFalse\u001b[0m\u001b[0;34m)\u001b[0m\u001b[0;34m,\u001b[0m\u001b[0;34m\u001b[0m\u001b[0;34m\u001b[0m\u001b[0m\n\u001b[1;32m    228\u001b[0m             \u001b[0mstorage_options\u001b[0m\u001b[0;34m=\u001b[0m\u001b[0mkwds\u001b[0m\u001b[0;34m.\u001b[0m\u001b[0mget\u001b[0m\u001b[0;34m(\u001b[0m\u001b[0;34m\"storage_options\"\u001b[0m\u001b[0;34m,\u001b[0m \u001b[0;32mNone\u001b[0m\u001b[0;34m)\u001b[0m\u001b[0;34m,\u001b[0m\u001b[0;34m\u001b[0m\u001b[0;34m\u001b[0m\u001b[0m\n\u001b[0;32m--> 229\u001b[0;31m             \u001b[0merrors\u001b[0m\u001b[0;34m=\u001b[0m\u001b[0mkwds\u001b[0m\u001b[0;34m.\u001b[0m\u001b[0mget\u001b[0m\u001b[0;34m(\u001b[0m\u001b[0;34m\"encoding_errors\"\u001b[0m\u001b[0;34m,\u001b[0m \u001b[0;34m\"strict\"\u001b[0m\u001b[0;34m)\u001b[0m\u001b[0;34m,\u001b[0m\u001b[0;34m\u001b[0m\u001b[0;34m\u001b[0m\u001b[0m\n\u001b[0m\u001b[1;32m    230\u001b[0m         )\n\u001b[1;32m    231\u001b[0m \u001b[0;34m\u001b[0m\u001b[0m\n",
      "\u001b[0;32m/opt/conda/lib/python3.7/site-packages/pandas/io/common.py\u001b[0m in \u001b[0;36mget_handle\u001b[0;34m(path_or_buf, mode, encoding, compression, memory_map, is_text, errors, storage_options)\u001b[0m\n\u001b[1;32m    705\u001b[0m                 \u001b[0mencoding\u001b[0m\u001b[0;34m=\u001b[0m\u001b[0mioargs\u001b[0m\u001b[0;34m.\u001b[0m\u001b[0mencoding\u001b[0m\u001b[0;34m,\u001b[0m\u001b[0;34m\u001b[0m\u001b[0;34m\u001b[0m\u001b[0m\n\u001b[1;32m    706\u001b[0m                 \u001b[0merrors\u001b[0m\u001b[0;34m=\u001b[0m\u001b[0merrors\u001b[0m\u001b[0;34m,\u001b[0m\u001b[0;34m\u001b[0m\u001b[0;34m\u001b[0m\u001b[0m\n\u001b[0;32m--> 707\u001b[0;31m                 \u001b[0mnewline\u001b[0m\u001b[0;34m=\u001b[0m\u001b[0;34m\"\"\u001b[0m\u001b[0;34m,\u001b[0m\u001b[0;34m\u001b[0m\u001b[0;34m\u001b[0m\u001b[0m\n\u001b[0m\u001b[1;32m    708\u001b[0m             )\n\u001b[1;32m    709\u001b[0m         \u001b[0;32melse\u001b[0m\u001b[0;34m:\u001b[0m\u001b[0;34m\u001b[0m\u001b[0;34m\u001b[0m\u001b[0m\n",
      "\u001b[0;31mFileNotFoundError\u001b[0m: [Errno 2] No such file or directory: 'data/final_transactions.csv'"
     ]
    }
   ],
   "source": [
    "train_df = pd.read_csv(f's3://{s3_bucket}/{s3_key_prefix}/train.csv')\n",
    "final_df = pd.read_csv(\"data/final_transactions.csv\")\n",
    "members_df = pd.read_csv(\"data/final_members.csv\")\n",
    "ulog_df = pd.read_csv(\"data/final_logs.csv\")"
   ]
  },
  {
   "cell_type": "code",
   "execution_count": 11,
   "id": "b156e276-2269-4de5-a5b2-68ee96f237b8",
   "metadata": {
    "tags": []
   },
   "outputs": [],
   "source": [
    "final_train_df = train_df.merge(final_df, on='msno', how='left')\n",
    "final_train_df = final_train_df.merge(members_df, on='msno', how='left')\n",
    "final_train_df = final_train_df.merge(ulog_df, on='msno', how='left')"
   ]
  },
  {
   "cell_type": "code",
   "execution_count": 12,
   "id": "e3a969a5-6671-419a-9638-b452698f5c10",
   "metadata": {
    "tags": []
   },
   "outputs": [
    {
     "data": {
      "text/plain": [
       "(992931, 21)"
      ]
     },
     "execution_count": 12,
     "metadata": {},
     "output_type": "execute_result"
    }
   ],
   "source": [
    "final_train_df.shape"
   ]
  },
  {
   "cell_type": "code",
   "execution_count": 13,
   "id": "daa72eb6-4f9a-42f2-b71d-9bee716928ac",
   "metadata": {
    "tags": []
   },
   "outputs": [
    {
     "data": {
      "text/html": [
       "<div>\n",
       "<style scoped>\n",
       "    .dataframe tbody tr th:only-of-type {\n",
       "        vertical-align: middle;\n",
       "    }\n",
       "\n",
       "    .dataframe tbody tr th {\n",
       "        vertical-align: top;\n",
       "    }\n",
       "\n",
       "    .dataframe thead th {\n",
       "        text-align: right;\n",
       "    }\n",
       "</style>\n",
       "<table border=\"1\" class=\"dataframe\">\n",
       "  <thead>\n",
       "    <tr style=\"text-align: right;\">\n",
       "      <th></th>\n",
       "      <th>msno</th>\n",
       "      <th>is_churn</th>\n",
       "      <th>regist_trans</th>\n",
       "      <th>mst_frq_plan_days</th>\n",
       "      <th>mst_frq_pay_met</th>\n",
       "      <th>revenue</th>\n",
       "      <th>is_auto_renew</th>\n",
       "      <th>regist_cancels</th>\n",
       "      <th>qtr_trans</th>\n",
       "      <th>city</th>\n",
       "      <th>...</th>\n",
       "      <th>gender</th>\n",
       "      <th>registered_via</th>\n",
       "      <th>registration_init_time</th>\n",
       "      <th>num_25</th>\n",
       "      <th>num_50</th>\n",
       "      <th>num_75</th>\n",
       "      <th>num_985</th>\n",
       "      <th>num_100</th>\n",
       "      <th>num_unq</th>\n",
       "      <th>total_secs</th>\n",
       "    </tr>\n",
       "  </thead>\n",
       "  <tbody>\n",
       "    <tr>\n",
       "      <th>0</th>\n",
       "      <td>waLDQMmcOu2jLDaV1ddDkgCrB/jl6sD66Xzs0Vqax1Y=</td>\n",
       "      <td>1</td>\n",
       "      <td>2</td>\n",
       "      <td>38</td>\n",
       "      <td>38</td>\n",
       "      <td>149</td>\n",
       "      <td>0</td>\n",
       "      <td>0</td>\n",
       "      <td>1</td>\n",
       "      <td>18.0</td>\n",
       "      <td>...</td>\n",
       "      <td>female</td>\n",
       "      <td>9.0</td>\n",
       "      <td>1970-01-01 00:00:00.020050406</td>\n",
       "      <td>1.961538</td>\n",
       "      <td>0.615385</td>\n",
       "      <td>0.730769</td>\n",
       "      <td>0.423077</td>\n",
       "      <td>15.730769</td>\n",
       "      <td>17.769231</td>\n",
       "      <td>7.944578</td>\n",
       "    </tr>\n",
       "    <tr>\n",
       "      <th>1</th>\n",
       "      <td>QA7uiXy8vIbUSPOkCf9RwQ3FsT8jVq2OxDr8zqa7bRQ=</td>\n",
       "      <td>1</td>\n",
       "      <td>23</td>\n",
       "      <td>39</td>\n",
       "      <td>39</td>\n",
       "      <td>3458</td>\n",
       "      <td>1</td>\n",
       "      <td>2</td>\n",
       "      <td>3</td>\n",
       "      <td>10.0</td>\n",
       "      <td>...</td>\n",
       "      <td>male</td>\n",
       "      <td>9.0</td>\n",
       "      <td>1970-01-01 00:00:00.020050407</td>\n",
       "      <td>0.857965</td>\n",
       "      <td>0.301344</td>\n",
       "      <td>0.232246</td>\n",
       "      <td>0.341651</td>\n",
       "      <td>19.082534</td>\n",
       "      <td>13.880998</td>\n",
       "      <td>7.872214</td>\n",
       "    </tr>\n",
       "    <tr>\n",
       "      <th>2</th>\n",
       "      <td>fGwBva6hikQmTJzrbz/2Ezjm5Cth5jZUNvXigKK2AFA=</td>\n",
       "      <td>1</td>\n",
       "      <td>10</td>\n",
       "      <td>39</td>\n",
       "      <td>39</td>\n",
       "      <td>1492</td>\n",
       "      <td>1</td>\n",
       "      <td>1</td>\n",
       "      <td>1</td>\n",
       "      <td>11.0</td>\n",
       "      <td>...</td>\n",
       "      <td>female</td>\n",
       "      <td>9.0</td>\n",
       "      <td>1970-01-01 00:00:00.020051016</td>\n",
       "      <td>6.624473</td>\n",
       "      <td>4.008439</td>\n",
       "      <td>1.274262</td>\n",
       "      <td>2.021097</td>\n",
       "      <td>42.333333</td>\n",
       "      <td>48.662447</td>\n",
       "      <td>8.842402</td>\n",
       "    </tr>\n",
       "    <tr>\n",
       "      <th>3</th>\n",
       "      <td>mT5V8rEpa+8wuqi6x0DoVd3H5icMKkE9Prt49UlmK+4=</td>\n",
       "      <td>1</td>\n",
       "      <td>2</td>\n",
       "      <td>17</td>\n",
       "      <td>17</td>\n",
       "      <td>1788</td>\n",
       "      <td>0</td>\n",
       "      <td>0</td>\n",
       "      <td>1</td>\n",
       "      <td>13.0</td>\n",
       "      <td>...</td>\n",
       "      <td>female</td>\n",
       "      <td>9.0</td>\n",
       "      <td>1970-01-01 00:00:00.020051102</td>\n",
       "      <td>9.884354</td>\n",
       "      <td>3.292517</td>\n",
       "      <td>2.434014</td>\n",
       "      <td>2.223129</td>\n",
       "      <td>24.585034</td>\n",
       "      <td>25.141497</td>\n",
       "      <td>8.413886</td>\n",
       "    </tr>\n",
       "    <tr>\n",
       "      <th>4</th>\n",
       "      <td>XaPhtGLk/5UvvOYHcONTwsnH97P4eGECeq+BARGItRw=</td>\n",
       "      <td>1</td>\n",
       "      <td>8</td>\n",
       "      <td>38</td>\n",
       "      <td>38</td>\n",
       "      <td>3576</td>\n",
       "      <td>0</td>\n",
       "      <td>0</td>\n",
       "      <td>1</td>\n",
       "      <td>3.0</td>\n",
       "      <td>...</td>\n",
       "      <td>male</td>\n",
       "      <td>9.0</td>\n",
       "      <td>1970-01-01 00:00:00.020051228</td>\n",
       "      <td>1.832454</td>\n",
       "      <td>0.941953</td>\n",
       "      <td>0.899736</td>\n",
       "      <td>4.258575</td>\n",
       "      <td>90.674142</td>\n",
       "      <td>95.875989</td>\n",
       "      <td>9.884992</td>\n",
       "    </tr>\n",
       "  </tbody>\n",
       "</table>\n",
       "<p>5 rows × 21 columns</p>\n",
       "</div>"
      ],
      "text/plain": [
       "                                           msno  is_churn  regist_trans  \\\n",
       "0  waLDQMmcOu2jLDaV1ddDkgCrB/jl6sD66Xzs0Vqax1Y=         1             2   \n",
       "1  QA7uiXy8vIbUSPOkCf9RwQ3FsT8jVq2OxDr8zqa7bRQ=         1            23   \n",
       "2  fGwBva6hikQmTJzrbz/2Ezjm5Cth5jZUNvXigKK2AFA=         1            10   \n",
       "3  mT5V8rEpa+8wuqi6x0DoVd3H5icMKkE9Prt49UlmK+4=         1             2   \n",
       "4  XaPhtGLk/5UvvOYHcONTwsnH97P4eGECeq+BARGItRw=         1             8   \n",
       "\n",
       "   mst_frq_plan_days  mst_frq_pay_met  revenue  is_auto_renew  regist_cancels  \\\n",
       "0                 38               38      149              0               0   \n",
       "1                 39               39     3458              1               2   \n",
       "2                 39               39     1492              1               1   \n",
       "3                 17               17     1788              0               0   \n",
       "4                 38               38     3576              0               0   \n",
       "\n",
       "   qtr_trans  city  ...  gender registered_via         registration_init_time  \\\n",
       "0          1  18.0  ...  female            9.0  1970-01-01 00:00:00.020050406   \n",
       "1          3  10.0  ...    male            9.0  1970-01-01 00:00:00.020050407   \n",
       "2          1  11.0  ...  female            9.0  1970-01-01 00:00:00.020051016   \n",
       "3          1  13.0  ...  female            9.0  1970-01-01 00:00:00.020051102   \n",
       "4          1   3.0  ...    male            9.0  1970-01-01 00:00:00.020051228   \n",
       "\n",
       "     num_25    num_50    num_75   num_985    num_100    num_unq  total_secs  \n",
       "0  1.961538  0.615385  0.730769  0.423077  15.730769  17.769231    7.944578  \n",
       "1  0.857965  0.301344  0.232246  0.341651  19.082534  13.880998    7.872214  \n",
       "2  6.624473  4.008439  1.274262  2.021097  42.333333  48.662447    8.842402  \n",
       "3  9.884354  3.292517  2.434014  2.223129  24.585034  25.141497    8.413886  \n",
       "4  1.832454  0.941953  0.899736  4.258575  90.674142  95.875989    9.884992  \n",
       "\n",
       "[5 rows x 21 columns]"
      ]
     },
     "execution_count": 13,
     "metadata": {},
     "output_type": "execute_result"
    }
   ],
   "source": [
    "final_train_df.head()"
   ]
  },
  {
   "cell_type": "code",
   "execution_count": 14,
   "id": "050954e6-c756-4936-8533-06dddb5ddb35",
   "metadata": {
    "tags": []
   },
   "outputs": [
    {
     "data": {
      "text/html": [
       "<div>\n",
       "<style scoped>\n",
       "    .dataframe tbody tr th:only-of-type {\n",
       "        vertical-align: middle;\n",
       "    }\n",
       "\n",
       "    .dataframe tbody tr th {\n",
       "        vertical-align: top;\n",
       "    }\n",
       "\n",
       "    .dataframe thead th {\n",
       "        text-align: right;\n",
       "    }\n",
       "</style>\n",
       "<table border=\"1\" class=\"dataframe\">\n",
       "  <thead>\n",
       "    <tr style=\"text-align: right;\">\n",
       "      <th></th>\n",
       "      <th>%MissingValues</th>\n",
       "    </tr>\n",
       "  </thead>\n",
       "  <tbody>\n",
       "    <tr>\n",
       "      <th>msno</th>\n",
       "      <td>0.00</td>\n",
       "    </tr>\n",
       "    <tr>\n",
       "      <th>is_churn</th>\n",
       "      <td>0.00</td>\n",
       "    </tr>\n",
       "    <tr>\n",
       "      <th>regist_trans</th>\n",
       "      <td>0.00</td>\n",
       "    </tr>\n",
       "    <tr>\n",
       "      <th>mst_frq_plan_days</th>\n",
       "      <td>0.00</td>\n",
       "    </tr>\n",
       "    <tr>\n",
       "      <th>mst_frq_pay_met</th>\n",
       "      <td>0.00</td>\n",
       "    </tr>\n",
       "    <tr>\n",
       "      <th>revenue</th>\n",
       "      <td>0.00</td>\n",
       "    </tr>\n",
       "    <tr>\n",
       "      <th>is_auto_renew</th>\n",
       "      <td>0.00</td>\n",
       "    </tr>\n",
       "    <tr>\n",
       "      <th>regist_cancels</th>\n",
       "      <td>0.00</td>\n",
       "    </tr>\n",
       "    <tr>\n",
       "      <th>qtr_trans</th>\n",
       "      <td>0.00</td>\n",
       "    </tr>\n",
       "    <tr>\n",
       "      <th>city</th>\n",
       "      <td>11.66</td>\n",
       "    </tr>\n",
       "    <tr>\n",
       "      <th>bd</th>\n",
       "      <td>11.66</td>\n",
       "    </tr>\n",
       "    <tr>\n",
       "      <th>gender</th>\n",
       "      <td>11.66</td>\n",
       "    </tr>\n",
       "    <tr>\n",
       "      <th>registered_via</th>\n",
       "      <td>11.66</td>\n",
       "    </tr>\n",
       "    <tr>\n",
       "      <th>registration_init_time</th>\n",
       "      <td>11.66</td>\n",
       "    </tr>\n",
       "    <tr>\n",
       "      <th>num_25</th>\n",
       "      <td>12.39</td>\n",
       "    </tr>\n",
       "    <tr>\n",
       "      <th>num_50</th>\n",
       "      <td>12.39</td>\n",
       "    </tr>\n",
       "    <tr>\n",
       "      <th>num_75</th>\n",
       "      <td>12.39</td>\n",
       "    </tr>\n",
       "    <tr>\n",
       "      <th>num_985</th>\n",
       "      <td>12.39</td>\n",
       "    </tr>\n",
       "    <tr>\n",
       "      <th>num_100</th>\n",
       "      <td>12.39</td>\n",
       "    </tr>\n",
       "    <tr>\n",
       "      <th>num_unq</th>\n",
       "      <td>12.39</td>\n",
       "    </tr>\n",
       "    <tr>\n",
       "      <th>total_secs</th>\n",
       "      <td>12.39</td>\n",
       "    </tr>\n",
       "  </tbody>\n",
       "</table>\n",
       "</div>"
      ],
      "text/plain": [
       "                        %MissingValues\n",
       "msno                              0.00\n",
       "is_churn                          0.00\n",
       "regist_trans                      0.00\n",
       "mst_frq_plan_days                 0.00\n",
       "mst_frq_pay_met                   0.00\n",
       "revenue                           0.00\n",
       "is_auto_renew                     0.00\n",
       "regist_cancels                    0.00\n",
       "qtr_trans                         0.00\n",
       "city                             11.66\n",
       "bd                               11.66\n",
       "gender                           11.66\n",
       "registered_via                   11.66\n",
       "registration_init_time           11.66\n",
       "num_25                           12.39\n",
       "num_50                           12.39\n",
       "num_75                           12.39\n",
       "num_985                          12.39\n",
       "num_100                          12.39\n",
       "num_unq                          12.39\n",
       "total_secs                       12.39"
      ]
     },
     "execution_count": 14,
     "metadata": {},
     "output_type": "execute_result"
    }
   ],
   "source": [
    "pd.DataFrame({'%MissingValues':round((final_train_df.isna().sum()/final_train_df.shape[0])*100,2)})"
   ]
  },
  {
   "cell_type": "code",
   "execution_count": 15,
   "id": "addc1651-cd69-4856-92ab-a5c9e45f0db0",
   "metadata": {
    "tags": []
   },
   "outputs": [
    {
     "name": "stdout",
     "output_type": "stream",
     "text": [
      "(992931, 21)\n",
      "992931\n"
     ]
    }
   ],
   "source": [
    "#Checking for duplicated values\n",
    "\n",
    "print(final_train_df.shape)\n",
    "print(final_train_df.msno.nunique())"
   ]
  },
  {
   "cell_type": "code",
   "execution_count": 16,
   "id": "8d3d5874-fbd3-424a-a5a6-597d82611ff1",
   "metadata": {
    "tags": []
   },
   "outputs": [],
   "source": [
    "upper_thresh = 80\n",
    "final_train_df.loc[final_train_df['bd'] > upper_thresh, 'bd'] = 0"
   ]
  },
  {
   "cell_type": "code",
   "execution_count": 17,
   "id": "44852db6-b6f8-4196-9b6c-d830274c91ca",
   "metadata": {
    "tags": []
   },
   "outputs": [],
   "source": [
    "final_train_df.bd.fillna(0,inplace=True)"
   ]
  },
  {
   "cell_type": "code",
   "execution_count": 18,
   "id": "62925aa9-1394-4686-ba07-97ddc84a15ea",
   "metadata": {
    "tags": []
   },
   "outputs": [],
   "source": [
    "final_train_df.dropna(axis=0,subset=['city','gender','registered_via','registration_init_time'],inplace=True)"
   ]
  },
  {
   "cell_type": "code",
   "execution_count": 19,
   "id": "a743731e-9690-4067-af6a-38ccb49802a5",
   "metadata": {
    "tags": []
   },
   "outputs": [],
   "source": [
    "final_train_df=final_train_df.astype({'mst_frq_pay_met':'object','is_auto_renew':'object','mst_frq_pay_met':'object',\n",
    "           'qtr_trans':'object','city':'object','gender':'object',\n",
    "           'registered_via':'object'\n",
    "})\n",
    "     "
   ]
  },
  {
   "cell_type": "code",
   "execution_count": 20,
   "id": "6c95a2a0-c219-43df-94e3-fa979b02c5a5",
   "metadata": {
    "tags": []
   },
   "outputs": [],
   "source": [
    "final_train_df.registration_init_time = pd.to_datetime(final_train_df.registration_init_time)"
   ]
  },
  {
   "cell_type": "code",
   "execution_count": 21,
   "id": "82a5ff22-750d-441a-abfa-208c08e9a514",
   "metadata": {
    "tags": []
   },
   "outputs": [
    {
     "name": "stdout",
     "output_type": "stream",
     "text": [
      "<class 'pandas.core.frame.DataFrame'>\n",
      "Int64Index: 877161 entries, 0 to 992929\n",
      "Data columns (total 21 columns):\n",
      " #   Column                  Non-Null Count   Dtype         \n",
      "---  ------                  --------------   -----         \n",
      " 0   msno                    877161 non-null  object        \n",
      " 1   is_churn                877161 non-null  int64         \n",
      " 2   regist_trans            877161 non-null  int64         \n",
      " 3   mst_frq_plan_days       877161 non-null  int64         \n",
      " 4   mst_frq_pay_met         877161 non-null  object        \n",
      " 5   revenue                 877161 non-null  int64         \n",
      " 6   is_auto_renew           877161 non-null  object        \n",
      " 7   regist_cancels          877161 non-null  int64         \n",
      " 8   qtr_trans               877161 non-null  object        \n",
      " 9   city                    877161 non-null  object        \n",
      " 10  bd                      877161 non-null  float64       \n",
      " 11  gender                  877161 non-null  object        \n",
      " 12  registered_via          877161 non-null  object        \n",
      " 13  registration_init_time  877161 non-null  datetime64[ns]\n",
      " 14  num_25                  869900 non-null  float64       \n",
      " 15  num_50                  869900 non-null  float64       \n",
      " 16  num_75                  869900 non-null  float64       \n",
      " 17  num_985                 869900 non-null  float64       \n",
      " 18  num_100                 869900 non-null  float64       \n",
      " 19  num_unq                 869900 non-null  float64       \n",
      " 20  total_secs              869900 non-null  float64       \n",
      "dtypes: datetime64[ns](1), float64(8), int64(5), object(7)\n",
      "memory usage: 147.2+ MB\n"
     ]
    }
   ],
   "source": [
    "final_train_df.info()"
   ]
  },
  {
   "cell_type": "code",
   "execution_count": 22,
   "id": "3515dcdf-9565-4f82-8bf5-7301754ae451",
   "metadata": {
    "tags": []
   },
   "outputs": [],
   "source": [
    "#Create a feature that calculate tenure\n",
    "import datetime\n",
    "\n",
    "ref_date= datetime.datetime(2017, 3, 31)\n",
    "\n",
    "final_train_df['tenure']=(ref_date-final_train_df.registration_init_time)"
   ]
  },
  {
   "cell_type": "code",
   "execution_count": 23,
   "id": "790000c5-276f-4d27-b424-4a132835591d",
   "metadata": {
    "tags": []
   },
   "outputs": [],
   "source": [
    "final_train_df.tenure=final_train_df.tenure.apply(lambda x: str(x).split()[0])"
   ]
  },
  {
   "cell_type": "code",
   "execution_count": 24,
   "id": "d4edddf0-faaf-4e74-b42b-4beaff5dd0a6",
   "metadata": {
    "tags": []
   },
   "outputs": [],
   "source": [
    "#Expressing tenure in years\n",
    "\n",
    "final_train_df['tenure']=pd.to_numeric(final_train_df['tenure'])\n",
    "final_train_df['tenure']=final_train_df['tenure']/365"
   ]
  },
  {
   "cell_type": "code",
   "execution_count": 25,
   "id": "ca7628d5-4d54-46e0-9980-b57b87dce62c",
   "metadata": {
    "tags": []
   },
   "outputs": [
    {
     "name": "stdout",
     "output_type": "stream",
     "text": [
      "Final categories:  13\n"
     ]
    }
   ],
   "source": [
    "regroup_feature = 'mst_frq_pay_met'\n",
    "regroup_df = final_train_df[regroup_feature].value_counts() / final_train_df.shape[0]\n",
    "filtered_regroup_df = regroup_df[regroup_df < 0.005]\n",
    "final_train_df.loc[ final_train_df[regroup_feature].isin(filtered_regroup_df.index) , regroup_feature] = 'other'\n",
    "print('Final categories: ',len(final_train_df[regroup_feature].value_counts()))"
   ]
  },
  {
   "cell_type": "code",
   "execution_count": 26,
   "id": "30a4da39-2032-4221-95f7-48af051def96",
   "metadata": {
    "tags": []
   },
   "outputs": [
    {
     "name": "stdout",
     "output_type": "stream",
     "text": [
      "Final categories:  5\n"
     ]
    }
   ],
   "source": [
    "regroup_feature = 'registered_via'\n",
    "regroup_df = final_train_df[regroup_feature].value_counts() / final_train_df.shape[0]\n",
    "filtered_regroup_df = regroup_df[regroup_df < 0.005]\n",
    "final_train_df.loc[ final_train_df[regroup_feature].isin(filtered_regroup_df.index) , regroup_feature] = 'other'\n",
    "print('Final categories: ',len(final_train_df[regroup_feature].value_counts()))"
   ]
  },
  {
   "cell_type": "code",
   "execution_count": 27,
   "id": "1ff8ceec-a03e-4444-967a-1904aa057d54",
   "metadata": {
    "tags": []
   },
   "outputs": [
    {
     "name": "stdout",
     "output_type": "stream",
     "text": [
      "Final categories:  18\n"
     ]
    }
   ],
   "source": [
    "regroup_feature = 'city'\n",
    "regroup_df = final_train_df[regroup_feature].value_counts() / final_train_df.shape[0]\n",
    "filtered_regroup_df = regroup_df[regroup_df < 0.005]\n",
    "final_train_df.loc[ final_train_df[regroup_feature].isin(filtered_regroup_df.index) , regroup_feature] = 'other'\n",
    "print('Final categories: ',len(final_train_df[regroup_feature].value_counts()))"
   ]
  },
  {
   "cell_type": "code",
   "execution_count": 28,
   "id": "69d038fd-387f-48ee-9538-f89f8ed38589",
   "metadata": {},
   "outputs": [],
   "source": [
    "# Feature transformation\n",
    "temp=final_train_df.loc[:,['regist_trans','mst_frq_plan_days','revenue','regist_cancels']]\n",
    "temp=np.log1p(temp)"
   ]
  },
  {
   "cell_type": "code",
   "execution_count": 29,
   "id": "6b924339-a265-41c7-9430-d45d05f3af90",
   "metadata": {
    "tags": []
   },
   "outputs": [],
   "source": [
    "feat=temp.columns\n",
    "feat=['regist_trans', 'mst_frq_plan_days', 'revenue', 'regist_cancels']"
   ]
  },
  {
   "cell_type": "code",
   "execution_count": 51,
   "id": "b60fbe06-d2f6-41b8-90d1-17a82ea9785f",
   "metadata": {
    "tags": []
   },
   "outputs": [],
   "source": [
    "from sklearn.model_selection import train_test_split\n",
    "\n",
    "y=final_train_df[['is_churn']]\n",
    "\n",
    "for_x=[x for x in final_train_df.columns if x not in['msno','is_churn','registration_init_time']]\n",
    "\n",
    "X=final_train_df.loc[:,for_x]\n",
    "X_copy = X.copy()\n",
    "X=pd.get_dummies(X,drop_first=False)\n",
    "\n",
    "\n",
    "X_train, X_test, y_train, y_test = train_test_split(X, y, test_size=0.2, random_state=123)\n",
    "     "
   ]
  },
  {
   "cell_type": "code",
   "execution_count": 52,
   "id": "4220e878-8ef4-45eb-80ba-22ff83fe410c",
   "metadata": {
    "tags": []
   },
   "outputs": [
    {
     "name": "stdout",
     "output_type": "stream",
     "text": [
      "(701728, 58)\n",
      "(175433, 58)\n"
     ]
    }
   ],
   "source": [
    "print(X_train.shape)\n",
    "print(X_test.shape)"
   ]
  },
  {
   "cell_type": "code",
   "execution_count": 53,
   "id": "2b6539c8-fc88-48cf-8d32-b70a916c9872",
   "metadata": {
    "tags": []
   },
   "outputs": [
    {
     "name": "stderr",
     "output_type": "stream",
     "text": [
      "/opt/conda/lib/python3.7/site-packages/pandas/core/frame.py:3678: SettingWithCopyWarning: \n",
      "A value is trying to be set on a copy of a slice from a DataFrame.\n",
      "Try using .loc[row_indexer,col_indexer] = value instead\n",
      "\n",
      "See the caveats in the documentation: https://pandas.pydata.org/pandas-docs/stable/user_guide/indexing.html#returning-a-view-versus-a-copy\n",
      "  self[col] = igetitem(value, i)\n"
     ]
    }
   ],
   "source": [
    "#Imputation\n",
    "from sklearn.impute import SimpleImputer\n",
    "\n",
    "imputer=SimpleImputer(missing_values=np.nan,strategy='median')\n",
    "\n",
    "#Fitting the imputer\n",
    "\n",
    "num=['num_25','num_50','num_75','num_985','num_100','num_unq','total_secs']\n",
    "imputer.fit(X_train[num])\n",
    "X_train_transform=imputer.transform(X_train[num])\n",
    "X_test_transform=imputer.transform(X_test[num])\n",
    "\n",
    "#Transforming data\n",
    "X_train[num]=X_train_transform\n",
    "X_test[num]=X_test_transform"
   ]
  },
  {
   "cell_type": "code",
   "execution_count": 54,
   "id": "23514813-9ad2-42b4-9c48-589a25d560f6",
   "metadata": {
    "tags": []
   },
   "outputs": [],
   "source": [
    "to_outlier=['regist_trans','regist_cancels','total_secs','tenure']"
   ]
  },
  {
   "cell_type": "code",
   "execution_count": 55,
   "id": "088a9849-1e50-460b-83f2-64d19f681e5c",
   "metadata": {
    "tags": []
   },
   "outputs": [],
   "source": [
    "def modify_outliers_mean(data,features):\n",
    "\n",
    "  '''\n",
    "  This function modifies outliers with mean.\n",
    "  First, the function detects outliers with Z-score, then calculates the mean of\n",
    "  the feature without outliers,and finally, replaces outliers with the calculated\n",
    "  mean.\n",
    "  Parameters:\n",
    "  -------------------\n",
    "  data: dataset to be analyzed\n",
    "  features: List of numerical features in the dataset\n",
    "  '''\n",
    "\n",
    "  to_del=[]\n",
    "  for i in features:\n",
    "\n",
    "    #Initialize null lists\n",
    "    ind_upper=[]\n",
    "    ind_lower=[]\n",
    "    ind=[]\n",
    "\n",
    "    #Calculate Z score\n",
    "    data['Z_score']=(data[i]-data[i].mean())/data[i].std()\n",
    "    print(data[(data['Z_score']>3) | (data['Z_score']<-3)].shape[0],' outliers detected for ',i)\n",
    "    to_del.append(data[(data['Z_score']>3) | (data['Z_score']<-3)].shape[0])\n",
    "    \n",
    "    #Identified outliers\n",
    "    ind=data[(data['Z_score']>3) | (data['Z_score']<-3)].index\n",
    "    \n",
    "    #Calculate mean to replace outlier\n",
    "\n",
    "    mean_to_replace=data[(data['Z_score']<3) & (data['Z_score']>-3)][i].mean()\n",
    "    \n",
    "    #Replacing outliers\n",
    "    data.loc[ind,i]=mean_to_replace\n",
    "\n",
    "  print('total outliers modified: ',sum(to_del))\n",
    "  data.drop(columns='Z_score',inplace=True)"
   ]
  },
  {
   "cell_type": "code",
   "execution_count": 56,
   "id": "b1d5a8f5-0eb7-4776-80c5-04941e3f445b",
   "metadata": {
    "tags": []
   },
   "outputs": [
    {
     "name": "stderr",
     "output_type": "stream",
     "text": [
      "/opt/conda/lib/python3.7/site-packages/ipykernel_launcher.py:23: SettingWithCopyWarning: \n",
      "A value is trying to be set on a copy of a slice from a DataFrame.\n",
      "Try using .loc[row_indexer,col_indexer] = value instead\n",
      "\n",
      "See the caveats in the documentation: https://pandas.pydata.org/pandas-docs/stable/user_guide/indexing.html#returning-a-view-versus-a-copy\n"
     ]
    },
    {
     "name": "stdout",
     "output_type": "stream",
     "text": [
      "142  outliers detected for  regist_trans\n"
     ]
    },
    {
     "name": "stderr",
     "output_type": "stream",
     "text": [
      "/opt/conda/lib/python3.7/site-packages/pandas/core/indexing.py:1817: SettingWithCopyWarning: \n",
      "A value is trying to be set on a copy of a slice from a DataFrame.\n",
      "Try using .loc[row_indexer,col_indexer] = value instead\n",
      "\n",
      "See the caveats in the documentation: https://pandas.pydata.org/pandas-docs/stable/user_guide/indexing.html#returning-a-view-versus-a-copy\n",
      "  self._setitem_single_column(loc, value, pi)\n"
     ]
    },
    {
     "name": "stdout",
     "output_type": "stream",
     "text": [
      "5936  outliers detected for  regist_cancels\n",
      "11077  outliers detected for  total_secs\n",
      "0  outliers detected for  tenure\n",
      "total outliers modified:  17155\n"
     ]
    },
    {
     "name": "stderr",
     "output_type": "stream",
     "text": [
      "/opt/conda/lib/python3.7/site-packages/pandas/core/frame.py:4913: SettingWithCopyWarning: \n",
      "A value is trying to be set on a copy of a slice from a DataFrame\n",
      "\n",
      "See the caveats in the documentation: https://pandas.pydata.org/pandas-docs/stable/user_guide/indexing.html#returning-a-view-versus-a-copy\n",
      "  errors=errors,\n"
     ]
    }
   ],
   "source": [
    "modify_outliers_mean(X_train,to_outlier)"
   ]
  },
  {
   "cell_type": "code",
   "execution_count": 57,
   "id": "d662e83e-a699-48a0-9305-09d8d0d7ae01",
   "metadata": {
    "tags": []
   },
   "outputs": [
    {
     "name": "stderr",
     "output_type": "stream",
     "text": [
      "/opt/conda/lib/python3.7/site-packages/pandas/core/frame.py:3678: SettingWithCopyWarning: \n",
      "A value is trying to be set on a copy of a slice from a DataFrame.\n",
      "Try using .loc[row_indexer,col_indexer] = value instead\n",
      "\n",
      "See the caveats in the documentation: https://pandas.pydata.org/pandas-docs/stable/user_guide/indexing.html#returning-a-view-versus-a-copy\n",
      "  self[col] = igetitem(value, i)\n"
     ]
    }
   ],
   "source": [
    "to_scale=['regist_trans','mst_frq_plan_days','revenue','regist_cancels','bd','tenure']\n",
    "\n",
    "from sklearn.preprocessing import StandardScaler\n",
    "\n",
    "scaler=StandardScaler()\n",
    "\n",
    "scaler.fit(X_train[to_scale])\n",
    "\n",
    "X_train_scaled=scaler.transform(X_train[to_scale])\n",
    "X_test_scaled=scaler.transform(X_test[to_scale])\n",
    "\n",
    "X_train[to_scale]=X_train_scaled\n",
    "X_test[to_scale]=X_test_scaled"
   ]
  },
  {
   "cell_type": "code",
   "execution_count": 58,
   "id": "5c2cf4bc-f278-4da3-aa48-7967e3441394",
   "metadata": {
    "tags": []
   },
   "outputs": [
    {
     "data": {
      "text/html": [
       "<div>\n",
       "<style scoped>\n",
       "    .dataframe tbody tr th:only-of-type {\n",
       "        vertical-align: middle;\n",
       "    }\n",
       "\n",
       "    .dataframe tbody tr th {\n",
       "        vertical-align: top;\n",
       "    }\n",
       "\n",
       "    .dataframe thead th {\n",
       "        text-align: right;\n",
       "    }\n",
       "</style>\n",
       "<table border=\"1\" class=\"dataframe\">\n",
       "  <thead>\n",
       "    <tr style=\"text-align: right;\">\n",
       "      <th></th>\n",
       "      <th>regist_trans</th>\n",
       "      <th>mst_frq_plan_days</th>\n",
       "      <th>revenue</th>\n",
       "      <th>regist_cancels</th>\n",
       "      <th>bd</th>\n",
       "      <th>num_25</th>\n",
       "      <th>num_50</th>\n",
       "      <th>num_75</th>\n",
       "      <th>num_985</th>\n",
       "      <th>num_100</th>\n",
       "      <th>...</th>\n",
       "      <th>city_22.0</th>\n",
       "      <th>city_other</th>\n",
       "      <th>gender_female</th>\n",
       "      <th>gender_male</th>\n",
       "      <th>gender_other</th>\n",
       "      <th>registered_via_3.0</th>\n",
       "      <th>registered_via_4.0</th>\n",
       "      <th>registered_via_7.0</th>\n",
       "      <th>registered_via_9.0</th>\n",
       "      <th>registered_via_other</th>\n",
       "    </tr>\n",
       "  </thead>\n",
       "  <tbody>\n",
       "    <tr>\n",
       "      <th>625221</th>\n",
       "      <td>-1.109113</td>\n",
       "      <td>0.580911</td>\n",
       "      <td>-1.258245</td>\n",
       "      <td>-0.524495</td>\n",
       "      <td>0.957116</td>\n",
       "      <td>6.529412</td>\n",
       "      <td>2.117647</td>\n",
       "      <td>1.176471</td>\n",
       "      <td>0.686275</td>\n",
       "      <td>13.176471</td>\n",
       "      <td>...</td>\n",
       "      <td>0</td>\n",
       "      <td>0</td>\n",
       "      <td>1</td>\n",
       "      <td>0</td>\n",
       "      <td>0</td>\n",
       "      <td>0</td>\n",
       "      <td>0</td>\n",
       "      <td>1</td>\n",
       "      <td>0</td>\n",
       "      <td>0</td>\n",
       "    </tr>\n",
       "    <tr>\n",
       "      <th>954199</th>\n",
       "      <td>0.206593</td>\n",
       "      <td>0.580911</td>\n",
       "      <td>-0.539414</td>\n",
       "      <td>1.377221</td>\n",
       "      <td>-0.807531</td>\n",
       "      <td>13.970803</td>\n",
       "      <td>1.770073</td>\n",
       "      <td>1.058394</td>\n",
       "      <td>1.605839</td>\n",
       "      <td>21.700730</td>\n",
       "      <td>...</td>\n",
       "      <td>0</td>\n",
       "      <td>0</td>\n",
       "      <td>0</td>\n",
       "      <td>0</td>\n",
       "      <td>1</td>\n",
       "      <td>0</td>\n",
       "      <td>0</td>\n",
       "      <td>1</td>\n",
       "      <td>0</td>\n",
       "      <td>0</td>\n",
       "    </tr>\n",
       "    <tr>\n",
       "      <th>645149</th>\n",
       "      <td>-1.707161</td>\n",
       "      <td>-0.792032</td>\n",
       "      <td>-1.526899</td>\n",
       "      <td>-0.524495</td>\n",
       "      <td>0.713716</td>\n",
       "      <td>1.394737</td>\n",
       "      <td>0.447368</td>\n",
       "      <td>0.342105</td>\n",
       "      <td>0.394737</td>\n",
       "      <td>25.684211</td>\n",
       "      <td>...</td>\n",
       "      <td>0</td>\n",
       "      <td>0</td>\n",
       "      <td>1</td>\n",
       "      <td>0</td>\n",
       "      <td>0</td>\n",
       "      <td>0</td>\n",
       "      <td>0</td>\n",
       "      <td>0</td>\n",
       "      <td>1</td>\n",
       "      <td>0</td>\n",
       "    </tr>\n",
       "    <tr>\n",
       "      <th>531486</th>\n",
       "      <td>-0.511065</td>\n",
       "      <td>0.580911</td>\n",
       "      <td>-0.858894</td>\n",
       "      <td>-0.524495</td>\n",
       "      <td>-0.807531</td>\n",
       "      <td>2.000000</td>\n",
       "      <td>0.266667</td>\n",
       "      <td>0.300000</td>\n",
       "      <td>0.266667</td>\n",
       "      <td>11.466667</td>\n",
       "      <td>...</td>\n",
       "      <td>0</td>\n",
       "      <td>0</td>\n",
       "      <td>0</td>\n",
       "      <td>0</td>\n",
       "      <td>1</td>\n",
       "      <td>0</td>\n",
       "      <td>0</td>\n",
       "      <td>1</td>\n",
       "      <td>0</td>\n",
       "      <td>0</td>\n",
       "    </tr>\n",
       "    <tr>\n",
       "      <th>200896</th>\n",
       "      <td>0.326202</td>\n",
       "      <td>0.580911</td>\n",
       "      <td>-0.299803</td>\n",
       "      <td>-0.524495</td>\n",
       "      <td>-0.807531</td>\n",
       "      <td>1.948980</td>\n",
       "      <td>0.673469</td>\n",
       "      <td>0.724490</td>\n",
       "      <td>0.602041</td>\n",
       "      <td>8.000000</td>\n",
       "      <td>...</td>\n",
       "      <td>0</td>\n",
       "      <td>0</td>\n",
       "      <td>0</td>\n",
       "      <td>0</td>\n",
       "      <td>1</td>\n",
       "      <td>0</td>\n",
       "      <td>0</td>\n",
       "      <td>1</td>\n",
       "      <td>0</td>\n",
       "      <td>0</td>\n",
       "    </tr>\n",
       "  </tbody>\n",
       "</table>\n",
       "<p>5 rows × 58 columns</p>\n",
       "</div>"
      ],
      "text/plain": [
       "        regist_trans  mst_frq_plan_days   revenue  regist_cancels        bd  \\\n",
       "625221     -1.109113           0.580911 -1.258245       -0.524495  0.957116   \n",
       "954199      0.206593           0.580911 -0.539414        1.377221 -0.807531   \n",
       "645149     -1.707161          -0.792032 -1.526899       -0.524495  0.713716   \n",
       "531486     -0.511065           0.580911 -0.858894       -0.524495 -0.807531   \n",
       "200896      0.326202           0.580911 -0.299803       -0.524495 -0.807531   \n",
       "\n",
       "           num_25    num_50    num_75   num_985    num_100  ...  city_22.0  \\\n",
       "625221   6.529412  2.117647  1.176471  0.686275  13.176471  ...          0   \n",
       "954199  13.970803  1.770073  1.058394  1.605839  21.700730  ...          0   \n",
       "645149   1.394737  0.447368  0.342105  0.394737  25.684211  ...          0   \n",
       "531486   2.000000  0.266667  0.300000  0.266667  11.466667  ...          0   \n",
       "200896   1.948980  0.673469  0.724490  0.602041   8.000000  ...          0   \n",
       "\n",
       "        city_other  gender_female  gender_male  gender_other  \\\n",
       "625221           0              1            0             0   \n",
       "954199           0              0            0             1   \n",
       "645149           0              1            0             0   \n",
       "531486           0              0            0             1   \n",
       "200896           0              0            0             1   \n",
       "\n",
       "        registered_via_3.0  registered_via_4.0  registered_via_7.0  \\\n",
       "625221                   0                   0                   1   \n",
       "954199                   0                   0                   1   \n",
       "645149                   0                   0                   0   \n",
       "531486                   0                   0                   1   \n",
       "200896                   0                   0                   1   \n",
       "\n",
       "        registered_via_9.0  registered_via_other  \n",
       "625221                   0                     0  \n",
       "954199                   0                     0  \n",
       "645149                   1                     0  \n",
       "531486                   0                     0  \n",
       "200896                   0                     0  \n",
       "\n",
       "[5 rows x 58 columns]"
      ]
     },
     "execution_count": 58,
     "metadata": {},
     "output_type": "execute_result"
    }
   ],
   "source": [
    "X_train.head()"
   ]
  },
  {
   "cell_type": "code",
   "execution_count": 59,
   "id": "e55f98fb-0350-4946-90df-c25f20c79062",
   "metadata": {
    "tags": []
   },
   "outputs": [],
   "source": [
    "X_train.to_csv('data/X_train.csv',index=False)\n",
    "X_test.to_csv('data/X_test.csv',index=False)\n",
    "y_train.to_csv('data/y_train.csv',index=False)\n",
    "y_test.to_csv('data/y_test.csv',index=False)"
   ]
  },
  {
   "cell_type": "code",
   "execution_count": null,
   "id": "c7328ebd-d886-4f34-a966-399fde7613c0",
   "metadata": {},
   "outputs": [],
   "source": []
  }
 ],
 "metadata": {
  "instance_type": "ml.m5.4xlarge",
  "kernelspec": {
   "display_name": "Python 3 (Data Science)",
   "language": "python",
   "name": "python3__SAGEMAKER_INTERNAL__arn:aws:sagemaker:us-east-1:081325390199:image/datascience-1.0"
  },
  "language_info": {
   "codemirror_mode": {
    "name": "ipython",
    "version": 3
   },
   "file_extension": ".py",
   "mimetype": "text/x-python",
   "name": "python",
   "nbconvert_exporter": "python",
   "pygments_lexer": "ipython3",
   "version": "3.7.10"
  }
 },
 "nbformat": 4,
 "nbformat_minor": 5
}
