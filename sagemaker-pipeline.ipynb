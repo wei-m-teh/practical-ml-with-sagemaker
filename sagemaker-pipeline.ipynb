{
 "cells": [
  {
   "cell_type": "markdown",
   "id": "c221f057-cf34-46a1-bb73-8ac143fef735",
   "metadata": {},
   "source": [
    "# Build a Machine Learning Workflow Using SageMaker Pipelines\n",
    "\n",
    "Amazon SageMaker Model Building Pipelines is a tool for building **machine learning pipelines**. You can create a pipeline, and automate the ML workflow orchestration. \n",
    "\n",
    "Key features of SageMaker Pipelines are as followed:\n",
    "\n",
    "## SageMaker Integration\n",
    "\n",
    "SageMaker Pipelines is integrated directly with SageMaker, so you don't need to interact with any other AWS services. You also don't need to manage any resources because SageMaker Pipelines is a fully managed service, which means that it creates and manages resources for you.\n",
    "\n",
    "## SageMaker Python SDK Integration\n",
    "\n",
    "Because SageMaker Pipelines is integrated with the SageMaker Python SDK, you can create your pipelines programmatically using a high-level Python interface that you might already be familiar with. To view the SageMaker Python SDK API reference, see Pipelines. For SageMaker Python SDK code examples, see Amazon SageMaker Model Building Pipelines.\n",
    "\n",
    "## SageMaker Studio Integration\n",
    "\n",
    "SageMaker Studio offers an environment to manage the end-to-end SageMaker Pipelines experience. Using Studio, you can bypass the AWS console for your entire workflow management. For more information on managing SageMaker Pipelines from SageMaker Studio, see View, Track, and Execute SageMaker Pipelines in SageMaker Studio.\n",
    "\n",
    "## Data Lineage Tracking\n",
    "\n",
    "With SageMaker Pipelines you can track the history of your data within the pipeline execution. Amazon SageMaker ML Lineage Tracking lets you analyze where the data came from, where it was used as an input, and the outputs that were generated from it. For example, you can view the models created from an individual dataset, and you can view the datasets that went into creating an individual model. For more information, see Amazon SageMaker ML Lineage Tracking.\n",
    "\n",
    "## Step Reuse\n",
    "\n",
    "With SageMaker Pipelines, you can designate steps for caching. When a step is cached, it is indexed for reuse later if the same step is executed again. As a result, you can reuse the output from previous step executions of the same step in the same pipeline without having to run the step again. For more information on step caching, see Caching Pipeline Steps.\n"
   ]
  },
  {
   "cell_type": "code",
   "execution_count": 26,
   "id": "886fcec8-4e0b-45c2-a941-ef00ff3e59bc",
   "metadata": {},
   "outputs": [
    {
     "name": "stdout",
     "output_type": "stream",
     "text": [
      "Requirement already satisfied: xlrd>=1.0.0 in /opt/conda/lib/python3.7/site-packages (2.0.1)\n",
      "Requirement already satisfied: sagemaker in /opt/conda/lib/python3.7/site-packages (2.131.0)\n",
      "Requirement already satisfied: google-pasta in /opt/conda/lib/python3.7/site-packages (from sagemaker) (0.2.0)\n",
      "Requirement already satisfied: pandas in /opt/conda/lib/python3.7/site-packages (from sagemaker) (1.3.5)\n",
      "Requirement already satisfied: pathos in /opt/conda/lib/python3.7/site-packages (from sagemaker) (0.3.0)\n",
      "Requirement already satisfied: schema in /opt/conda/lib/python3.7/site-packages (from sagemaker) (0.7.5)\n",
      "Requirement already satisfied: importlib-metadata<5.0,>=1.4.0 in /opt/conda/lib/python3.7/site-packages (from sagemaker) (4.13.0)\n",
      "Requirement already satisfied: attrs<23,>=20.3.0 in /opt/conda/lib/python3.7/site-packages (from sagemaker) (22.1.0)\n",
      "Requirement already satisfied: numpy<2.0,>=1.9.0 in /opt/conda/lib/python3.7/site-packages (from sagemaker) (1.21.6)\n",
      "Requirement already satisfied: smdebug-rulesconfig==1.0.1 in /opt/conda/lib/python3.7/site-packages (from sagemaker) (1.0.1)\n",
      "Requirement already satisfied: protobuf3-to-dict<1.0,>=0.1.5 in /opt/conda/lib/python3.7/site-packages (from sagemaker) (0.1.5)\n",
      "Requirement already satisfied: packaging>=20.0 in /opt/conda/lib/python3.7/site-packages (from sagemaker) (20.1)\n",
      "Requirement already satisfied: protobuf<4.0,>=3.1 in /opt/conda/lib/python3.7/site-packages (from sagemaker) (3.20.3)\n",
      "Requirement already satisfied: boto3<2.0,>=1.26.28 in /opt/conda/lib/python3.7/site-packages (from sagemaker) (1.26.62)\n",
      "Requirement already satisfied: s3transfer<0.7.0,>=0.6.0 in /opt/conda/lib/python3.7/site-packages (from boto3<2.0,>=1.26.28->sagemaker) (0.6.0)\n",
      "Requirement already satisfied: jmespath<2.0.0,>=0.7.1 in /opt/conda/lib/python3.7/site-packages (from boto3<2.0,>=1.26.28->sagemaker) (1.0.1)\n",
      "Requirement already satisfied: botocore<1.30.0,>=1.29.62 in /opt/conda/lib/python3.7/site-packages (from boto3<2.0,>=1.26.28->sagemaker) (1.29.62)\n",
      "Requirement already satisfied: zipp>=0.5 in /opt/conda/lib/python3.7/site-packages (from importlib-metadata<5.0,>=1.4.0->sagemaker) (3.11.0)\n",
      "Requirement already satisfied: typing-extensions>=3.6.4 in /opt/conda/lib/python3.7/site-packages (from importlib-metadata<5.0,>=1.4.0->sagemaker) (4.4.0)\n",
      "Requirement already satisfied: pyparsing>=2.0.2 in /opt/conda/lib/python3.7/site-packages (from packaging>=20.0->sagemaker) (2.4.6)\n",
      "Requirement already satisfied: six in /opt/conda/lib/python3.7/site-packages (from packaging>=20.0->sagemaker) (1.14.0)\n",
      "Requirement already satisfied: python-dateutil>=2.7.3 in /opt/conda/lib/python3.7/site-packages (from pandas->sagemaker) (2.8.2)\n",
      "Requirement already satisfied: pytz>=2017.3 in /opt/conda/lib/python3.7/site-packages (from pandas->sagemaker) (2019.3)\n",
      "Requirement already satisfied: pox>=0.3.2 in /opt/conda/lib/python3.7/site-packages (from pathos->sagemaker) (0.3.2)\n",
      "Requirement already satisfied: dill>=0.3.6 in /opt/conda/lib/python3.7/site-packages (from pathos->sagemaker) (0.3.6)\n",
      "Requirement already satisfied: multiprocess>=0.70.14 in /opt/conda/lib/python3.7/site-packages (from pathos->sagemaker) (0.70.14)\n",
      "Requirement already satisfied: ppft>=1.7.6.6 in /opt/conda/lib/python3.7/site-packages (from pathos->sagemaker) (1.7.6.6)\n",
      "Requirement already satisfied: contextlib2>=0.5.5 in /opt/conda/lib/python3.7/site-packages (from schema->sagemaker) (0.6.0.post1)\n",
      "Requirement already satisfied: urllib3<1.27,>=1.25.4 in /opt/conda/lib/python3.7/site-packages (from botocore<1.30.0,>=1.29.62->boto3<2.0,>=1.26.28->sagemaker) (1.26.13)\n",
      "\u001b[33mWARNING: Running pip as the 'root' user can result in broken permissions and conflicting behaviour with the system package manager. It is recommended to use a virtual environment instead: https://pip.pypa.io/warnings/venv\u001b[0m\u001b[33m\n",
      "\u001b[0m\n",
      "\u001b[1m[\u001b[0m\u001b[34;49mnotice\u001b[0m\u001b[1;39;49m]\u001b[0m\u001b[39;49m A new release of pip available: \u001b[0m\u001b[31;49m22.3.1\u001b[0m\u001b[39;49m -> \u001b[0m\u001b[32;49m23.0\u001b[0m\n",
      "\u001b[1m[\u001b[0m\u001b[34;49mnotice\u001b[0m\u001b[1;39;49m]\u001b[0m\u001b[39;49m To update, run: \u001b[0m\u001b[32;49mpip install --upgrade pip\u001b[0m\n"
     ]
    }
   ],
   "source": [
    "!pip install \"xlrd >=1.0.0\" sagemaker -U"
   ]
  },
  {
   "cell_type": "markdown",
   "id": "18cea6e2-7084-444e-9885-321d3026a49c",
   "metadata": {},
   "source": [
    "# Create a SageMaker Pipeline to orchestrate an ML workflow\n",
    "In this notebook, we'll define a customer churn ML workflow as series of steps using SageMaker Pipelines. Specifically, these are the steps involved in the end to end workflow:\n",
    "\n",
    "* Pipelines - A DAG defined in python with steps and conditions to orchestrate SageMaker jobs and resource creation. Supports pipeline parameters for individual pipeline executions.\n",
    "* Processing job Steps - A Pyspark job step that performs feature engineering, data validation.\n",
    "* Data Quality Check Step - A processing step that performs data quality check and establish a baseline for monitoring data drifts in model monitoring processes.\n",
    "* Training job Step - An iterative process that teaches a model to make predictions by presenting examples from a training dataset.\n",
    "* Model quality check Step - A processing step that performs model quality check nad establish a baseline for monitoring model drifts in model monitoring processes.\n",
    "* Model evaluation Step - Performs model evaluation, create evalution metrics report and upload to S3 bucket to be referenced in the condition and model registration steps.\n",
    "* Condition Step - Evaluate the model performance against the target threshold. Fail the pipeline if the metrics does not meet the threshold requirements. \n",
    "* Model registration Step - Registers model version with metrics captured in the previous steps\n",
    "* Parametrized Pipeline executions - Enables variation in pipeline executions according to specified parameters.\n",
    "\n",
    "Here's a diagram that summarizes the major steps described above:\n",
    "\n",
    "![sm pipeline](img/sagemakerpipeline-churn.png)\n"
   ]
  },
  {
   "cell_type": "markdown",
   "id": "70e2fc32-4845-4b97-9f93-6215e1b1830b",
   "metadata": {},
   "source": [
    "# Setup\n",
    "\n",
    "First step, we import the python libraries and frameworks required for running the workflow.\n",
    "We also define variables to be referenced throughout the workflow."
   ]
  },
  {
   "cell_type": "code",
   "execution_count": 27,
   "id": "1622f8ab-771f-49de-8d76-21f73f4d286d",
   "metadata": {},
   "outputs": [],
   "source": [
    "import boto3\n",
    "import pandas as pd\n",
    "import sagemaker\n",
    "import os\n",
    "import json\n",
    "from sagemaker.workflow.pipeline_context import PipelineSession\n",
    "from sagemaker.workflow.steps import CacheConfig\n",
    "from sagemaker.workflow.execution_variables import ExecutionVariables\n",
    "from sagemaker.workflow.check_job_config import CheckJobConfig\n",
    "from sagemaker.workflow.clarify_check_step import (\n",
    "    DataBiasCheckConfig,\n",
    "    ClarifyCheckStep,\n",
    "    ModelBiasCheckConfig,\n",
    "    ModelPredictedLabelConfig,\n",
    "    ModelExplainabilityCheckConfig,\n",
    "    SHAPConfig,\n",
    ")\n",
    "from sagemaker.workflow.quality_check_step import (\n",
    "    DataQualityCheckConfig,\n",
    "    ModelQualityCheckConfig,\n",
    "    QualityCheckStep,\n",
    ")\n",
    "from sagemaker.workflow.execution_variables import ExecutionVariables\n",
    "from sagemaker.workflow.functions import Join\n",
    "from sagemaker.model_monitor import DatasetFormat, model_monitoring\n",
    "from sagemaker.clarify import BiasConfig, DataConfig, ModelConfig\n",
    "from sagemaker.spark.processing import PySparkProcessor\n",
    "from sagemaker.processing import ProcessingInput, ProcessingOutput\n",
    "from sagemaker.workflow.steps import ProcessingStep, TrainingStep, TransformStep\n",
    "from sagemaker.workflow.parameters import (\n",
    "    ParameterInteger,\n",
    "    ParameterString,\n",
    "    ParameterFloat,\n",
    "    ParameterBoolean\n",
    ")\n",
    "from sagemaker.xgboost.model import XGBoostModel\n",
    "from sagemaker.inputs import CreateModelInput, TransformInput\n",
    "from sagemaker.workflow.model_step import ModelStep\n",
    "from sagemaker.transformer import Transformer\n",
    "from sagemaker.estimator import Estimator\n",
    "from sagemaker.inputs import TrainingInput\n",
    "from sagemaker.xgboost.estimator import XGBoost\n",
    "from sagemaker.workflow.properties import PropertyFile\n",
    "from sagemaker.processing import ScriptProcessor\n",
    "from sagemaker.model_metrics import MetricsSource, ModelMetrics\n",
    "from sagemaker.workflow.fail_step import FailStep\n",
    "from sagemaker.workflow.functions import Join\n",
    "from sagemaker.workflow.conditions import ConditionGreaterThan\n",
    "from sagemaker.workflow.condition_step import ConditionStep\n",
    "from sagemaker.workflow.functions import JsonGet\n",
    "from sagemaker.workflow.pipeline import Pipeline\n",
    "from sagemaker.model_metrics import MetricsSource, ModelMetrics, FileSource\n",
    "from sagemaker.drift_check_baselines import DriftCheckBaselines"
   ]
  },
  {
   "cell_type": "code",
   "execution_count": 28,
   "id": "a1c94612-7f85-46d4-ad13-517868bc776f",
   "metadata": {},
   "outputs": [],
   "source": [
    "s3_client = boto3.resource('s3')\n",
    "pipeline_name = f\"StreamingServiceChurnModelPipeline\"\n",
    "sagemaker_session = sagemaker.session.Session()\n",
    "region = sagemaker_session.boto_region_name\n",
    "role = sagemaker.get_execution_role()\n",
    "pipeline_session = PipelineSession()\n",
    "default_bucket = sagemaker_session.default_bucket()\n",
    "\n",
    "model_package_group_name = f\"StreamingServiceModelPackageGroup\"\n",
    "s3_processing_input_prefix = \"data/kkbox-customer-churn-model/raw\"\n",
    "s3_code_prefix = \"data/kkbox-customer-churn-model/code\"\n",
    "s3_preprocessing_output_prefix = \"data/kkbox-customer-churn-model/processed\"\n",
    "s3_batch_transform_output_prefix = \"data/kkbox-customer-churn-model/batch-transformed\"\n",
    "s3_logs_prefix = \"data/kkbox-customer-churn-model/logs\"\n",
    "s3_model_prefix = \"data/kkbox-customer-churn-model/output\"\n",
    "s3_quality_prefx = \"data/kkbox-customer-churn-model/quality\"\n",
    "s3_bias_prefx = \"data/kkbox-customer-churn-model/bias\"\n",
    "s3_explainability_prefix = \"data/kkbox-customer-churn-model/explainability\"\n",
    "s3_model_evaluation_prefix = \"data/kkbox-customer-churn-model/evaluation\"\n",
    "auc_score_threshold = 0.75\n",
    "base_job_prefix = \"kkbox-customer-churn-model\"\n",
    "model_package_group_name = \"kkbox-customer-churn-model-packages\"\n",
    "pyspark_cluster_instance_type = \"ml.m5.4xlarge\"\n",
    "cache_config = CacheConfig(enable_caching=True, expire_after=\"P1M\")"
   ]
  },
  {
   "cell_type": "markdown",
   "id": "044cc951-621b-434b-b391-cfc03e1c51b6",
   "metadata": {
    "tags": []
   },
   "source": [
    "# SageMaker Pipeline Parameters\n",
    "You can introduce variables into your pipeline definition using parameters. \n",
    "Parameters have a default value, which you can override by specifying parameter values when starting a pipeline execution. \n",
    "Here are the supported Parameter types:\n",
    "    \n",
    "* ParameterString – Representing a string parameter.\n",
    "* ParameterInteger – Representing an integer parameter.\n",
    "* ParameterFloat – Representing a float parameter.\n",
    "* ParameterBoolean – Representing a Boolean Python type.\n",
    "\n",
    "Following is a list of parameters that we'll define for our project:\n",
    "\n",
    "* processing_instance_count - number of instances needed to carry out the pyspark processing job.\n",
    "* processing_instance_type - SageMaker ML instance type to use or the processing job.\n",
    "* skip_check_data_quality - Specifics whether to skip data quality check. \n",
    "* register_new_baseline_data_quality - Specifies whether to create a new data baseline in the specified pipeline exeuction.\n",
    "* supplied_baseline_constraints_data_bias - An option to manually provide the constraint baseline for bias check (S3 URI)\n",
    "* supplied_baseline_statistics_data_quality - An option to manually provide statistics  baseline for data quality check (S3 URI)\n",
    "* supplied_baseline_constraints_data_quality - An option to manually provide the constraint baseline for data quality check (S3 URI)\n",
    "* skip_check_data_bias - Whether to skips data bias check\n",
    "* register_new_baseline_data_bias - Whether to create and register a new data bias baseline\n",
    "* training_instance_type - SageMaker ML instance type to use for the training job\n",
    "* inference_instance_type = SageMaker ML instance type to use for the inference job\n",
    "* input_data_prefix - S3 URI to identify the input data\n",
    "* model_approval_status - Default model approval status when registering a model with SageMaker Model Registry\n",
    "* skip_check_model_quality = Whether to skips model quality check\n",
    "* register_new_baseline_model_quality - Whether to create and register a new model quality baseline.\n",
    "* supplied_baseline_statistics_model_quality - Manually provide a statistics baseline for model quality check (S3 URI)\n",
    "* supplied_baseline_constraints_model_quality - Manually provide a constraint baseline for model quality check (S3 URI)\n",
    "* skip_check_model_bias - Whether to skip model bias check\n",
    "* register_new_baseline_model_bias - Whether to create and register a new model bias baseline.\n",
    "* supplied_baseline_constraints_model_bias - Manually provide a constraint baseline for model bias check (S3 URI)\n",
    "* skip_check_model_explainability - Whether to skips model explainability check\n",
    "* register_new_baseline_model_explainability - Whether to create and register a new explainability baseline.\n",
    "* supplied_baseline_constraints_model_explainability - Manually provide a constraint baseline for model explainability check (S3 URI)"
   ]
  },
  {
   "cell_type": "code",
   "execution_count": 29,
   "id": "9bc6fe5c-c04b-4eb6-8268-122d73e95fe2",
   "metadata": {},
   "outputs": [],
   "source": [
    "processing_instance_count = ParameterInteger(name=\"ProcessingInstanceCount\",default_value=4)\n",
    "processing_instance_type = ParameterString(name=\"ProcessingInstanceType\",default_value=\"ml.m5.4xlarge\")\n",
    "skip_check_data_quality = ParameterBoolean(name=\"SkipDataQualityCheck\", default_value=True)\n",
    "register_new_baseline_data_quality = ParameterBoolean(name=\"RegisterNewDataQualityBaseline\", default_value=True)\n",
    "supplied_baseline_constraints_data_bias = ParameterString(name=\"DataBiasSuppliedBaselineConstraints\", default_value=\"\")\n",
    "supplied_baseline_statistics_data_quality = ParameterString(name=\"DataQualitySuppliedStatistics\", default_value=\"\")\n",
    "supplied_baseline_constraints_data_quality = ParameterString(name=\"DataQualitySuppliedConstraints\", default_value=\"\")\n",
    "skip_check_data_bias = ParameterBoolean(name=\"SkipDataBiasCheck\", default_value=True)\n",
    "register_new_baseline_data_bias = ParameterBoolean(name=\"RegisterNewDataBiasBaseline\", default_value=True)\n",
    "training_instance_type = ParameterString(name=\"TrainingInstanceType\",default_value=\"ml.m5.2xlarge\")\n",
    "inference_instance_type = ParameterString(name=\"InferenceInstanceType\",default_value=\"ml.m5.2xlarge\")\n",
    "input_data_prefix = ParameterString(name=\"InputDataPrefix\",default_value=s3_processing_input_prefix,)\n",
    "model_approval_status = ParameterString(name=\"ModelApprovalStatus\", default_value=\"PendingManualApproval\")\n",
    "skip_check_model_quality = ParameterBoolean(name=\"SkipModelQualityCheck\", default_value=True)\n",
    "register_new_baseline_model_quality = ParameterBoolean(name=\"RegisterNewModelQualityBaseline\", default_value=True)\n",
    "supplied_baseline_statistics_model_quality = ParameterString(name=\"ModelQualitySuppliedStatistics\", default_value=\"\")\n",
    "supplied_baseline_constraints_model_quality = ParameterString(name=\"ModelQualitySuppliedConstraints\", default_value=\"\")\n",
    "skip_check_model_bias = ParameterBoolean(name=\"SkipModelBiasCheck\", default_value=True)\n",
    "register_new_baseline_model_bias = ParameterBoolean(name=\"RegisterNewModelBiasBaseline\", default_value=True)\n",
    "supplied_baseline_constraints_model_bias = ParameterString(name=\"ModelBiasSuppliedStatistics\", default_value=\"\")\n",
    "skip_check_model_explainability = ParameterBoolean(name=\"SkipModelExplainabilityCheck\", default_value=True)\n",
    "register_new_baseline_model_explainability = ParameterBoolean(name=\"RegisterNewModelExplainabilityBaseline\", default_value=True)\n",
    "supplied_baseline_constraints_model_explainability = ParameterString(name=\"ModelExplainabilitySuppliedStatistics\", default_value=\"\")"
   ]
  },
  {
   "cell_type": "code",
   "execution_count": 30,
   "id": "f096f30c-96d0-4331-95b9-aa6f9e024bda",
   "metadata": {},
   "outputs": [],
   "source": [
    "# Upload processing script to S3\n",
    "s3_client.Bucket(default_bucket).upload_file(\"pipelines/cust_churn_prediction/preprocess.py\", f\"{s3_code_prefix}/preprocess.py\")"
   ]
  },
  {
   "cell_type": "markdown",
   "id": "e51da871-705a-42a7-9f00-da9c09e6db35",
   "metadata": {},
   "source": [
    "# PreProcessing Step\n",
    "\n",
    "In this step, we'll use a Pyspark SageMaker processing job to perform the feature engineering functionality. SageMaker Processing job will use an ephimeral cluster to run the given pyspark script and automatically shutsdown when the script complete."
   ]
  },
  {
   "cell_type": "code",
   "execution_count": 31,
   "id": "619ce9c3-4f8e-4ef2-9ed6-e4524cbb8002",
   "metadata": {},
   "outputs": [
    {
     "name": "stderr",
     "output_type": "stream",
     "text": [
      "WARNING:sagemaker.workflow.utilities:The input argument instance_type of function (sagemaker.image_uris.retrieve) is a pipeline variable (<class 'sagemaker.workflow.parameters.ParameterString'>), which is not allowed. The default_value of this Parameter object will be used to override it. Please make sure the default_value is valid.\n",
      "/opt/conda/lib/python3.7/site-packages/sagemaker/workflow/pipeline_context.py:261: UserWarning: Running within a PipelineSession, there will be No Wait, No Logs, and No Job being started.\n",
      "  UserWarning,\n"
     ]
    }
   ],
   "source": [
    "# Run the processing job\n",
    "spark_processor = PySparkProcessor(\n",
    "    base_job_name=\"sm-spark\",\n",
    "    framework_version=\"3.1\",\n",
    "    role=role,\n",
    "    instance_count=processing_instance_count,\n",
    "    instance_type=processing_instance_type,\n",
    "    max_runtime_in_seconds=12000,\n",
    "    sagemaker_session = pipeline_session\n",
    ")\n",
    "\n",
    "processor_args = spark_processor.run(\n",
    "    submit_app=f\"s3://{default_bucket}/{s3_code_prefix}/preprocess.py\",\n",
    "    arguments=[\n",
    "        \"--s3_input_bucket\",\n",
    "        default_bucket,\n",
    "        \"--s3_input_key_prefix\",\n",
    "        input_data_prefix,\n",
    "        \"--s3_output_bucket\",\n",
    "        default_bucket,\n",
    "        \"--s3_output_key_prefix\",\n",
    "        s3_preprocessing_output_prefix,\n",
    "    ],\n",
    "    spark_event_logs_s3_uri=f\"s3://{default_bucket}/{s3_logs_prefix}/spark_event_logs\",\n",
    "    logs=False,\n",
    ")\n",
    "\n",
    "step_process = ProcessingStep(name=\"PreProcess\", step_args=processor_args, cache_config=cache_config)"
   ]
  },
  {
   "cell_type": "code",
   "execution_count": 32,
   "id": "d73d5e10-d41c-4942-8870-c8728f5d5e6c",
   "metadata": {
    "tags": []
   },
   "outputs": [],
   "source": [
    "s3 = boto3.client(\"s3\")\n",
    "response = s3.list_objects_v2(Bucket=default_bucket, Prefix=s3_preprocessing_output_prefix)\n",
    "train_data_s3_uri_prefix = [ x['Key'] for x in response['Contents'] if f\"{s3_preprocessing_output_prefix}/train\" in x['Key']][0]\n",
    "train_data_s3_uri = os.path.join(f\"s3://{default_bucket}\", train_data_s3_uri_prefix)"
   ]
  },
  {
   "cell_type": "markdown",
   "id": "a1c1b860-5bfd-4209-bc7f-32e7d68c3c96",
   "metadata": {},
   "source": [
    "# Data Quality Check Step\n",
    "\n",
    "**CheckJobConfig** is a helper function that's used to define the job configurations used by the **QualityCheckStep**. By separating the job configuration from the step parameters, the same **CheckJobConfig** can be used across multiple steps for quality checks.\n",
    "\n",
    "The **DataQualityCheckConfig** is used to define the Quality Check job by specifying the dataset used to calculate the baseline, in this case, the training dataset from the data processing step, the dataset format, in this case, a csv file with no headers, and the output path for the results of the data quality check."
   ]
  },
  {
   "cell_type": "code",
   "execution_count": 33,
   "id": "c1701434-eb96-40ca-b500-cb6d67a059a8",
   "metadata": {
    "tags": []
   },
   "outputs": [
    {
     "name": "stderr",
     "output_type": "stream",
     "text": [
      "INFO:sagemaker.image_uris:Defaulting to the only supported framework/algorithm version: .\n",
      "INFO:sagemaker.image_uris:Ignoring unnecessary instance type: None.\n"
     ]
    }
   ],
   "source": [
    "check_job_config = CheckJobConfig(\n",
    "    role=role,\n",
    "    instance_count=1,\n",
    "    instance_type=\"ml.c5.xlarge\",\n",
    "    volume_size_in_gb=120,\n",
    "    sagemaker_session=sagemaker_session,\n",
    ")\n",
    "\n",
    "data_quality_check_config = DataQualityCheckConfig(\n",
    "    baseline_dataset=train_data_s3_uri,\n",
    "    dataset_format=DatasetFormat.csv(header=False, output_columns_position=\"START\"),\n",
    "    output_s3_uri=Join(\n",
    "        on=\"/\",\n",
    "        values=[\n",
    "            \"s3:/\",\n",
    "            default_bucket,\n",
    "            s3_quality_prefx,\n",
    "            ExecutionVariables.PIPELINE_EXECUTION_ID,\n",
    "            \"dataqualitycheckstep\",\n",
    "        ],\n",
    "    ),\n",
    ")\n",
    "\n",
    "data_quality_check_step = QualityCheckStep(\n",
    "    name=\"DataQualityCheckStep\",\n",
    "    skip_check=skip_check_data_quality,\n",
    "    register_new_baseline=register_new_baseline_data_quality,\n",
    "    quality_check_config=data_quality_check_config,\n",
    "    check_job_config=check_job_config,\n",
    "    supplied_baseline_statistics=supplied_baseline_statistics_data_quality,\n",
    "    supplied_baseline_constraints=supplied_baseline_constraints_data_quality,\n",
    "    model_package_group_name=model_package_group_name,\n",
    "    cache_config=cache_config,\n",
    "    depends_on=[step_process]\n",
    ")"
   ]
  },
  {
   "cell_type": "markdown",
   "id": "5f02ec6d-9bbe-452d-82cd-d18429751c84",
   "metadata": {},
   "source": [
    "# Data Bias Check\n",
    "\n",
    "The job configuration from the previous step is used here and the **DataConfig** class is used to define how the **ClarifyCheckStep** should compute the data bias. The training dataset is used again for the bias evaluation, the column representing the label is specified through the label parameter, and a BiasConfig is provided.\n",
    "\n",
    "In the BiasConfig, we specify a facet name (the column that is the focal point of the bias calculation), the value of the facet that determines the range of values it can hold, and the threshold value for the label.\n"
   ]
  },
  {
   "cell_type": "code",
   "execution_count": 34,
   "id": "a70472b7-ad4b-4f94-9192-4908fd3eb100",
   "metadata": {
    "tags": []
   },
   "outputs": [
    {
     "name": "stderr",
     "output_type": "stream",
     "text": [
      "INFO:sagemaker.image_uris:Defaulting to the only supported framework/algorithm version: 1.0.\n",
      "INFO:sagemaker.image_uris:Ignoring unnecessary instance type: None.\n",
      "INFO:sagemaker.model_monitor.clarify_model_monitoring:Uploading analysis config to {s3_uri}.\n",
      "INFO:sagemaker.image_uris:Defaulting to the only supported framework/algorithm version: 1.0.\n",
      "INFO:sagemaker.image_uris:Ignoring unnecessary instance type: None.\n"
     ]
    }
   ],
   "source": [
    "headers = ['msno', 'is_churn', 'regist_trans', 'mst_frq_plan_days', \\\n",
    "           'revenue', 'regist_cancels', 'bd', 'tenure', 'num_25', \\\n",
    "           'num_50', 'num_75', 'num_985', 'num_100', 'num_unq', \\\n",
    "           'total_secs', 'city', 'gender', 'registered_via', \\\n",
    "           'qtr_trans', 'mst_frq_pay_met', 'is_auto_renew']\n",
    "\n",
    "data_bias_analysis_cfg_output_path = (\n",
    "    f\"s3://{default_bucket}/{s3_quality_prefx}/databiascheckstep/analysis_cfg\"\n",
    ")\n",
    "\n",
    "data_bias_data_config = DataConfig(\n",
    "    s3_data_input_path=train_data_s3_uri,\n",
    "    s3_output_path=Join(\n",
    "        on=\"/\",\n",
    "        values=[\n",
    "            \"s3:/\",\n",
    "            default_bucket,\n",
    "            s3_quality_prefx,\n",
    "            ExecutionVariables.PIPELINE_EXECUTION_ID,\n",
    "            \"databiascheckstep\",\n",
    "        ],\n",
    "    ),\n",
    "    label=1,\n",
    "    excluded_columns=[0],\n",
    "    dataset_type=\"text/csv\",\n",
    "    headers=headers,\n",
    "    s3_analysis_config_output_path=data_bias_analysis_cfg_output_path,\n",
    ")\n",
    "\n",
    "\n",
    "data_bias_config = BiasConfig(\n",
    "    label_values_or_threshold=[1], facet_name=\"gender\", facet_values_or_threshold=[0], group_name=\"bd\")\n",
    "\n",
    "data_bias_check_config = DataBiasCheckConfig(\n",
    "    data_config=data_bias_data_config,\n",
    "    data_bias_config=data_bias_config,\n",
    ")\n",
    "\n",
    "data_bias_check_step = ClarifyCheckStep(\n",
    "    name=\"DataBiasCheckStep\",\n",
    "    clarify_check_config=data_bias_check_config,\n",
    "    check_job_config=check_job_config,\n",
    "    skip_check=skip_check_data_bias,\n",
    "    register_new_baseline=register_new_baseline_data_bias,\n",
    "    supplied_baseline_constraints=supplied_baseline_constraints_data_bias,\n",
    "    model_package_group_name=model_package_group_name,\n",
    "    cache_config=cache_config,\n",
    "    depends_on=[data_quality_check_step]\n",
    ")"
   ]
  },
  {
   "cell_type": "markdown",
   "id": "920c2dcc-fa2f-46a8-a5a1-8fca218427b3",
   "metadata": {},
   "source": [
    "# Training Step\n",
    "\n",
    "Train a binary classification model using XGBoost algorithm. The training step defines the hyperparameters, and fits a model using a SageMaker Training job."
   ]
  },
  {
   "cell_type": "code",
   "execution_count": 35,
   "id": "e86683fc-b996-4312-bd90-91285577b8c3",
   "metadata": {},
   "outputs": [
    {
     "name": "stderr",
     "output_type": "stream",
     "text": [
      "WARNING:sagemaker.workflow.utilities:The input argument instance_type of function (sagemaker.image_uris.retrieve) is a pipeline variable (<class 'sagemaker.workflow.parameters.ParameterString'>), which is not allowed. The default_value of this Parameter object will be used to override it. Please make sure the default_value is valid.\n",
      "INFO:sagemaker.image_uris:Ignoring unnecessary Python version: py3.\n",
      "INFO:sagemaker.image_uris:Ignoring unnecessary instance type: ml.m5.2xlarge.\n",
      "/opt/conda/lib/python3.7/site-packages/sagemaker/workflow/pipeline_context.py:261: UserWarning: Running within a PipelineSession, there will be No Wait, No Logs, and No Job being started.\n",
      "  UserWarning,\n"
     ]
    }
   ],
   "source": [
    "model_path = f\"s3://{default_bucket}/{s3_model_prefix}\"\n",
    "\n",
    "hyperparameters = {\n",
    "    \"max_depth\":5,\n",
    "    \"eta\":0.2,\n",
    "    \"gamma\":4,\n",
    "    \"min_child_weight\":6,\n",
    "    \"subsample\":0.7,\n",
    "    \"n_estimators\":50,\n",
    "    \"region\" : region,\n",
    "    \"sm_experiment\" : ExecutionVariables.PIPELINE_NAME,\n",
    "    \"sm_run\" : ExecutionVariables.PIPELINE_EXECUTION_ID}\n",
    "\n",
    "xgb_train = XGBoost(entry_point = \"pipelines/cust_churn_prediction/train.py\", \n",
    "                    framework_version='1.5-1',\n",
    "                    hyperparameters=hyperparameters,\n",
    "                    role=role,\n",
    "                    instance_count=1,\n",
    "                    instance_type=training_instance_type,\n",
    "                    volume_size =10,\n",
    "                    output_path=model_path,\n",
    "                    sagemaker_session=pipeline_session)\n",
    "\n",
    "train_args = xgb_train.fit(\n",
    "    inputs={\n",
    "            \"train\": TrainingInput(\n",
    "                s3_data=f\"s3://{default_bucket}/{s3_preprocessing_output_prefix}/train\",\n",
    "                content_type=\"text/csv\"\n",
    "            ),\n",
    "            \"test\": TrainingInput(\n",
    "                s3_data=f\"s3://{default_bucket}/{s3_preprocessing_output_prefix}/test\",\n",
    "                content_type=\"text/csv\"\n",
    "            ),\n",
    "        },\n",
    ")\n",
    "\n",
    "step_train = TrainingStep(\n",
    "    name=\"TrainModel\",\n",
    "    step_args=train_args,\n",
    "    cache_config=cache_config,\n",
    "    depends_on=[step_process])"
   ]
  },
  {
   "cell_type": "markdown",
   "id": "0b430e61-653c-4bcc-9ab2-f40e1a294d62",
   "metadata": {},
   "source": [
    "# Create Model Step\n",
    "\n",
    "After the model is train. We will define a Model object that encapsulates information about the model, for example, instance type for inference, S3 location of the  trained model etc.\n",
    "\n",
    "A create model step requires model artifacts and information about the SageMaker instance type that you need to use to create the model. The following example shows how to create a CreateModel step definition. For more information on CreateModel step requirements, see the sagemaker.workflow.steps.CreateModelStep documentation."
   ]
  },
  {
   "cell_type": "code",
   "execution_count": 36,
   "id": "e01f6c51-4f30-4da0-9820-39389d8bf99d",
   "metadata": {},
   "outputs": [
    {
     "name": "stderr",
     "output_type": "stream",
     "text": [
      "WARNING:sagemaker.workflow.utilities:The input argument instance_type of function (sagemaker.image_uris.retrieve) is a pipeline variable (<class 'sagemaker.workflow.parameters.ParameterString'>), which is not allowed. The default_value of this Parameter object will be used to override it. Please make sure the default_value is valid.\n",
      "INFO:sagemaker.image_uris:Ignoring unnecessary instance type: ml.m5.2xlarge.\n"
     ]
    }
   ],
   "source": [
    "model = XGBoostModel(\n",
    "    model_data=step_train.properties.ModelArtifacts.S3ModelArtifacts,\n",
    "    sagemaker_session=pipeline_session,\n",
    "    role=role,\n",
    "    entry_point=\"pipelines/cust_churn_prediction/inference.py\",\n",
    "    framework_version=\"1.5-1\"\n",
    ")\n",
    "step_create_model = ModelStep(\n",
    "    name=\"CreateModel\",\n",
    "    step_args=model.create(instance_type=inference_instance_type),\n",
    ")"
   ]
  },
  {
   "cell_type": "markdown",
   "id": "e5be2199-4bcd-4cc8-82fb-d3e5021b1de7",
   "metadata": {},
   "source": [
    "# Transform Step\n",
    "\n",
    "You use a transform step for batch transformation to run inference on an entire dataset. \n",
    "\n",
    "In this example, we define a transform step to run inferences on the test dataset on S3 bucket. The output from the transform step is to be used for model quality check.\n"
   ]
  },
  {
   "cell_type": "code",
   "execution_count": 37,
   "id": "bf985033-976c-43be-9917-e0152031f652",
   "metadata": {
    "tags": []
   },
   "outputs": [],
   "source": [
    "model_client_config = { \"InvocationsTimeoutInSeconds\" : 10, \"InvocationsMaxRetries\" : 3 }\n",
    "\n",
    "transformer = Transformer(\n",
    "    model_name=step_create_model.properties.ModelName,\n",
    "    instance_type=\"ml.m5.2xlarge\",\n",
    "    instance_count=1,\n",
    "    accept=\"text/csv\",\n",
    "    assemble_with=\"Line\",\n",
    "    output_path=f\"s3://{default_bucket}/{s3_batch_transform_output_prefix}\",\n",
    ")\n",
    "\n",
    "step_transform = TransformStep(\n",
    "    name=\"BatchTransform\",\n",
    "    transformer=transformer,\n",
    "    inputs=TransformInput(\n",
    "        data=f\"s3://{default_bucket}/{s3_preprocessing_output_prefix}/test\",\n",
    "        input_filter=\"$[2:]\",\n",
    "        join_source=\"Input\",\n",
    "        output_filter=\"$[1,-1]\",\n",
    "        content_type=\"text/csv\",\n",
    "        split_type=\"Line\",\n",
    "        model_client_config = model_client_config\n",
    "    ),\n",
    "    cache_config=cache_config,\n",
    "    depends_on=[step_train]\n",
    ")"
   ]
  },
  {
   "cell_type": "markdown",
   "id": "621413cb-59e1-4e73-9d6a-43f2616274b6",
   "metadata": {},
   "source": [
    "# Model Quality Check\n",
    "\n",
    "In the **QualityCheckStep**, we calculate the baselines for statistics and constraints using the predictions that the model generates from the test dataset (output from the TransformStep). \n",
    "\n",
    "We define the problem type as **BinaryClassification** in the ModelQualityCheckConfig along with specifying the columns which represent the input and output. Since the dataset has no headers, _c0, _c1 are auto-generated header names that should be used in the **ModelQualityCheckConfig**."
   ]
  },
  {
   "cell_type": "code",
   "execution_count": 38,
   "id": "f03e1811-5a69-4c87-ace8-fa0c84fc299c",
   "metadata": {
    "tags": []
   },
   "outputs": [
    {
     "name": "stderr",
     "output_type": "stream",
     "text": [
      "INFO:sagemaker.image_uris:Defaulting to the only supported framework/algorithm version: .\n",
      "INFO:sagemaker.image_uris:Ignoring unnecessary instance type: None.\n"
     ]
    }
   ],
   "source": [
    "model_quality_check_config = ModelQualityCheckConfig(\n",
    "    baseline_dataset=step_transform.properties.TransformOutput.S3OutputPath,\n",
    "    dataset_format=DatasetFormat.csv(header=False),\n",
    "    output_s3_uri=Join(\n",
    "        on=\"/\",\n",
    "        values=[\n",
    "            \"s3:/\",\n",
    "            default_bucket,\n",
    "            s3_quality_prefx,\n",
    "            ExecutionVariables.PIPELINE_EXECUTION_ID,\n",
    "            \"modelqualitycheckstep\",\n",
    "        ],\n",
    "    ),\n",
    "    problem_type=\"BinaryClassification\",\n",
    "    inference_attribute=\"_c1\",  # use auto-populated headers since we don't have headers in the dataset\n",
    "    ground_truth_attribute=\"_c0\",  # use auto-populated headers since we don't have headers in the dataset\n",
    ")\n",
    "\n",
    "model_quality_check_step = QualityCheckStep(\n",
    "    name=\"ModelQualityCheckStep\",\n",
    "    skip_check=skip_check_model_quality,\n",
    "    register_new_baseline=register_new_baseline_model_quality,\n",
    "    quality_check_config=model_quality_check_config,\n",
    "    check_job_config=check_job_config,\n",
    "    supplied_baseline_statistics=supplied_baseline_statistics_model_quality,\n",
    "    supplied_baseline_constraints=supplied_baseline_constraints_model_quality,\n",
    "    model_package_group_name=model_package_group_name,\n",
    "    cache_config=cache_config,\n",
    "    depends_on = [step_transform]\n",
    ")"
   ]
  },
  {
   "cell_type": "markdown",
   "id": "59d6d20a-058d-40d0-85ee-d6099b7bbd5c",
   "metadata": {},
   "source": [
    "# Model Bias Step\n",
    "\n",
    "Similar to the Data Bias check step, we'll use calculate the model bias using the training dataset and the model trained in the previous step."
   ]
  },
  {
   "cell_type": "code",
   "execution_count": 39,
   "id": "c427cd32-7789-4179-94c7-3c6b14100181",
   "metadata": {
    "tags": []
   },
   "outputs": [
    {
     "name": "stderr",
     "output_type": "stream",
     "text": [
      "INFO:sagemaker.image_uris:Defaulting to the only supported framework/algorithm version: 1.0.\n",
      "INFO:sagemaker.image_uris:Ignoring unnecessary instance type: None.\n",
      "INFO:sagemaker.model_monitor.clarify_model_monitoring:Uploading analysis config to {s3_uri}.\n",
      "INFO:sagemaker.image_uris:Defaulting to the only supported framework/algorithm version: 1.0.\n",
      "INFO:sagemaker.image_uris:Ignoring unnecessary instance type: None.\n"
     ]
    }
   ],
   "source": [
    "model_bias_analysis_cfg_output_path = (\n",
    "    f\"s3://{default_bucket}/{s3_bias_prefx}/modelbiascheckstep/analysis_cfg\"\n",
    ")\n",
    "\n",
    "model_bias_data_config = DataConfig(\n",
    "    s3_data_input_path=f\"s3://{default_bucket}/{s3_preprocessing_output_prefix}/train\",\n",
    "    s3_output_path=Join(\n",
    "        on=\"/\",\n",
    "        values=[\n",
    "            \"s3:/\",\n",
    "            default_bucket,\n",
    "            s3_bias_prefx,\n",
    "            ExecutionVariables.PIPELINE_EXECUTION_ID,\n",
    "            \"modelbiascheckstep\",\n",
    "        ],\n",
    "    ),\n",
    "    s3_analysis_config_output_path=model_bias_analysis_cfg_output_path,\n",
    "    label=1,\n",
    "    dataset_type=\"text/csv\",\n",
    "    excluded_columns=[0]\n",
    ")\n",
    "\n",
    "model_config = ModelConfig(\n",
    "    model_name=step_create_model.properties.ModelName,\n",
    "    instance_count=1,\n",
    "    instance_type=\"ml.m5.xlarge\",\n",
    ")\n",
    "\n",
    "# We are using this bias config to configure Clarify to detect bias based on the first feature in the featurized vector for Sex\n",
    "model_bias_config = BiasConfig(label_values_or_threshold=[1], facet_name=[16], facet_values_or_threshold=[[1]])\n",
    "\n",
    "model_bias_check_config = ModelBiasCheckConfig(\n",
    "    data_config=model_bias_data_config,\n",
    "    data_bias_config=model_bias_config,\n",
    "    model_config=model_config,\n",
    "    model_predicted_label_config=ModelPredictedLabelConfig(),\n",
    ")\n",
    "\n",
    "model_bias_check_step = ClarifyCheckStep(\n",
    "    name=\"ModelBiasCheckStep\",\n",
    "    clarify_check_config=model_bias_check_config,\n",
    "    check_job_config=check_job_config,\n",
    "    skip_check=skip_check_model_bias,\n",
    "    register_new_baseline=register_new_baseline_model_bias,\n",
    "    supplied_baseline_constraints=supplied_baseline_constraints_model_bias,\n",
    "    model_package_group_name=model_package_group_name,\n",
    "    cache_config=cache_config,\n",
    "    depends_on=[model_quality_check_step]\n",
    ")"
   ]
  },
  {
   "cell_type": "markdown",
   "id": "7186af68-4efa-4554-84b5-7f9c41e1e9b4",
   "metadata": {},
   "source": [
    "# Model Explainability\n",
    "\n",
    "SageMaker Clarify uses a model-agnostic feature attribution approach, which you can use to understand why a model made a prediction after training and to provide per-instance explanation during inference. The implementation includes a scalable and efficient implementation of SHAP, based on the concept of a Shapley value from the field of cooperative game theory that assigns each feature an importance value for a particular prediction.\n",
    "\n",
    "For Model Explainability, Clarify requires an explainability configuration to be provided. In this example, we use SHAPConfig. For more information of explainability_config, visit the [Clarify documentation](https://docs.aws.amazon.com/sagemaker/latest/dg/clarify-model-explainability.html)."
   ]
  },
  {
   "cell_type": "code",
   "execution_count": 40,
   "id": "415dbf1a-5d4d-42ec-aa5a-a4ae1cd3f5bd",
   "metadata": {
    "tags": []
   },
   "outputs": [
    {
     "name": "stderr",
     "output_type": "stream",
     "text": [
      "INFO:sagemaker.image_uris:Defaulting to the only supported framework/algorithm version: 1.0.\n",
      "INFO:sagemaker.image_uris:Ignoring unnecessary instance type: None.\n",
      "INFO:sagemaker.model_monitor.clarify_model_monitoring:Uploading analysis config to {s3_uri}.\n",
      "INFO:sagemaker.image_uris:Defaulting to the only supported framework/algorithm version: 1.0.\n",
      "INFO:sagemaker.image_uris:Ignoring unnecessary instance type: None.\n"
     ]
    }
   ],
   "source": [
    "model_explainability_analysis_cfg_output_path = \"s3://{}/{}/{}/{}\".format(\n",
    "    default_bucket, s3_explainability_prefix, \"modelexplainabilitycheckstep\", \"analysis_cfg\"\n",
    ")\n",
    "\n",
    "model_explainability_data_config = DataConfig(\n",
    "    s3_data_input_path=f\"s3://{default_bucket}/{s3_preprocessing_output_prefix}/validation\",\n",
    "    s3_output_path=Join(\n",
    "        on=\"/\",\n",
    "        values=[\n",
    "            \"s3:/\",\n",
    "            default_bucket,\n",
    "            s3_explainability_prefix,\n",
    "            ExecutionVariables.PIPELINE_EXECUTION_ID,\n",
    "            \"modelexplainabilitycheckstep\",\n",
    "        ],\n",
    "    ),\n",
    "    s3_analysis_config_output_path=model_explainability_analysis_cfg_output_path,\n",
    "    label=1,\n",
    "    excluded_columns=[0],\n",
    "    dataset_type=\"text/csv\",\n",
    ")\n",
    "shap_config = SHAPConfig(seed=123, num_samples=10, num_clusters=2)\n",
    "model_explainability_check_config = ModelExplainabilityCheckConfig(\n",
    "    data_config=model_explainability_data_config,\n",
    "    model_config=model_config,\n",
    "    explainability_config=shap_config,\n",
    ")\n",
    "model_explainability_check_step = ClarifyCheckStep(\n",
    "    name=\"ModelExplainabilityCheckStep\",\n",
    "    clarify_check_config=model_explainability_check_config,\n",
    "    check_job_config=check_job_config,\n",
    "    skip_check=skip_check_model_explainability,\n",
    "    register_new_baseline=register_new_baseline_model_explainability,\n",
    "    supplied_baseline_constraints=supplied_baseline_constraints_model_explainability,\n",
    "    model_package_group_name=model_package_group_name,\n",
    "    cache_config=cache_config,\n",
    "    depends_on=[model_bias_check_step]\n",
    ")"
   ]
  },
  {
   "cell_type": "markdown",
   "id": "3ca80788-9e16-4864-8994-ace590b0ec84",
   "metadata": {},
   "source": [
    "# Evaluation Step\n",
    "\n",
    "The evaluation step performs model evaluation by calculating performance metrics such as precision, recall, F1 score etc.\n",
    "The step is executed as a processing job. The output from the step is used in the Condition Step to determine if the model should be registered or not."
   ]
  },
  {
   "cell_type": "code",
   "execution_count": 41,
   "id": "7dcf2c23-45e4-4709-8249-375cd2c9966a",
   "metadata": {},
   "outputs": [
    {
     "name": "stderr",
     "output_type": "stream",
     "text": [
      "INFO:sagemaker.image_uris:Ignoring unnecessary Python version: py3.\n",
      "INFO:sagemaker.image_uris:Ignoring unnecessary instance type: ml.m5.xlarge.\n",
      "/opt/conda/lib/python3.7/site-packages/sagemaker/workflow/pipeline_context.py:261: UserWarning: Running within a PipelineSession, there will be No Wait, No Logs, and No Job being started.\n",
      "  UserWarning,\n"
     ]
    }
   ],
   "source": [
    "#Upload the evaluation script to S3\n",
    "s3_client.Bucket(default_bucket).upload_file(\"pipelines/cust_churn_prediction/evaluate.py\", f\"{s3_code_prefix}/evaluate.py\")\n",
    "\n",
    "image_uri = sagemaker.image_uris.retrieve(\n",
    "    framework=\"xgboost\",\n",
    "    region=region,\n",
    "    version=\"1.5-1\",\n",
    "    py_version=\"py3\",\n",
    "    instance_type=\"ml.m5.xlarge\",\n",
    ")\n",
    "\n",
    "# define model evaluation step to evaluate the trained model\n",
    "script_eval = ScriptProcessor(\n",
    "    image_uri=image_uri,\n",
    "    command=[\"python3\"],\n",
    "    instance_type=processing_instance_type,\n",
    "    instance_count=1,\n",
    "    base_job_name=\"model-evaluation\",\n",
    "    role=role,\n",
    "    sagemaker_session=pipeline_session,\n",
    ")\n",
    "eval_args = script_eval.run(\n",
    "    inputs=[\n",
    "        ProcessingInput(\n",
    "            source=step_train.properties.ModelArtifacts.S3ModelArtifacts,\n",
    "            destination=\"/opt/ml/processing/model\",\n",
    "        ),\n",
    "        ProcessingInput(\n",
    "            source=f\"s3://{default_bucket}/{s3_preprocessing_output_prefix}/validation\",\n",
    "            destination=\"/opt/ml/processing/validation\",\n",
    "        ),\n",
    "    ],\n",
    "    outputs=[\n",
    "            ProcessingOutput(output_name=\"evaluation\", source=\"/opt/ml/processing/evaluation\",\\\n",
    "                             destination=f\"s3://{default_bucket}/{s3_model_evaluation_prefix}\"),\n",
    "        ],\n",
    "    code=f\"s3://{default_bucket}/{s3_code_prefix}/evaluate.py\",\n",
    ")\n",
    "\n",
    "evaluation_report = PropertyFile(\n",
    "    name=\"EvaluationReport\", output_name=\"evaluation\", path=\"evaluation.json\"\n",
    ")\n",
    "step_eval = ProcessingStep(\n",
    "    name=\"EvaluateModel\",\n",
    "    step_args=eval_args,\n",
    "    property_files=[evaluation_report],\n",
    "    depends_on=[step_create_model]\n",
    ")"
   ]
  },
  {
   "cell_type": "markdown",
   "id": "e14f841a-e974-49bd-b370-5896371e3907",
   "metadata": {
    "tags": []
   },
   "source": [
    "# Model Metrics\n",
    "\n",
    "Define the metrics to be registered with the model in the Model Registry"
   ]
  },
  {
   "cell_type": "code",
   "execution_count": 42,
   "id": "a11835f8-c9d3-4ef5-8383-a5ee63f0be9e",
   "metadata": {
    "tags": []
   },
   "outputs": [],
   "source": [
    "model_metrics = ModelMetrics(\n",
    "    model_data_statistics=MetricsSource(\n",
    "        s3_uri=data_quality_check_step.properties.CalculatedBaselineStatistics,\n",
    "        content_type=\"application/json\",\n",
    "    ),\n",
    "    model_data_constraints=MetricsSource(\n",
    "        s3_uri=data_quality_check_step.properties.CalculatedBaselineConstraints,\n",
    "        content_type=\"application/json\",\n",
    "    ),\n",
    "    bias_pre_training=MetricsSource(\n",
    "        s3_uri=data_bias_check_step.properties.CalculatedBaselineConstraints,\n",
    "        content_type=\"application/json\",\n",
    "    ),\n",
    "    model_statistics=MetricsSource(\n",
    "        s3_uri=model_quality_check_step.properties.CalculatedBaselineStatistics,\n",
    "        content_type=\"application/json\",\n",
    "    ),\n",
    "    model_constraints=MetricsSource(\n",
    "        s3_uri=model_quality_check_step.properties.CalculatedBaselineConstraints,\n",
    "        content_type=\"application/json\",\n",
    "    ),\n",
    "    bias_post_training=MetricsSource(\n",
    "        s3_uri=model_bias_check_step.properties.CalculatedBaselineConstraints,\n",
    "        content_type=\"application/json\",\n",
    "    ),\n",
    "    explainability=MetricsSource(\n",
    "        s3_uri=model_explainability_check_step.properties.CalculatedBaselineConstraints,\n",
    "        content_type=\"application/json\",\n",
    "    ),\n",
    ")\n",
    "\n",
    "drift_check_baselines = DriftCheckBaselines(\n",
    "    model_data_statistics=MetricsSource(\n",
    "        s3_uri=data_quality_check_step.properties.BaselineUsedForDriftCheckStatistics,\n",
    "        content_type=\"application/json\",\n",
    "    ),\n",
    "    model_data_constraints=MetricsSource(\n",
    "        s3_uri=data_quality_check_step.properties.BaselineUsedForDriftCheckConstraints,\n",
    "        content_type=\"application/json\",\n",
    "    ),\n",
    "    bias_pre_training_constraints=MetricsSource(\n",
    "        s3_uri=data_bias_check_step.properties.BaselineUsedForDriftCheckConstraints,\n",
    "        content_type=\"application/json\",\n",
    "    ),\n",
    "    bias_config_file=FileSource(\n",
    "        s3_uri=model_bias_check_config.monitoring_analysis_config_uri,\n",
    "        content_type=\"application/json\",\n",
    "    ),\n",
    "    model_statistics=MetricsSource(\n",
    "        s3_uri=model_quality_check_step.properties.BaselineUsedForDriftCheckStatistics,\n",
    "        content_type=\"application/json\",\n",
    "    ),\n",
    "    model_constraints=MetricsSource(\n",
    "        s3_uri=model_quality_check_step.properties.BaselineUsedForDriftCheckConstraints,\n",
    "        content_type=\"application/json\",\n",
    "    ),\n",
    "    bias_post_training_constraints=MetricsSource(\n",
    "        s3_uri=model_bias_check_step.properties.BaselineUsedForDriftCheckConstraints,\n",
    "        content_type=\"application/json\",\n",
    "    ),\n",
    "    explainability_constraints=MetricsSource(\n",
    "        s3_uri=model_explainability_check_step.properties.BaselineUsedForDriftCheckConstraints,\n",
    "        content_type=\"application/json\",\n",
    "    ),\n",
    "    explainability_config_file=FileSource(\n",
    "        s3_uri=model_explainability_check_config.monitoring_analysis_config_uri,\n",
    "        content_type=\"application/json\",\n",
    "    ),\n",
    ")"
   ]
  },
  {
   "cell_type": "markdown",
   "id": "fe36f80b-4f9f-4698-868d-f5001f6d8ea8",
   "metadata": {},
   "source": [
    "# Register Model with Model Registry\n",
    "\n",
    "In the model registration step, we'll include the data and model baselines, and the model metrics to register a model versin.\n",
    "\n",
    "The intention behind these parameters is to give users a way to configure the baselines associated with a model so they can be used in drift checks or model monitoring jobs. Each time a pipeline is executed, users can choose to update the drift_check_baselines with newly calculated baselines. The model_metrics can be used to register the newly calculated baselines or any other metrics associated with the model.\n",
    "\n",
    "Every time a baseline is calculated, it is not necessary that the baselines used for drift checks are updated to the newly calculated baselines. In some cases, users may retain an older version of the baseline file to be used for drift checks and not register new baselines that are calculated in the Pipeline run."
   ]
  },
  {
   "cell_type": "code",
   "execution_count": 43,
   "id": "6402a6fc-c4cc-4f30-abb5-ea87a8f08336",
   "metadata": {},
   "outputs": [
    {
     "name": "stderr",
     "output_type": "stream",
     "text": [
      "INFO:sagemaker.image_uris:Ignoring unnecessary instance type: ml.m5.xlarge.\n"
     ]
    }
   ],
   "source": [
    "register_args = model.register(\n",
    "    content_types=[\"text/csv\"],\n",
    "    response_types=[\"text/csv\"],\n",
    "    inference_instances=[\"ml.m5.xlarge\"],\n",
    "    transform_instances=[\"ml.m5.xlarge\"],\n",
    "    model_package_group_name=model_package_group_name,\n",
    "    approval_status=model_approval_status,\n",
    "    model_metrics=model_metrics,\n",
    "    drift_check_baselines=drift_check_baselines\n",
    ")\n",
    "step_register = ModelStep(name=\"RegisterModel\", step_args=register_args, depends_on=[model_explainability_check_step])"
   ]
  },
  {
   "cell_type": "markdown",
   "id": "000bdd0f-f65e-4730-8371-a0235f2d486e",
   "metadata": {},
   "source": [
    "# Define Failed Step\n",
    "\n",
    "Define a FailStep to stop an Amazon SageMaker Model Building Pipelines execution when a desired condition or state is not achieved and to mark that pipeline's execution as failed. The FailStep also allows you to enter a custom error message, indicating the cause of the pipeline's execution failure."
   ]
  },
  {
   "cell_type": "code",
   "execution_count": 44,
   "id": "68ae88db-dc69-4e53-9e88-2bbf311bba3e",
   "metadata": {},
   "outputs": [],
   "source": [
    "step_fail = FailStep(\n",
    "    name=\"EvalScoreFail\",\n",
    "    error_message=Join(on=\" \", values=[\"Execution failed due to AUC Score >\", auc_score_threshold]),\n",
    "    )"
   ]
  },
  {
   "cell_type": "markdown",
   "id": "3aadf546-5e49-4b0a-9bcd-1d3b75ec9501",
   "metadata": {},
   "source": [
    "# Condition Check\n",
    "\n",
    "We define a condition check to determine whether to stop the pipeline execution when the evaluation scores (AUC) did not meet the threshold specified. "
   ]
  },
  {
   "cell_type": "code",
   "execution_count": 49,
   "id": "cb23a262-bb78-4414-a2de-56b4738c176b",
   "metadata": {},
   "outputs": [],
   "source": [
    "cond_gte = ConditionGreaterThan(\n",
    "    left=JsonGet(\n",
    "        step_name=step_eval.name,\n",
    "        property_file=evaluation_report,\n",
    "        json_path=\"classification_metrics.auc_score.value\",\n",
    "    ),\n",
    "    right=auc_score_threshold,\n",
    ")\n",
    "step_cond = ConditionStep(\n",
    "    name=\"CheckEvaluationScore\",\n",
    "    conditions=[cond_gte],\n",
    "    if_steps=[step_transform, model_quality_check_step, model_bias_check_step, model_explainability_check_step,step_register],\n",
    "    else_steps=[step_fail]\n",
    ")"
   ]
  },
  {
   "cell_type": "markdown",
   "id": "06dea9e7-2c4f-4287-ba54-b9fe51a9035e",
   "metadata": {
    "tags": []
   },
   "source": [
    "# Create a Pipeline"
   ]
  },
  {
   "cell_type": "code",
   "execution_count": 51,
   "id": "b5ecfa8d-a914-49de-8acd-78d4ba6e2a58",
   "metadata": {},
   "outputs": [
    {
     "name": "stdout",
     "output_type": "stream",
     "text": [
      "{'Version': '2020-12-01', 'Metadata': {}, 'Parameters': [{'Name': 'ProcessingInstanceCount', 'Type': 'Integer', 'DefaultValue': 4}, {'Name': 'ProcessingInstanceType', 'Type': 'String', 'DefaultValue': 'ml.m5.4xlarge'}, {'Name': 'SkipDataQualityCheck', 'Type': 'Boolean', 'DefaultValue': True}, {'Name': 'RegisterNewDataQualityBaseline', 'Type': 'Boolean', 'DefaultValue': True}, {'Name': 'DataBiasSuppliedBaselineConstraints', 'Type': 'String', 'DefaultValue': ''}, {'Name': 'DataQualitySuppliedStatistics', 'Type': 'String', 'DefaultValue': ''}, {'Name': 'DataQualitySuppliedConstraints', 'Type': 'String', 'DefaultValue': ''}, {'Name': 'SkipDataBiasCheck', 'Type': 'Boolean', 'DefaultValue': True}, {'Name': 'RegisterNewDataBiasBaseline', 'Type': 'Boolean', 'DefaultValue': True}, {'Name': 'TrainingInstanceType', 'Type': 'String', 'DefaultValue': 'ml.m5.2xlarge'}, {'Name': 'InferenceInstanceType', 'Type': 'String', 'DefaultValue': 'ml.m5.2xlarge'}, {'Name': 'SkipModelQualityCheck', 'Type': 'Boolean', 'DefaultValue': True}, {'Name': 'RegisterNewModelQualityBaseline', 'Type': 'Boolean', 'DefaultValue': True}, {'Name': 'ModelQualitySuppliedStatistics', 'Type': 'String', 'DefaultValue': ''}, {'Name': 'ModelQualitySuppliedConstraints', 'Type': 'String', 'DefaultValue': ''}, {'Name': 'SkipModelBiasCheck', 'Type': 'Boolean', 'DefaultValue': True}, {'Name': 'RegisterNewModelBiasBaseline', 'Type': 'Boolean', 'DefaultValue': True}, {'Name': 'ModelBiasSuppliedStatistics', 'Type': 'String', 'DefaultValue': ''}, {'Name': 'SkipModelExplainabilityCheck', 'Type': 'Boolean', 'DefaultValue': True}, {'Name': 'RegisterNewModelExplainabilityBaseline', 'Type': 'Boolean', 'DefaultValue': True}, {'Name': 'ModelExplainabilitySuppliedStatistics', 'Type': 'String', 'DefaultValue': ''}, {'Name': 'InputDataPrefix', 'Type': 'String', 'DefaultValue': 'data/kkbox-customer-churn-model/raw'}, {'Name': 'ModelApprovalStatus', 'Type': 'String', 'DefaultValue': 'PendingManualApproval'}], 'PipelineExperimentConfig': {'ExperimentName': {'Get': 'Execution.PipelineName'}, 'TrialName': {'Get': 'Execution.PipelineExecutionId'}}, 'Steps': [{'Name': 'PreProcess', 'Type': 'Processing', 'Arguments': {'ProcessingResources': {'ClusterConfig': {'InstanceType': {'Get': 'Parameters.ProcessingInstanceType'}, 'InstanceCount': {'Get': 'Parameters.ProcessingInstanceCount'}, 'VolumeSizeInGB': 30}}, 'AppSpecification': {'ImageUri': '173754725891.dkr.ecr.us-east-1.amazonaws.com/sagemaker-spark-processing:3.1-cpu', 'ContainerArguments': ['--s3_input_bucket', 'sagemaker-us-east-1-602900100639', '--s3_input_key_prefix', {'Get': 'Parameters.InputDataPrefix'}, '--s3_output_bucket', 'sagemaker-us-east-1-602900100639', '--s3_output_key_prefix', 'data/kkbox-customer-churn-model/processed'], 'ContainerEntrypoint': ['smspark-submit', '--local-spark-event-logs-dir', '/opt/ml/processing/spark-events/', '/opt/ml/processing/input/code/preprocess.py']}, 'RoleArn': 'arn:aws:iam::602900100639:role/service-role/AmazonSageMaker-ExecutionRole-20221011T175650', 'ProcessingInputs': [{'InputName': 'code', 'AppManaged': False, 'S3Input': {'S3Uri': 's3://sagemaker-us-east-1-602900100639/data/kkbox-customer-churn-model/code/preprocess.py', 'LocalPath': '/opt/ml/processing/input/code', 'S3DataType': 'S3Prefix', 'S3InputMode': 'File', 'S3DataDistributionType': 'FullyReplicated', 'S3CompressionType': 'None'}}], 'ProcessingOutputConfig': {'Outputs': [{'OutputName': 'output-1', 'AppManaged': False, 'S3Output': {'S3Uri': 's3://sagemaker-us-east-1-602900100639/data/kkbox-customer-churn-model/logs/spark_event_logs', 'LocalPath': '/opt/ml/processing/spark-events/', 'S3UploadMode': 'Continuous'}}]}, 'Environment': {}, 'StoppingCondition': {'MaxRuntimeInSeconds': 12000}, 'Tags': [{'Key': 'sagemaker:project-id', 'Value': 'p-uyioxtplcfft'}, {'Key': 'sagemaker:project-name', 'Value': 'kkbox-customer-churn-model'}]}, 'CacheConfig': {'Enabled': True, 'ExpireAfter': 'P1M'}}, {'Name': 'DataQualityCheckStep', 'Type': 'QualityCheck', 'Arguments': {'ProcessingResources': {'ClusterConfig': {'InstanceType': 'ml.c5.xlarge', 'InstanceCount': 1, 'VolumeSizeInGB': 120}}, 'AppSpecification': {'ImageUri': '156813124566.dkr.ecr.us-east-1.amazonaws.com/sagemaker-model-monitor-analyzer'}, 'RoleArn': 'arn:aws:iam::602900100639:role/service-role/AmazonSageMaker-ExecutionRole-20221011T175650', 'ProcessingInputs': [{'InputName': 'baseline_dataset_input', 'AppManaged': False, 'S3Input': {'S3Uri': 's3://sagemaker-us-east-1-602900100639/data/kkbox-customer-churn-model/processed/train/part-00000-ed912387-b8c3-4b39-9b36-63e0e90c09f0-c000.csv', 'LocalPath': '/opt/ml/processing/input/baseline_dataset_input', 'S3DataType': 'S3Prefix', 'S3InputMode': 'File', 'S3DataDistributionType': 'FullyReplicated', 'S3CompressionType': 'None'}}], 'ProcessingOutputConfig': {'Outputs': [{'OutputName': 'quality_check_output', 'AppManaged': False, 'S3Output': {'S3Uri': {'Std:Join': {'On': '/', 'Values': ['s3:/', 'sagemaker-us-east-1-602900100639', 'data/kkbox-customer-churn-model/quality', {'Get': 'Execution.PipelineExecutionId'}, 'dataqualitycheckstep']}}, 'LocalPath': '/opt/ml/processing/output', 'S3UploadMode': 'EndOfJob'}}]}, 'Environment': {'output_path': '/opt/ml/processing/output', 'publish_cloudwatch_metrics': 'Disabled', 'dataset_format': '{\"csv\": {\"header\": false, \"output_columns_position\": \"START\"}}', 'dataset_source': '/opt/ml/processing/input/baseline_dataset_input'}}, 'DependsOn': ['PreProcess'], 'CacheConfig': {'Enabled': True, 'ExpireAfter': 'P1M'}, 'CheckType': 'DATA_QUALITY', 'ModelPackageGroupName': 'kkbox-customer-churn-model-packages', 'SkipCheck': {'Get': 'Parameters.SkipDataQualityCheck'}, 'FailOnViolation': True, 'RegisterNewBaseline': {'Get': 'Parameters.RegisterNewDataQualityBaseline'}, 'SuppliedBaselineStatistics': {'Get': 'Parameters.DataQualitySuppliedStatistics'}, 'SuppliedBaselineConstraints': {'Get': 'Parameters.DataQualitySuppliedConstraints'}}, {'Name': 'DataBiasCheckStep', 'Type': 'ClarifyCheck', 'Arguments': {'ProcessingResources': {'ClusterConfig': {'InstanceType': 'ml.c5.xlarge', 'InstanceCount': 1, 'VolumeSizeInGB': 120}}, 'AppSpecification': {'ImageUri': '205585389593.dkr.ecr.us-east-1.amazonaws.com/sagemaker-clarify-processing:1.0'}, 'RoleArn': 'arn:aws:iam::602900100639:role/service-role/AmazonSageMaker-ExecutionRole-20221011T175650', 'ProcessingInputs': [{'InputName': 'analysis_config', 'AppManaged': False, 'S3Input': {'S3Uri': 's3://sagemaker-us-east-1-602900100639/data/kkbox-customer-churn-model/quality/databiascheckstep/analysis_cfg/analysis_config.json', 'LocalPath': '/opt/ml/processing/input/config', 'S3DataType': 'S3Prefix', 'S3InputMode': 'File', 'S3DataDistributionType': 'FullyReplicated', 'S3CompressionType': 'None'}}, {'InputName': 'dataset', 'AppManaged': False, 'S3Input': {'S3Uri': 's3://sagemaker-us-east-1-602900100639/data/kkbox-customer-churn-model/processed/train/part-00000-ed912387-b8c3-4b39-9b36-63e0e90c09f0-c000.csv', 'LocalPath': '/opt/ml/processing/input/data', 'S3DataType': 'S3Prefix', 'S3InputMode': 'File', 'S3DataDistributionType': 'FullyReplicated', 'S3CompressionType': 'None'}}], 'ProcessingOutputConfig': {'Outputs': [{'OutputName': 'analysis_result', 'AppManaged': False, 'S3Output': {'S3Uri': {'Std:Join': {'On': '/', 'Values': ['s3:/', 'sagemaker-us-east-1-602900100639', 'data/kkbox-customer-churn-model/quality', {'Get': 'Execution.PipelineExecutionId'}, 'databiascheckstep']}}, 'LocalPath': '/opt/ml/processing/output', 'S3UploadMode': 'EndOfJob'}}]}}, 'DependsOn': ['DataQualityCheckStep'], 'CacheConfig': {'Enabled': True, 'ExpireAfter': 'P1M'}, 'CheckType': 'DATA_BIAS', 'ModelPackageGroupName': 'kkbox-customer-churn-model-packages', 'SkipCheck': {'Get': 'Parameters.SkipDataBiasCheck'}, 'FailOnViolation': True, 'RegisterNewBaseline': {'Get': 'Parameters.RegisterNewDataBiasBaseline'}, 'SuppliedBaselineConstraints': {'Get': 'Parameters.DataBiasSuppliedBaselineConstraints'}}, {'Name': 'TrainModel', 'Type': 'Training', 'Arguments': {'AlgorithmSpecification': {'TrainingInputMode': 'File', 'TrainingImage': '683313688378.dkr.ecr.us-east-1.amazonaws.com/sagemaker-xgboost:1.5-1'}, 'OutputDataConfig': {'S3OutputPath': 's3://sagemaker-us-east-1-602900100639/data/kkbox-customer-churn-model/output'}, 'StoppingCondition': {'MaxRuntimeInSeconds': 86400}, 'ResourceConfig': {'VolumeSizeInGB': 10, 'InstanceCount': 1, 'InstanceType': {'Get': 'Parameters.TrainingInstanceType'}}, 'RoleArn': 'arn:aws:iam::602900100639:role/service-role/AmazonSageMaker-ExecutionRole-20221011T175650', 'InputDataConfig': [{'DataSource': {'S3DataSource': {'S3DataType': 'S3Prefix', 'S3Uri': 's3://sagemaker-us-east-1-602900100639/data/kkbox-customer-churn-model/processed/train', 'S3DataDistributionType': 'FullyReplicated'}}, 'ContentType': 'text/csv', 'ChannelName': 'train'}, {'DataSource': {'S3DataSource': {'S3DataType': 'S3Prefix', 'S3Uri': 's3://sagemaker-us-east-1-602900100639/data/kkbox-customer-churn-model/processed/test', 'S3DataDistributionType': 'FullyReplicated'}}, 'ContentType': 'text/csv', 'ChannelName': 'test'}], 'HyperParameters': {'max_depth': '5', 'eta': '0.2', 'gamma': '4', 'min_child_weight': '6', 'subsample': '0.7', 'n_estimators': '50', 'region': '\"us-east-1\"', 'sm_experiment': {'Get': 'Execution.PipelineName'}, 'sm_run': {'Get': 'Execution.PipelineExecutionId'}, 'sagemaker_submit_directory': '\"s3://sagemaker-us-east-1-602900100639/StreamingServiceChurnModelPipeline/code/ebed312a642a1939d9f4dc7ec82d7c7f/sourcedir.tar.gz\"', 'sagemaker_program': '\"train.py\"', 'sagemaker_container_log_level': '20', 'sagemaker_region': '\"us-east-1\"'}, 'Tags': [{'Key': 'sagemaker:project-id', 'Value': 'p-uyioxtplcfft'}, {'Key': 'sagemaker:project-name', 'Value': 'kkbox-customer-churn-model'}], 'DebugHookConfig': {'S3OutputPath': 's3://sagemaker-us-east-1-602900100639/data/kkbox-customer-churn-model/output', 'CollectionConfigurations': []}, 'ProfilerConfig': {'S3OutputPath': 's3://sagemaker-us-east-1-602900100639/data/kkbox-customer-churn-model/output', 'DisableProfiler': False}}, 'DependsOn': ['PreProcess'], 'CacheConfig': {'Enabled': True, 'ExpireAfter': 'P1M'}}, {'Name': 'CreateModel-CreateModel', 'Type': 'Model', 'Arguments': {'ExecutionRoleArn': 'arn:aws:iam::602900100639:role/service-role/AmazonSageMaker-ExecutionRole-20221011T175650', 'PrimaryContainer': {'Image': '683313688378.dkr.ecr.us-east-1.amazonaws.com/sagemaker-xgboost:1.5-1', 'Environment': {'SAGEMAKER_PROGRAM': 'inference.py', 'SAGEMAKER_SUBMIT_DIRECTORY': 's3://sagemaker-us-east-1-602900100639/sagemaker-xgboost-2023-02-02-18-46-31-873/sourcedir.tar.gz', 'SAGEMAKER_CONTAINER_LOG_LEVEL': '20', 'SAGEMAKER_REGION': 'us-east-1'}, 'ModelDataUrl': {'Get': 'Steps.TrainModel.ModelArtifacts.S3ModelArtifacts'}}, 'Tags': [{'Key': 'sagemaker:project-id', 'Value': 'p-uyioxtplcfft'}, {'Key': 'sagemaker:project-name', 'Value': 'kkbox-customer-churn-model'}]}}, {'Name': 'EvaluateModel', 'Type': 'Processing', 'Arguments': {'ProcessingResources': {'ClusterConfig': {'InstanceType': {'Get': 'Parameters.ProcessingInstanceType'}, 'InstanceCount': 1, 'VolumeSizeInGB': 30}}, 'AppSpecification': {'ImageUri': '683313688378.dkr.ecr.us-east-1.amazonaws.com/sagemaker-xgboost:1.5-1', 'ContainerEntrypoint': ['python3', '/opt/ml/processing/input/code/evaluate.py']}, 'RoleArn': 'arn:aws:iam::602900100639:role/service-role/AmazonSageMaker-ExecutionRole-20221011T175650', 'ProcessingInputs': [{'InputName': 'input-1', 'AppManaged': False, 'S3Input': {'S3Uri': {'Get': 'Steps.TrainModel.ModelArtifacts.S3ModelArtifacts'}, 'LocalPath': '/opt/ml/processing/model', 'S3DataType': 'S3Prefix', 'S3InputMode': 'File', 'S3DataDistributionType': 'FullyReplicated', 'S3CompressionType': 'None'}}, {'InputName': 'input-2', 'AppManaged': False, 'S3Input': {'S3Uri': 's3://sagemaker-us-east-1-602900100639/data/kkbox-customer-churn-model/processed/validation', 'LocalPath': '/opt/ml/processing/validation', 'S3DataType': 'S3Prefix', 'S3InputMode': 'File', 'S3DataDistributionType': 'FullyReplicated', 'S3CompressionType': 'None'}}, {'InputName': 'code', 'AppManaged': False, 'S3Input': {'S3Uri': 's3://sagemaker-us-east-1-602900100639/data/kkbox-customer-churn-model/code/evaluate.py', 'LocalPath': '/opt/ml/processing/input/code', 'S3DataType': 'S3Prefix', 'S3InputMode': 'File', 'S3DataDistributionType': 'FullyReplicated', 'S3CompressionType': 'None'}}], 'ProcessingOutputConfig': {'Outputs': [{'OutputName': 'evaluation', 'AppManaged': False, 'S3Output': {'S3Uri': 's3://sagemaker-us-east-1-602900100639/data/kkbox-customer-churn-model/evaluation', 'LocalPath': '/opt/ml/processing/evaluation', 'S3UploadMode': 'EndOfJob'}}]}, 'Tags': [{'Key': 'sagemaker:project-id', 'Value': 'p-uyioxtplcfft'}, {'Key': 'sagemaker:project-name', 'Value': 'kkbox-customer-churn-model'}]}, 'DependsOn': ['CreateModel-CreateModel'], 'PropertyFiles': [{'PropertyFileName': 'EvaluationReport', 'OutputName': 'evaluation', 'FilePath': 'evaluation.json'}]}, {'Name': 'CheckEvaluationScore', 'Type': 'Condition', 'Arguments': {'Conditions': [{'Type': 'GreaterThan', 'LeftValue': {'Std:JsonGet': {'PropertyFile': {'Get': 'Steps.EvaluateModel.PropertyFiles.EvaluationReport'}, 'Path': 'classification_metrics.auc_score.value'}}, 'RightValue': 0.75}], 'IfSteps': [{'Name': 'BatchTransform', 'Type': 'Transform', 'Arguments': {'ModelName': {'Get': 'Steps.CreateModel-CreateModel.ModelName'}, 'TransformInput': {'DataSource': {'S3DataSource': {'S3DataType': 'S3Prefix', 'S3Uri': 's3://sagemaker-us-east-1-602900100639/data/kkbox-customer-churn-model/processed/test'}}, 'ContentType': 'text/csv', 'SplitType': 'Line'}, 'TransformOutput': {'S3OutputPath': 's3://sagemaker-us-east-1-602900100639/data/kkbox-customer-churn-model/batch-transformed', 'AssembleWith': 'Line', 'Accept': 'text/csv'}, 'TransformResources': {'InstanceCount': 1, 'InstanceType': 'ml.m5.2xlarge'}, 'DataProcessing': {'InputFilter': '$[2:]', 'OutputFilter': '$[1,-1]', 'JoinSource': 'Input'}, 'ModelClientConfig': {'InvocationsTimeoutInSeconds': 10, 'InvocationsMaxRetries': 3}}, 'DependsOn': ['TrainModel'], 'CacheConfig': {'Enabled': True, 'ExpireAfter': 'P1M'}}, {'Name': 'ModelQualityCheckStep', 'Type': 'QualityCheck', 'Arguments': {'ProcessingResources': {'ClusterConfig': {'InstanceType': 'ml.c5.xlarge', 'InstanceCount': 1, 'VolumeSizeInGB': 120}}, 'AppSpecification': {'ImageUri': '156813124566.dkr.ecr.us-east-1.amazonaws.com/sagemaker-model-monitor-analyzer'}, 'RoleArn': 'arn:aws:iam::602900100639:role/service-role/AmazonSageMaker-ExecutionRole-20221011T175650', 'ProcessingInputs': [{'InputName': 'baseline_dataset_input', 'AppManaged': False, 'S3Input': {'S3Uri': {'Get': 'Steps.BatchTransform.TransformOutput.S3OutputPath'}, 'LocalPath': '/opt/ml/processing/input/baseline_dataset_input', 'S3DataType': 'S3Prefix', 'S3InputMode': 'File', 'S3DataDistributionType': 'FullyReplicated', 'S3CompressionType': 'None'}}], 'ProcessingOutputConfig': {'Outputs': [{'OutputName': 'quality_check_output', 'AppManaged': False, 'S3Output': {'S3Uri': {'Std:Join': {'On': '/', 'Values': ['s3:/', 'sagemaker-us-east-1-602900100639', 'data/kkbox-customer-churn-model/quality', {'Get': 'Execution.PipelineExecutionId'}, 'modelqualitycheckstep']}}, 'LocalPath': '/opt/ml/processing/output', 'S3UploadMode': 'EndOfJob'}}]}, 'Environment': {'output_path': '/opt/ml/processing/output', 'publish_cloudwatch_metrics': 'Disabled', 'dataset_format': '{\"csv\": {\"header\": false, \"output_columns_position\": \"START\"}}', 'dataset_source': '/opt/ml/processing/input/baseline_dataset_input', 'analysis_type': 'MODEL_QUALITY', 'problem_type': 'BinaryClassification', 'inference_attribute': '_c1', 'ground_truth_attribute': '_c0'}}, 'DependsOn': ['BatchTransform'], 'CacheConfig': {'Enabled': True, 'ExpireAfter': 'P1M'}, 'CheckType': 'MODEL_QUALITY', 'ModelPackageGroupName': 'kkbox-customer-churn-model-packages', 'SkipCheck': {'Get': 'Parameters.SkipModelQualityCheck'}, 'FailOnViolation': True, 'RegisterNewBaseline': {'Get': 'Parameters.RegisterNewModelQualityBaseline'}, 'SuppliedBaselineStatistics': {'Get': 'Parameters.ModelQualitySuppliedStatistics'}, 'SuppliedBaselineConstraints': {'Get': 'Parameters.ModelQualitySuppliedConstraints'}}, {'Name': 'ModelBiasCheckStep', 'Type': 'ClarifyCheck', 'Arguments': {'ProcessingResources': {'ClusterConfig': {'InstanceType': 'ml.c5.xlarge', 'InstanceCount': 1, 'VolumeSizeInGB': 120}}, 'AppSpecification': {'ImageUri': '205585389593.dkr.ecr.us-east-1.amazonaws.com/sagemaker-clarify-processing:1.0'}, 'RoleArn': 'arn:aws:iam::602900100639:role/service-role/AmazonSageMaker-ExecutionRole-20221011T175650', 'ProcessingInputs': [{'InputName': 'analysis_config', 'AppManaged': False, 'S3Input': {'S3Uri': 's3://sagemaker-us-east-1-602900100639/data/kkbox-customer-churn-model/bias/modelbiascheckstep/analysis_cfg/analysis_config.json', 'LocalPath': '/opt/ml/processing/input/config', 'S3DataType': 'S3Prefix', 'S3InputMode': 'File', 'S3DataDistributionType': 'FullyReplicated', 'S3CompressionType': 'None'}}, {'InputName': 'dataset', 'AppManaged': False, 'S3Input': {'S3Uri': 's3://sagemaker-us-east-1-602900100639/data/kkbox-customer-churn-model/processed/train', 'LocalPath': '/opt/ml/processing/input/data', 'S3DataType': 'S3Prefix', 'S3InputMode': 'File', 'S3DataDistributionType': 'FullyReplicated', 'S3CompressionType': 'None'}}], 'ProcessingOutputConfig': {'Outputs': [{'OutputName': 'analysis_result', 'AppManaged': False, 'S3Output': {'S3Uri': {'Std:Join': {'On': '/', 'Values': ['s3:/', 'sagemaker-us-east-1-602900100639', 'data/kkbox-customer-churn-model/bias', {'Get': 'Execution.PipelineExecutionId'}, 'modelbiascheckstep']}}, 'LocalPath': '/opt/ml/processing/output', 'S3UploadMode': 'EndOfJob'}}]}}, 'DependsOn': ['ModelQualityCheckStep'], 'CacheConfig': {'Enabled': True, 'ExpireAfter': 'P1M'}, 'CheckType': 'MODEL_BIAS', 'ModelPackageGroupName': 'kkbox-customer-churn-model-packages', 'SkipCheck': {'Get': 'Parameters.SkipModelBiasCheck'}, 'FailOnViolation': True, 'RegisterNewBaseline': {'Get': 'Parameters.RegisterNewModelBiasBaseline'}, 'SuppliedBaselineConstraints': {'Get': 'Parameters.ModelBiasSuppliedStatistics'}, 'ModelName': {'Get': 'Steps.CreateModel-CreateModel.ModelName'}}, {'Name': 'ModelExplainabilityCheckStep', 'Type': 'ClarifyCheck', 'Arguments': {'ProcessingResources': {'ClusterConfig': {'InstanceType': 'ml.c5.xlarge', 'InstanceCount': 1, 'VolumeSizeInGB': 120}}, 'AppSpecification': {'ImageUri': '205585389593.dkr.ecr.us-east-1.amazonaws.com/sagemaker-clarify-processing:1.0'}, 'RoleArn': 'arn:aws:iam::602900100639:role/service-role/AmazonSageMaker-ExecutionRole-20221011T175650', 'ProcessingInputs': [{'InputName': 'analysis_config', 'AppManaged': False, 'S3Input': {'S3Uri': 's3://sagemaker-us-east-1-602900100639/data/kkbox-customer-churn-model/explainability/modelexplainabilitycheckstep/analysis_cfg/analysis_config.json', 'LocalPath': '/opt/ml/processing/input/config', 'S3DataType': 'S3Prefix', 'S3InputMode': 'File', 'S3DataDistributionType': 'FullyReplicated', 'S3CompressionType': 'None'}}, {'InputName': 'dataset', 'AppManaged': False, 'S3Input': {'S3Uri': 's3://sagemaker-us-east-1-602900100639/data/kkbox-customer-churn-model/processed/validation', 'LocalPath': '/opt/ml/processing/input/data', 'S3DataType': 'S3Prefix', 'S3InputMode': 'File', 'S3DataDistributionType': 'FullyReplicated', 'S3CompressionType': 'None'}}], 'ProcessingOutputConfig': {'Outputs': [{'OutputName': 'analysis_result', 'AppManaged': False, 'S3Output': {'S3Uri': {'Std:Join': {'On': '/', 'Values': ['s3:/', 'sagemaker-us-east-1-602900100639', 'data/kkbox-customer-churn-model/explainability', {'Get': 'Execution.PipelineExecutionId'}, 'modelexplainabilitycheckstep']}}, 'LocalPath': '/opt/ml/processing/output', 'S3UploadMode': 'EndOfJob'}}]}}, 'DependsOn': ['ModelBiasCheckStep'], 'CacheConfig': {'Enabled': True, 'ExpireAfter': 'P1M'}, 'CheckType': 'MODEL_EXPLAINABILITY', 'ModelPackageGroupName': 'kkbox-customer-churn-model-packages', 'SkipCheck': {'Get': 'Parameters.SkipModelExplainabilityCheck'}, 'FailOnViolation': True, 'RegisterNewBaseline': {'Get': 'Parameters.RegisterNewModelExplainabilityBaseline'}, 'SuppliedBaselineConstraints': {'Get': 'Parameters.ModelExplainabilitySuppliedStatistics'}, 'ModelName': {'Get': 'Steps.CreateModel-CreateModel.ModelName'}}, {'Name': 'RegisterModel-RegisterModel', 'Type': 'RegisterModel', 'Arguments': {'ModelPackageGroupName': 'kkbox-customer-churn-model-packages', 'ModelMetrics': {'ModelQuality': {'Statistics': {'ContentType': 'application/json', 'S3Uri': {'Get': 'Steps.ModelQualityCheckStep.CalculatedBaselineStatistics'}}, 'Constraints': {'ContentType': 'application/json', 'S3Uri': {'Get': 'Steps.ModelQualityCheckStep.CalculatedBaselineConstraints'}}}, 'ModelDataQuality': {'Statistics': {'ContentType': 'application/json', 'S3Uri': {'Get': 'Steps.DataQualityCheckStep.CalculatedBaselineStatistics'}}, 'Constraints': {'ContentType': 'application/json', 'S3Uri': {'Get': 'Steps.DataQualityCheckStep.CalculatedBaselineConstraints'}}}, 'Bias': {'PreTrainingReport': {'ContentType': 'application/json', 'S3Uri': {'Get': 'Steps.DataBiasCheckStep.CalculatedBaselineConstraints'}}, 'PostTrainingReport': {'ContentType': 'application/json', 'S3Uri': {'Get': 'Steps.ModelBiasCheckStep.CalculatedBaselineConstraints'}}}, 'Explainability': {'Report': {'ContentType': 'application/json', 'S3Uri': {'Get': 'Steps.ModelExplainabilityCheckStep.CalculatedBaselineConstraints'}}}}, 'DriftCheckBaselines': {'ModelQuality': {'Statistics': {'ContentType': 'application/json', 'S3Uri': {'Get': 'Steps.ModelQualityCheckStep.BaselineUsedForDriftCheckStatistics'}}, 'Constraints': {'ContentType': 'application/json', 'S3Uri': {'Get': 'Steps.ModelQualityCheckStep.BaselineUsedForDriftCheckConstraints'}}}, 'ModelDataQuality': {'Statistics': {'ContentType': 'application/json', 'S3Uri': {'Get': 'Steps.DataQualityCheckStep.BaselineUsedForDriftCheckStatistics'}}, 'Constraints': {'ContentType': 'application/json', 'S3Uri': {'Get': 'Steps.DataQualityCheckStep.BaselineUsedForDriftCheckConstraints'}}}, 'Bias': {'ConfigFile': {'S3Uri': 's3://sagemaker-us-east-1-602900100639/data/kkbox-customer-churn-model/bias/modelbiascheckstep/analysis_cfg/bias-monitoring-configuration/bias-monitoring-config-2023-02-02-18-46-54-620/8275fadd-02a0-493b-acd1-d034de49018b/analysis_config.json', 'ContentType': 'application/json'}, 'PreTrainingConstraints': {'ContentType': 'application/json', 'S3Uri': {'Get': 'Steps.DataBiasCheckStep.BaselineUsedForDriftCheckConstraints'}}, 'PostTrainingConstraints': {'ContentType': 'application/json', 'S3Uri': {'Get': 'Steps.ModelBiasCheckStep.BaselineUsedForDriftCheckConstraints'}}}, 'Explainability': {'Constraints': {'ContentType': 'application/json', 'S3Uri': {'Get': 'Steps.ModelExplainabilityCheckStep.BaselineUsedForDriftCheckConstraints'}}, 'ConfigFile': {'S3Uri': 's3://sagemaker-us-east-1-602900100639/data/kkbox-customer-churn-model/explainability/modelexplainabilitycheckstep/analysis_cfg/model-explainability-monitoring-configuration/model-explainability-monitoring-config-2023-02-02-18-46-57-769/1d0d10d3-bc28-4da7-b64b-a08ff07c54be/analysis_config.json', 'ContentType': 'application/json'}}}, 'InferenceSpecification': {'Containers': [{'Image': '683313688378.dkr.ecr.us-east-1.amazonaws.com/sagemaker-xgboost:1.5-1', 'Environment': {'SAGEMAKER_PROGRAM': 'inference.py', 'SAGEMAKER_SUBMIT_DIRECTORY': 's3://sagemaker-us-east-1-602900100639/sagemaker-xgboost-2023-02-02-18-47-24-027/sourcedir.tar.gz', 'SAGEMAKER_CONTAINER_LOG_LEVEL': '20', 'SAGEMAKER_REGION': 'us-east-1'}, 'ModelDataUrl': {'Get': 'Steps.TrainModel.ModelArtifacts.S3ModelArtifacts'}, 'Framework': 'XGBOOST'}], 'SupportedContentTypes': ['text/csv'], 'SupportedResponseMIMETypes': ['text/csv'], 'SupportedRealtimeInferenceInstanceTypes': ['ml.m5.xlarge'], 'SupportedTransformInstanceTypes': ['ml.m5.xlarge']}, 'ModelApprovalStatus': {'Get': 'Parameters.ModelApprovalStatus'}}, 'DependsOn': ['ModelExplainabilityCheckStep']}], 'ElseSteps': [{'Name': 'EvalScoreFail', 'Type': 'Fail', 'Arguments': {'ErrorMessage': {'Std:Join': {'On': ' ', 'Values': ['Execution failed due to AUC Score >', 0.75]}}}}]}}]}\n"
     ]
    }
   ],
   "source": [
    "pipeline = Pipeline(\n",
    "    name=pipeline_name,\n",
    "    parameters=[\n",
    "        processing_instance_count,\n",
    "        processing_instance_type,\n",
    "        skip_check_data_quality,\n",
    "        register_new_baseline_data_quality,\n",
    "        supplied_baseline_constraints_data_bias,\n",
    "        supplied_baseline_statistics_data_quality,\n",
    "        supplied_baseline_constraints_data_quality,\n",
    "        skip_check_data_bias,\n",
    "        register_new_baseline_data_bias,\n",
    "        training_instance_type,\n",
    "        inference_instance_type,\n",
    "        skip_check_model_quality,\n",
    "        register_new_baseline_model_quality,\n",
    "        supplied_baseline_statistics_model_quality,\n",
    "        supplied_baseline_constraints_model_quality,\n",
    "        skip_check_model_bias,\n",
    "        register_new_baseline_model_bias,\n",
    "        supplied_baseline_constraints_model_bias,\n",
    "        skip_check_model_explainability,\n",
    "        register_new_baseline_model_explainability,\n",
    "        supplied_baseline_constraints_model_explainability,\n",
    "        input_data_prefix,\n",
    "        model_approval_status,\n",
    "        auc_score_threshold,\n",
    "    ],\n",
    "    steps=[step_process, \n",
    "        data_quality_check_step,\n",
    "        data_bias_check_step,\n",
    "        step_train, \n",
    "        step_create_model,\n",
    "        step_eval, \n",
    "        step_cond\n",
    "    ]\n",
    ") \n",
    "\n",
    "definition = json.loads(pipeline.definition())\n",
    "print(definition)"
   ]
  },
  {
   "cell_type": "markdown",
   "id": "72662bb6-fd32-4692-9586-18de03772d1c",
   "metadata": {},
   "source": [
    "# Start a Pipeline Execution"
   ]
  },
  {
   "cell_type": "code",
   "execution_count": 52,
   "id": "5a75d5ea-203f-479c-9ac3-78d03ae4bdeb",
   "metadata": {},
   "outputs": [
    {
     "data": {
      "text/plain": [
       "{'PipelineArn': 'arn:aws:sagemaker:us-east-1:602900100639:pipeline/streamingservicechurnmodelpipeline',\n",
       " 'ResponseMetadata': {'RequestId': 'aeba6276-ae66-41a0-bc90-cb741d6eaf9e',\n",
       "  'HTTPStatusCode': 200,\n",
       "  'HTTPHeaders': {'x-amzn-requestid': 'aeba6276-ae66-41a0-bc90-cb741d6eaf9e',\n",
       "   'content-type': 'application/x-amz-json-1.1',\n",
       "   'content-length': '102',\n",
       "   'date': 'Thu, 02 Feb 2023 19:15:07 GMT'},\n",
       "  'RetryAttempts': 0}}"
      ]
     },
     "execution_count": 52,
     "metadata": {},
     "output_type": "execute_result"
    }
   ],
   "source": [
    "# Create a new or update existing Pipeline\n",
    "pipeline.upsert(role_arn=role)"
   ]
  },
  {
   "cell_type": "code",
   "execution_count": 53,
   "id": "f27c9793-5bd7-4ed8-81b6-cd63226f5ef2",
   "metadata": {},
   "outputs": [
    {
     "data": {
      "text/plain": [
       "_PipelineExecution(arn='arn:aws:sagemaker:us-east-1:602900100639:pipeline/streamingservicechurnmodelpipeline/execution/59twe0l2n79i', sagemaker_session=<sagemaker.session.Session object at 0x7f73275ac590>)"
      ]
     },
     "execution_count": 53,
     "metadata": {},
     "output_type": "execute_result"
    }
   ],
   "source": [
    "pipeline.start(parameters=dict(\n",
    "    SkipDataQualityCheck=True,\n",
    "    RegisterNewDataQualityBaseline=True,\n",
    "    SkipDataBiasCheck=True,\n",
    "    RegisterNewDataBiasBaseline=True))\n"
   ]
  },
  {
   "cell_type": "code",
   "execution_count": null,
   "id": "fb941ca0-dbc3-47e6-a6e0-08c8a2017d6c",
   "metadata": {},
   "outputs": [],
   "source": []
  },
  {
   "cell_type": "code",
   "execution_count": null,
   "id": "7b56492c-1c0c-4bfc-beac-38b9c31e6f9f",
   "metadata": {},
   "outputs": [],
   "source": []
  }
 ],
 "metadata": {
  "instance_type": "ml.m5.2xlarge",
  "kernelspec": {
   "display_name": "Python 3 (Data Science)",
   "language": "python",
   "name": "python3__SAGEMAKER_INTERNAL__arn:aws:sagemaker:us-east-1:081325390199:image/datascience-1.0"
  },
  "language_info": {
   "codemirror_mode": {
    "name": "ipython",
    "version": 3
   },
   "file_extension": ".py",
   "mimetype": "text/x-python",
   "name": "python",
   "nbconvert_exporter": "python",
   "pygments_lexer": "ipython3",
   "version": "3.7.10"
  }
 },
 "nbformat": 4,
 "nbformat_minor": 5
}
