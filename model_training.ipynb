{
 "cells": [
  {
   "cell_type": "code",
   "execution_count": 4,
   "id": "194db36a-c87a-4bae-a83a-59129c73bcfc",
   "metadata": {
    "tags": []
   },
   "outputs": [
    {
     "name": "stdout",
     "output_type": "stream",
     "text": [
      "Keyring is skipped due to an exception: 'keyring.backends'\n",
      "Collecting xgboost\n",
      "  Downloading xgboost-1.6.2-py3-none-manylinux2014_x86_64.whl (255.9 MB)\n",
      "\u001b[2K     \u001b[90m━━━━━━━━━━━━━━━━━━━━━━━━━━━━━━━━━━━━━━━\u001b[0m \u001b[32m255.9/255.9 MB\u001b[0m \u001b[31m3.4 MB/s\u001b[0m eta \u001b[36m0:00:00\u001b[0m00:01\u001b[0m00:01\u001b[0m\n",
      "\u001b[?25hRequirement already satisfied: scipy in /opt/conda/lib/python3.7/site-packages (from xgboost) (1.4.1)\n",
      "Requirement already satisfied: numpy in /opt/conda/lib/python3.7/site-packages (from xgboost) (1.21.6)\n",
      "Installing collected packages: xgboost\n",
      "Successfully installed xgboost-1.6.2\n",
      "\u001b[33mWARNING: Running pip as the 'root' user can result in broken permissions and conflicting behaviour with the system package manager. It is recommended to use a virtual environment instead: https://pip.pypa.io/warnings/venv\u001b[0m\u001b[33m\n",
      "\u001b[0m"
     ]
    }
   ],
   "source": [
    "!pip install xgboost"
   ]
  },
  {
   "cell_type": "code",
   "execution_count": 5,
   "id": "49ebee1c-4d69-43a6-bcfe-8a6c7ada336e",
   "metadata": {
    "tags": []
   },
   "outputs": [],
   "source": [
    "import pandas as pd\n",
    "from xgboost import XGBClassifier"
   ]
  },
  {
   "cell_type": "code",
   "execution_count": 7,
   "id": "ea1bd36c-6c1b-4ec7-b904-6440128263dc",
   "metadata": {
    "tags": []
   },
   "outputs": [],
   "source": [
    "train_df = pd.read_csv('s3://sagemaker-us-east-1-602900100639/data/kkbox-customer-churn-model/processed/train/part-00000-bbef07c9-1304-47fa-8f34-2c2fbb5257fe-c000.csv', \n",
    "                       names=['msno', 'is_churn', 'regist_trans', 'mst_frq_plan_days', 'revenue', 'regist_cancels', 'bd', 'tenure', 'num_25', 'num_50', 'num_75', 'num_985', 'num_100', 'num_unq', 'total_secs', 'city', 'gender', 'registered_via', 'qtr_trans', 'mst_frq_pay_met', 'is_auto_renew'])\n",
    "test_df = pd.read_csv('s3://sagemaker-us-east-1-602900100639/data/kkbox-customer-churn-model/processed/test/part-00000-064760ee-4efc-4e0b-8122-e787e54232bd-c000.csv',\n",
    "                      names=['msno', 'is_churn', 'regist_trans', 'mst_frq_plan_days', 'revenue', 'regist_cancels', 'bd', 'tenure', 'num_25', 'num_50', 'num_75', 'num_985', 'num_100', 'num_unq', 'total_secs', 'city', 'gender', 'registered_via', 'qtr_trans', 'mst_frq_pay_met', 'is_auto_renew'])"
   ]
  },
  {
   "cell_type": "code",
   "execution_count": 17,
   "id": "1f362766-aedf-4746-82e0-ee78d0c936b3",
   "metadata": {
    "tags": []
   },
   "outputs": [],
   "source": [
    "model = XGBClassifier()"
   ]
  },
  {
   "cell_type": "code",
   "execution_count": 18,
   "id": "7c86512f-58f3-4614-878f-aa5ca4b60bcf",
   "metadata": {
    "tags": []
   },
   "outputs": [],
   "source": [
    "x = train_df.drop([\"msno\"],axis=1).iloc[:, 1:]\n",
    "y = train_df.loc[:, \"is_churn\"]"
   ]
  },
  {
   "cell_type": "code",
   "execution_count": 19,
   "id": "a2419e58-85a6-4752-8aa0-e750e54a8a73",
   "metadata": {
    "tags": []
   },
   "outputs": [
    {
     "data": {
      "text/plain": [
       "XGBClassifier(base_score=0.5, booster='gbtree', callbacks=None,\n",
       "              colsample_bylevel=1, colsample_bynode=1, colsample_bytree=1,\n",
       "              early_stopping_rounds=None, enable_categorical=False,\n",
       "              eval_metric=None, gamma=0, gpu_id=-1, grow_policy='depthwise',\n",
       "              importance_type=None, interaction_constraints='',\n",
       "              learning_rate=0.300000012, max_bin=256, max_cat_to_onehot=4,\n",
       "              max_delta_step=0, max_depth=6, max_leaves=0, min_child_weight=1,\n",
       "              missing=nan, monotone_constraints='()', n_estimators=100,\n",
       "              n_jobs=0, num_parallel_tree=1, objective='binary:logistic',\n",
       "              predictor='auto', random_state=0, reg_alpha=0, ...)"
      ]
     },
     "execution_count": 19,
     "metadata": {},
     "output_type": "execute_result"
    }
   ],
   "source": [
    "model.fit(x,y)"
   ]
  },
  {
   "cell_type": "code",
   "execution_count": 24,
   "id": "1e1fa151-3779-4520-96fe-c3e535662d52",
   "metadata": {
    "tags": []
   },
   "outputs": [],
   "source": [
    "from sklearn.metrics import confusion_matrix\n",
    "from sklearn.metrics import classification_report\n",
    "from sklearn.metrics import accuracy_score\n",
    "from sklearn.metrics import precision_score\n",
    "from sklearn.metrics import recall_score\n",
    "from sklearn.metrics import f1_score\n",
    "from sklearn.metrics import roc_auc_score\n",
    "import numpy as np"
   ]
  },
  {
   "cell_type": "code",
   "execution_count": 25,
   "id": "b6e0fc81-c085-4c7e-b22f-1e9a19912616",
   "metadata": {
    "tags": []
   },
   "outputs": [],
   "source": [
    "x_test = test_df.drop([\"msno\"],axis=1).iloc[:, 1:]\n",
    "y_test = test_df.loc[:, \"is_churn\"]"
   ]
  },
  {
   "cell_type": "code",
   "execution_count": 26,
   "id": "b9336073-d95d-40f1-9ea8-593162a48f1e",
   "metadata": {
    "tags": []
   },
   "outputs": [],
   "source": [
    "y_pred = model.predict(x_test)\n",
    "y_pred_proba=model.predict_proba(x_test)[:,1]"
   ]
  },
  {
   "cell_type": "code",
   "execution_count": 27,
   "id": "994fe8c1-aa7c-47c2-9c57-da315a3520f1",
   "metadata": {
    "tags": []
   },
   "outputs": [
    {
     "name": "stdout",
     "output_type": "stream",
     "text": [
      "\n",
      "Confusion Matrix\n",
      "[[158833  26995]\n",
      " [   608  12053]]\n",
      "\n",
      "Scores\n",
      "------------------------\n",
      "AUC: 96.12 %\n",
      "Accuracy: 86.09 %\n",
      "Precision: 30.87 %\n",
      "Recall: 95.2 %\n",
      "F1 score: 46.62\n"
     ]
    }
   ],
   "source": [
    "#Printing Metrics\n",
    "\n",
    "print('\\nConfusion Matrix')\n",
    "print(confusion_matrix(y_test, y_pred))\n",
    "\n",
    "\n",
    "print('\\nScores')\n",
    "print('------------------------')\n",
    "print('AUC:',np.round(roc_auc_score(y_test,y_pred_proba)*100,2),'%')\n",
    "print('Accuracy:',np.round(accuracy_score(y_test,y_pred)*100,2),'%')\n",
    "print('Precision:',np.round(precision_score(y_test,y_pred)*100,2),'%')\n",
    "print('Recall:',np.round(recall_score(y_test,y_pred)*100,2),'%')\n",
    "print('F1 score:',np.round(f1_score(y_test,y_pred)*100,2))"
   ]
  },
  {
   "cell_type": "code",
   "execution_count": null,
   "id": "451d00a7-6d89-4bba-946e-90de0d7a7675",
   "metadata": {},
   "outputs": [],
   "source": []
  }
 ],
 "metadata": {
  "instance_type": "ml.m5.8xlarge",
  "kernelspec": {
   "display_name": "Python 3 (Data Science)",
   "language": "python",
   "name": "python3__SAGEMAKER_INTERNAL__arn:aws:sagemaker:us-east-1:081325390199:image/datascience-1.0"
  },
  "language_info": {
   "codemirror_mode": {
    "name": "ipython",
    "version": 3
   },
   "file_extension": ".py",
   "mimetype": "text/x-python",
   "name": "python",
   "nbconvert_exporter": "python",
   "pygments_lexer": "ipython3",
   "version": "3.7.10"
  }
 },
 "nbformat": 4,
 "nbformat_minor": 5
}
